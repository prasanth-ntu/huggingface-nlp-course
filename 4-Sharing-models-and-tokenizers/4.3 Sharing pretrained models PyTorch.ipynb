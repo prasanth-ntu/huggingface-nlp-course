{
 "cells": [
  {
   "cell_type": "markdown",
   "metadata": {
    "id": "JEjCatjgHYNB"
   },
   "source": [
    "# Sharing pretrained models (PyTorch)"
   ]
  },
  {
   "cell_type": "markdown",
   "metadata": {
    "id": "af9GSV_CHYND"
   },
   "source": [
    "Install the Transformers, Datasets, and Evaluate libraries to run this notebook."
   ]
  },
  {
   "cell_type": "code",
   "execution_count": 2,
   "metadata": {
    "ExecuteTime": {
     "end_time": "2023-07-15T11:06:39.931983Z",
     "start_time": "2023-07-15T11:06:39.921762Z"
    },
    "id": "b97_mRvLHYND"
   },
   "outputs": [],
   "source": [
    "# !pip install datasets evaluate transformers[sentencepiece]\n",
    "# !apt install git-lfs"
   ]
  },
  {
   "cell_type": "markdown",
   "metadata": {},
   "source": [
    "In the steps below, we’ll take a look at the easiest ways to share pretrained models to the 🤗 Hub. There are tools and utilities available that make it simple to share and update models directly on the Hub, which we will explore below."
   ]
  },
  {
   "cell_type": "markdown",
   "metadata": {},
   "source": [
    "We encourage all users that train models to contribute by sharing them with the community — sharing models, even when trained on very specific datasets, will help others, saving them time and compute resources and providing access to useful trained artifacts. In turn, you can benefit from the work that others have done!\n",
    "\n",
    "There are three ways to go about creating new model repositories:\n",
    "\n",
    "- Using the `push_to_hub` API\n",
    "- Using the `huggingface_hub` Python library\n",
    "- Using the web interface\n",
    "\n",
    "Once you’ve created a repository, you can upload files to it via git and git-lfs. We’ll walk you through creating model repositories and uploading files to them in the following sections"
   ]
  },
  {
   "cell_type": "markdown",
   "metadata": {
    "id": "E9OrGgyIHYNE"
   },
   "source": [
    "You will need to setup git, adapt your email and name in the following cell."
   ]
  },
  {
   "cell_type": "code",
   "execution_count": null,
   "metadata": {
    "id": "jTidfJUSHYNE"
   },
   "outputs": [],
   "source": [
    "!git config --global user.email \"you@example.com\"\n",
    "!git config --global user.name \"Your Name\""
   ]
  },
  {
   "cell_type": "markdown",
   "metadata": {},
   "source": [
    "## Using the `push_to_hub` API"
   ]
  },
  {
   "cell_type": "markdown",
   "metadata": {},
   "source": [
    "The simplest way to upload files to the Hub is by leveraging the push_to_hub API.\n",
    "\n",
    "Before going further, you’ll need to generate an authentication token so that the `huggingface_hub` API knows who you are and what namespaces you have write access to. Make sure you are in an environment where you have `transformers` installed (see [Setup](https://huggingface.co/course/chapter0)). If you are in a notebook, you can use the following function to login:"
   ]
  },
  {
   "cell_type": "markdown",
   "metadata": {
    "id": "4uX2gmKtHYNF"
   },
   "source": [
    "You will also need to be logged in to the Hugging Face Hub. Execute the following and enter your credentials."
   ]
  },
  {
   "cell_type": "code",
   "execution_count": null,
   "metadata": {
    "id": "ei_46_2vHYNF"
   },
   "outputs": [],
   "source": [
    "from huggingface_hub import notebook_login\n",
    "\n",
    "notebook_login()"
   ]
  },
  {
   "cell_type": "markdown",
   "metadata": {
    "id": "QseRzxb5HYNF"
   },
   "source": [
    "In a terminal, you can run:\n",
    "```huggingface-cli login```"
   ]
  },
  {
   "cell_type": "markdown",
   "metadata": {},
   "source": [
    "In both cases, you should be prompted for your username and password, which are the same ones you use to log in to the Hub. If you do not have a Hub profile yet, you should create one [here](https://huggingface.co/join).\n",
    "\n",
    "Great! You now have your authentication token stored in your cache folder. Let’s create some repositories!\n",
    "\n",
    "If you have played around with the `Trainer` API to train a model, the easiest way to upload it to the Hub is to set `push_to_hub=True` when you define your TrainingArguments:"
   ]
  },
  {
   "cell_type": "code",
   "execution_count": null,
   "metadata": {
    "id": "s0d2cbyCHYNF"
   },
   "outputs": [],
   "source": [
    "from transformers import TrainingArguments\n",
    "\n",
    "training_args = TrainingArguments(\n",
    "    \"bert-finetuned-mrpc\", save_strategy=\"epoch\", push_to_hub=True\n",
    ")"
   ]
  },
  {
   "cell_type": "markdown",
   "metadata": {},
   "source": [
    "When you call `trainer.train()`, the `Trainer` will then upload your model to the Hub each time it is saved (here every epoch) in a repository in your namespace. That repository will be named like the output directory you picked (here `bert-finetuned-mrpc`) but you can choose a different name with `hub_model_id = \"a_different_name\"`.\n",
    "\n",
    "To upload your model to an organization you are a member of, just pass it with `hub_model_id = \"my_organization/my_repo_name\"`.\n",
    "\n",
    "Once your training is finished, you should do a final `trainer.push_to_hub()` to upload the last version of your model. It will also generate a model card with all the relevant metadata, reporting the hyperparameters used and the evaluation results! Here is an example of the content you might find in a such a model card:"
   ]
  },
  {
   "cell_type": "markdown",
   "metadata": {},
   "source": [
    "AWS sagemaker GPU details while training: <img src=\"https://huggingface.co/datasets/huggingface-course/documentation-images/resolve/main/en/chapter4/model_card.png\" style=\"width:650px;\" title=\"model card\">\n"
   ]
  },
  {
   "cell_type": "markdown",
   "metadata": {},
   "source": [
    "At a lower level, accessing the Model Hub can be done directly on models, tokenizers, and configuration objects via their `push_to_hub()` method. This method takes care of both the repository creation and pushing the model and tokenizer files directly to the repository. No manual handling is required, unlike with the API we’ll see below.\n",
    "\n",
    "To get an idea of how it works, let’s first initialize a model and a tokenizer:"
   ]
  },
  {
   "cell_type": "code",
   "execution_count": null,
   "metadata": {
    "id": "pqYq7ZyXHYNG"
   },
   "outputs": [],
   "source": [
    "from transformers import AutoModelForMaskedLM, AutoTokenizer\n",
    "\n",
    "checkpoint = \"camembert-base\"\n",
    "\n",
    "model = AutoModelForMaskedLM.from_pretrained(checkpoint)\n",
    "tokenizer = AutoTokenizer.from_pretrained(checkpoint)"
   ]
  },
  {
   "cell_type": "markdown",
   "metadata": {},
   "source": [
    "You’re free to do whatever you want with these — add tokens to the tokenizer, train the model, fine-tune it. Once you’re happy with the resulting model, weights, and tokenizer, you can leverage the `push_to_hub()` method directly available on the model object:"
   ]
  },
  {
   "cell_type": "code",
   "execution_count": null,
   "metadata": {
    "id": "kyJcgcAdHYNG"
   },
   "outputs": [],
   "source": [
    "model.push_to_hub(\"dummy-model\")"
   ]
  },
  {
   "cell_type": "markdown",
   "metadata": {},
   "source": [
    "This will create the new repository `dummy-model` in your profile, and populate it with your model files. Do the same with the tokenizer, so that all the files are now available in this repository:"
   ]
  },
  {
   "cell_type": "code",
   "execution_count": null,
   "metadata": {
    "id": "-5_IV821HYNG"
   },
   "outputs": [],
   "source": [
    "tokenizer.push_to_hub(\"dummy-model\")"
   ]
  },
  {
   "cell_type": "markdown",
   "metadata": {},
   "source": [
    "If you belong to an organization, simply specify the `organization` argument to upload to that organization’s namespace:"
   ]
  },
  {
   "cell_type": "code",
   "execution_count": null,
   "metadata": {
    "id": "x4V63NVJHYNG"
   },
   "outputs": [],
   "source": [
    "tokenizer.push_to_hub(\"dummy-model\", organization=\"huggingface\")"
   ]
  },
  {
   "cell_type": "markdown",
   "metadata": {},
   "source": [
    "If you wish to use a specific Hugging Face token, you’re free to specify it to the `push_to_hub()` method as well:"
   ]
  },
  {
   "cell_type": "code",
   "execution_count": null,
   "metadata": {
    "id": "M9DA0qybHYNG"
   },
   "outputs": [],
   "source": [
    "tokenizer.push_to_hub(\"dummy-model\", organization=\"huggingface\", use_auth_token=\"<TOKEN>\")"
   ]
  },
  {
   "cell_type": "markdown",
   "metadata": {},
   "source": [
    "Now head to the Model Hub to find your newly uploaded model: https://huggingface.co/user-or-organization/dummy-model.\n",
    "\n",
    "Click on the “Files and versions” tab, and you should see the files visible in the following screenshot:\n",
    "\n",
    "AWS sagemaker GPU details while training: <img src=\"https://huggingface.co/datasets/huggingface-course/documentation-images/resolve/main/en/chapter4/push_to_hub_dummy_model.png\" style=\"width:650px;\" title=\"push_to_hub_dummy_model\">"
   ]
  },
  {
   "cell_type": "markdown",
   "metadata": {},
   "source": [
    "> ✏️ Try it out! Take the model and tokenizer associated with the bert-base-cased checkpoint and upload them to a repo in your namespace using the `push_to_hub()` method. Double-check that the repo appears properly on your page before deleting it.\n",
    "\n",
    "As you’ve seen, the `push_to_hub()` method accepts several arguments, making it possible to upload to a specific repository or organization namespace, or to use a different API token. We recommend you take a look at the method specification available directly in the [🤗 Transformers documentation](https://huggingface.co/transformers/model_sharing.html) to get an idea of what is possible.\n",
    "\n",
    "The `push_to_hub()` method is backed by the [`huggingface_hub`](https://github.com/huggingface/huggingface_hub) Python package, which offers a direct API to the Hugging Face Hub. It’s integrated within 🤗 Transformers and several other machine learning libraries, like [`allenlp`](https://github.com/allenai/allennlp_). Although we focus on the 🤗 Transformers integration in this chapter, integrating it into your own code or library is simple.\n",
    "\n",
    "Jump to the last section to see how to upload files to your newly created repository!"
   ]
  },
  {
   "cell_type": "markdown",
   "metadata": {},
   "source": [
    "## Using the huggingface_hub Python library"
   ]
  },
  {
   "cell_type": "markdown",
   "metadata": {},
   "source": [
    "The `huggingface_hub` Python library is a package which offers a set of tools for the model and datasets hubs. It provides simple methods and classes for common tasks like getting information about repositories on the hub and managing them. It provides simple APIs that work on top of git to manage those repositories’ content and to integrate the Hub in your projects and libraries.\n",
    "\n",
    "Similarly to using the `push_to_hub` API, this will require you to have your API token saved in your cache. In order to do this, you will need to use the login command from the CLI, as mentioned in the previous section (again, make sure to prepend these commands with the ! character if running in Google Colab):\n",
    "\n",
    "```huggingface-cli login```\n",
    "\n",
    "The huggingface_hub package offers several methods and classes which are useful for our purpose. Firstly, there are a few methods to manage repository creation, deletion, and others:"
   ]
  },
  {
   "cell_type": "code",
   "execution_count": null,
   "metadata": {
    "id": "MKUx6cFdHYNG"
   },
   "outputs": [],
   "source": [
    "from huggingface_hub import (\n",
    "    # User management\n",
    "    login,\n",
    "    logout,\n",
    "    whoami,\n",
    "\n",
    "    # Repository creation and management\n",
    "    create_repo,\n",
    "    delete_repo,\n",
    "    update_repo_visibility,\n",
    "\n",
    "    # And some methods to retrieve/change information about the content\n",
    "    list_models,\n",
    "    list_datasets,\n",
    "    list_metrics,\n",
    "    list_repo_files,\n",
    "    upload_file,\n",
    "    delete_file,\n",
    ")"
   ]
  },
  {
   "cell_type": "markdown",
   "metadata": {},
   "source": [
    "Additionally, it offers the very powerful `Repository` class to manage a local repository. We will explore these methods and that class in the next few section to understand how to leverage them.\n",
    "\n",
    "The `create_repo` method can be used to create a new repository on the hub:"
   ]
  },
  {
   "cell_type": "code",
   "execution_count": null,
   "metadata": {
    "id": "a9t54L8VHYNG"
   },
   "outputs": [],
   "source": [
    "from huggingface_hub import create_repo\n",
    "\n",
    "create_repo(\"dummy-model\")"
   ]
  },
  {
   "cell_type": "markdown",
   "metadata": {},
   "source": [
    "This will create the repository `dummy-model` in your namespace. If you like, you can specify which organization the repository should belong to using the `organization` argument:"
   ]
  },
  {
   "cell_type": "code",
   "execution_count": null,
   "metadata": {
    "id": "ls0HNVpSHYNG"
   },
   "outputs": [],
   "source": [
    "from huggingface_hub import create_repo\n",
    "\n",
    "create_repo(\"dummy-model\", organization=\"huggingface\")"
   ]
  },
  {
   "cell_type": "markdown",
   "metadata": {},
   "source": [
    "This will create the dummy-model repository in the `huggingface` namespace, assuming you belong to that organization. Other arguments which may be useful are:\n",
    "\n",
    "- `private`, in order to specify if the repository should be visible from others or not.\n",
    "- `token`, if you would like to override the token stored in your cache by a given token.\n",
    "- `repo_type`, if you would like to create a dataset or a space instead of a model. Accepted values are `\"dataset\"` and `\"space\"`.\n",
    "- Once the repository is created, we should add files to it! Jump to the next section to see the three ways this can be handled."
   ]
  },
  {
   "cell_type": "markdown",
   "metadata": {},
   "source": [
    "## Using the web interface"
   ]
  },
  {
   "cell_type": "markdown",
   "metadata": {},
   "source": [
    "The web interface offers tools to manage repositories directly in the Hub. Using the interface, you can easily create repositories, add files (even large ones!), explore models, visualize diffs, and much more.\n",
    "\n",
    "To create a new repository, visit [huggingface.co/new](https://huggingface.co/new):"
   ]
  },
  {
   "cell_type": "markdown",
   "metadata": {},
   "source": [
    "<img src=\"https://huggingface.co/datasets/huggingface-course/documentation-images/resolve/main/en/chapter4/new_model.png\" style=\"width:550px;\" title=\"new_model\">"
   ]
  },
  {
   "cell_type": "markdown",
   "metadata": {},
   "source": [
    "First, specify the owner of the repository: this can be either you or any of the organizations you’re affiliated with. If you choose an organization, the model will be featured on the organization’s page and every member of the organization will have the ability to contribute to the repository.\n",
    "\n",
    "Next, enter your model’s name. This will also be the name of the repository. Finally, you can specify whether you want your model to be public or private. Private models are hidden from public view.\n",
    "\n",
    "After creating your model repository, you should see a page like this:"
   ]
  },
  {
   "cell_type": "markdown",
   "metadata": {},
   "source": [
    "<img src=\"https://huggingface.co/datasets/huggingface-course/documentation-images/resolve/main/en/chapter4/empty_model.png\" style=\"width:750px;\" title=\"empty model\">"
   ]
  },
  {
   "attachments": {},
   "cell_type": "markdown",
   "metadata": {},
   "source": [
    "This is where your model will be hosted. To start populating it, you can add a README file directly from the web interface.\n",
    "\n",
    "<img src=\"https://huggingface.co/datasets/huggingface-course/documentation-images/resolve/main/en/chapter4/dummy_model.png\" style=\"width:750px;\" title=\"dummy model\">"
   ]
  },
  {
   "cell_type": "markdown",
   "metadata": {},
   "source": [
    "The README file is in Markdown — feel free to go wild with it! The third part of this chapter is dedicated to building a model card. These are of prime importance in bringing value to your model, as they’re where you tell others what it can do.\n",
    "\n",
    "If you look at the “Files and versions” tab, you’ll see that there aren’t many files there yet — just the <i>README.md</i> you just created and the <i>.gitattributes</i> file that keeps track of large files.\n",
    "\n",
    "<img src=\"https://huggingface.co/datasets/huggingface-course/documentation-images/resolve/main/en/chapter4/files.png\" style=\"width:750px;\" title=\"files\">\n",
    "\n",
    "We’ll take a look at how to add some new files next."
   ]
  },
  {
   "cell_type": "markdown",
   "metadata": {},
   "source": [
    "## Uploading the model files"
   ]
  },
  {
   "cell_type": "markdown",
   "metadata": {},
   "source": [
    "The system to manage files on the Hugging Face Hub is based on git for regular files, and git-lfs (which stands for [Git Large File Storage](https://git-lfs.github.com/)) for larger files.\n",
    "\n",
    "In the next section, we go over three different ways of uploading files to the Hub: through `huggingface_hub` and through git commands."
   ]
  },
  {
   "cell_type": "markdown",
   "metadata": {},
   "source": [
    "### The `upload_file` approach"
   ]
  },
  {
   "cell_type": "markdown",
   "metadata": {},
   "source": [
    "Using `upload_file` does not require git and git-lfs to be installed on your system. It pushes files directly to the 🤗 Hub using HTTP POST requests. A limitation of this approach is that it doesn’t handle files that are larger than 5GB in size. If your files are larger than 5GB, please follow the two other methods detailed below.\n",
    "\n",
    "The API may be used as follows:"
   ]
  },
  {
   "cell_type": "code",
   "execution_count": null,
   "metadata": {
    "id": "_nee6QT2HYNG"
   },
   "outputs": [],
   "source": [
    "from huggingface_hub import upload_file\n",
    "\n",
    "upload_file(\n",
    "    \"<path_to_file>/config.json\",\n",
    "    path_in_repo=\"config.json\",\n",
    "    repo_id=\"<namespace>/dummy-model\",\n",
    ")"
   ]
  },
  {
   "cell_type": "markdown",
   "metadata": {},
   "source": [
    "his will upload the file `config.json` available at `<path_to_file>` to the root of the repository as `config.json`, to the `dummy-model` repository. Other arguments which may be useful are:\n",
    "\n",
    "- `token`, if you would like to override the token stored in your cache by a given token.\n",
    "- `repo_type`, if you would like to upload to a dataset or a space instead of a model. Accepted values are `\"dataset\"` and `\"space\"`."
   ]
  },
  {
   "cell_type": "markdown",
   "metadata": {},
   "source": [
    "### The Repository class"
   ]
  },
  {
   "cell_type": "markdown",
   "metadata": {},
   "source": [
    "The `Repository` class manages a local repository in a git-like manner. It abstracts most of the pain points one may have with git to provide all features that we require.\n",
    "\n",
    "Using this class requires having git and git-lfs installed, so make sure you have git-lfs installed (see [here](https://git-lfs.github.com/) for installation instructions) and set up before you begin.\n",
    "\n",
    "In order to start playing around with the repository we have just created, we can start by initialising it into a local folder by cloning the remote repository:"
   ]
  },
  {
   "cell_type": "code",
   "execution_count": null,
   "metadata": {
    "id": "Lliwcw_vHYNH"
   },
   "outputs": [],
   "source": [
    "from huggingface_hub import Repository\n",
    "\n",
    "repo = Repository(\"<path_to_dummy_folder>\", clone_from=\"<namespace>/dummy-model\")"
   ]
  },
  {
   "cell_type": "markdown",
   "metadata": {},
   "source": [
    "This created the folder `<path_to_dummy_folder>` in our working directory. This folder only contains the `.gitattributes` file as that’s the only file created when instantiating the repository through `create_repo`.\n",
    "\n",
    "From this point on, we may leverage several of the traditional git methods:"
   ]
  },
  {
   "cell_type": "code",
   "execution_count": null,
   "metadata": {
    "id": "Xmt6SBmaHYNH"
   },
   "outputs": [],
   "source": [
    "repo.git_pull()\n",
    "repo.git_add()\n",
    "repo.git_commit()\n",
    "repo.git_push()\n",
    "repo.git_tag()"
   ]
  },
  {
   "cell_type": "markdown",
   "metadata": {},
   "source": [
    "And others! We recommend taking a look at the Repository documentation available [here](https://github.com/huggingface/huggingface_hub/tree/main/src/huggingface_hub#advanced-programmatic-repository-management) for an overview of all available methods.\n",
    "\n",
    "At present, we have a model and a tokenizer that we would like to push to the hub. We have successfully cloned the repository, we can therefore save the files within that repository.\n",
    "\n",
    "We first make sure that our local clone is up to date by pulling the latest changes:"
   ]
  },
  {
   "cell_type": "code",
   "execution_count": null,
   "metadata": {
    "id": "Kx4ME2-EHYNH"
   },
   "outputs": [],
   "source": [
    "repo.git_pull()"
   ]
  },
  {
   "cell_type": "markdown",
   "metadata": {},
   "source": [
    "Once that is done, we save the model and tokenizer files:"
   ]
  },
  {
   "cell_type": "code",
   "execution_count": null,
   "metadata": {
    "id": "Td4UL1DWHYNH"
   },
   "outputs": [],
   "source": [
    "model.save_pretrained(\"<path_to_dummy_folder>\")\n",
    "tokenizer.save_pretrained(\"<path_to_dummy_folder>\")"
   ]
  },
  {
   "cell_type": "markdown",
   "metadata": {},
   "source": [
    "The `<path_to_dummy_folder>` now contains all the model and tokenizer files. We follow the usual git workflow by adding files to the staging area, committing them and pushing them to the hub:"
   ]
  },
  {
   "cell_type": "code",
   "execution_count": null,
   "metadata": {
    "id": "K_8pexCjHYNH"
   },
   "outputs": [],
   "source": [
    "repo.git_add()\n",
    "repo.git_commit(\"Add model and tokenizer files\")\n",
    "repo.git_push()"
   ]
  },
  {
   "cell_type": "markdown",
   "metadata": {},
   "source": [
    "Congratulations! You just pushed your first files on the hub."
   ]
  },
  {
   "cell_type": "markdown",
   "metadata": {},
   "source": [
    "### The git-based approach"
   ]
  },
  {
   "cell_type": "markdown",
   "metadata": {},
   "source": [
    "This is the very barebones approach to uploading files: we’ll do so with git and git-lfs directly. Most of the difficulty is abstracted away by previous approaches, but there are a few caveats with the following method so we’ll follow a more complex use-case.\n",
    "\n",
    "Using this class requires having git and git-lfs installed, so make sure you have [git-lfs](https://git-lfs.github.com/) installed (see here for installation instructions) and set up before you begin.\n",
    "\n",
    "First start by initializing git-lfs:"
   ]
  },
  {
   "cell_type": "markdown",
   "metadata": {},
   "source": [
    "```bash\n",
    "$ git lfs install\n",
    "Updated git hooks.\n",
    "Git LFS initialized.\n",
    "```\n",
    "\n",
    "Once that’s done, the first step is to clone your model repository:\n",
    "\n",
    "```bash\n",
    "$ git clone https://huggingface.co/<namespace>/<your-model-id>\n",
    "```\n",
    "\n",
    "My username is `lysandre` and I’ve used the model name `dummy`, so for me the command ends up looking like the following:\n",
    "\n",
    "```bash\n",
    "$ git clone https://huggingface.co/lysandre/dummy`\n",
    "```\n",
    "\n",
    "I now have a folder named <i>dummy</i> in my working directory. I can `cd` into the folder and have a look at the contents:\n",
    "\n",
    "\n",
    "```bash\n",
    "$ cd dummy && ls\n",
    "README.md\n",
    "```\n",
    "\n",
    "If you just created your repository using Hugging Face Hub’s `create_repo` method, this folder should only contain a hidden `.gitattributes` file. If you followed the instructions in the previous section to create a repository using the web interface, the folder should contain a single <i>README.md</i> file alongside the hidden `.gitattributes` file, as shown here.\n",
    "\n",
    "Adding a regular-sized file, such as a configuration file, a vocabulary file, or basically any file under a few megabytes, is done exactly as one would do it in any git-based system. However, bigger files must be registered through git-lfs in order to push them to <i>huggingface.co</i>.\n",
    "\n",
    "Let’s go back to Python for a bit to generate a model and tokenizer that we’d like to commit to our dummy repository:"
   ]
  },
  {
   "cell_type": "code",
   "execution_count": null,
   "metadata": {
    "id": "I1oW9K6aHYNH"
   },
   "outputs": [],
   "source": [
    "from transformers import AutoModelForMaskedLM, AutoTokenizer\n",
    "\n",
    "checkpoint = \"camembert-base\"\n",
    "\n",
    "model = AutoModelForMaskedLM.from_pretrained(checkpoint)\n",
    "tokenizer = AutoTokenizer.from_pretrained(checkpoint)\n",
    "\n",
    "# Do whatever with the model, train it, fine-tune it...\n",
    "\n",
    "model.save_pretrained(\"<path_to_dummy_folder>\")\n",
    "tokenizer.save_pretrained(\"<path_to_dummy_folder>\")"
   ]
  },
  {
   "cell_type": "markdown",
   "metadata": {},
   "source": [
    "Now that we’ve saved some model and tokenizer artifacts, let’s take another look at the dummy folder:\n",
    "\n",
    "```bash\n",
    "$ ls\n",
    "config.json  pytorch_model.bin  README.md  sentencepiece.bpe.model  special_tokens_map.json tokenizer_config.json  tokenizer.json\n",
    "```\n",
    "\n",
    "If you look at the file sizes (for example, with `ls -lh`), you should see that the model state dict file (<i>pytorch_model.bin</i>) is the only outlier, at more than 400 MB.\n",
    "\n",
    "> ✏️ When creating the repository from the web interface, the *.gitattributes* file is automatically set up to consider files with certain extensions, such as *.bin* and *.h5*, as large files, and git-lfs will track them with no necessary setup on your side.\n",
    "\n",
    "We can now go ahead and proceed like we would usually do with traditional Git repositories. We can add all the files to Git’s staging environment using the `git add` command:\n",
    "\n",
    "```bash\n",
    "$ git add .\n",
    "```\n",
    "\n",
    "We can then have a look at the files that are currently staged:\n",
    "```bash\n",
    "$ git status\n",
    "On branch main\n",
    "Your branch is up to date with 'origin/main'.\n",
    "\n",
    "Changes to be committed:\n",
    "  (use \"git restore --staged <file>...\" to unstage)\n",
    "  modified:   .gitattributes\n",
    "\tnew file:   config.json\n",
    "\tnew file:   pytorch_model.bin\n",
    "\tnew file:   sentencepiece.bpe.model\n",
    "\tnew file:   special_tokens_map.json\n",
    "\tnew file:   tokenizer.json\n",
    "\tnew file:   tokenizer_config.json\n",
    "```\n",
    "\n",
    "Similarly, we can make sure that git-lfs is tracking the correct files by using its status command:\n",
    "\n",
    "```bash\n",
    "$ git lfs status\n",
    "\n",
    "On branch main\n",
    "Objects to be pushed to origin/main:\n",
    "\n",
    "\n",
    "Objects to be committed:\n",
    "\n",
    "\tconfig.json (Git: bc20ff2)\n",
    "\tpytorch_model.bin (LFS: 35686c2)\n",
    "\tsentencepiece.bpe.model (LFS: 988bc5a)\n",
    "\tspecial_tokens_map.json (Git: cb23931)\n",
    "\ttokenizer.json (Git: 851ff3e)\n",
    "\ttokenizer_config.json (Git: f0f7783)\n",
    "\n",
    "Objects not staged for commit:\n",
    "```\n",
    "\n"
   ]
  },
  {
   "cell_type": "markdown",
   "metadata": {},
   "source": [
    "We can see that all files have `Git` as a handler, except <i>pytorch_model.bin</i> and <i>sentencepiece.bpe.model</i>, which have LFS. Great!\n",
    "\n",
    "Let’s proceed to the final steps, committing and pushing to the <i>huggingface.co</i> remote repository:\n",
    "\n",
    "```bash\n",
    "$ git commit -m \"First model version\"\n",
    "\n",
    "[main b08aab1] First model version\n",
    " 7 files changed, 29027 insertions(+)\n",
    "  6 files changed, 36 insertions(+)\n",
    " create mode 100644 config.json\n",
    " create mode 100644 pytorch_model.bin\n",
    " create mode 100644 sentencepiece.bpe.model\n",
    " create mode 100644 special_tokens_map.json\n",
    " create mode 100644 tokenizer.json\n",
    " create mode 100644 tokenizer_config.json\n",
    "```"
   ]
  },
  {
   "cell_type": "markdown",
   "metadata": {
    "ExecuteTime": {
     "end_time": "2023-07-15T11:27:55.286822Z",
     "start_time": "2023-07-15T11:27:55.276549Z"
    }
   },
   "source": [
    "Pushing can take a bit of time, depending on the speed of your internet connection and the size of your files:\n",
    "\n",
    "\n",
    "```bash\n",
    "$ git push\n",
    "\n",
    "Uploading LFS objects: 100% (1/1), 433 MB | 1.3 MB/s, done.\n",
    "Enumerating objects: 11, done.\n",
    "Counting objects: 100% (11/11), done.\n",
    "Delta compression using up to 12 threads\n",
    "Compressing objects: 100% (9/9), done.\n",
    "Writing objects: 100% (9/9), 288.27 KiB | 6.27 MiB/s, done.\n",
    "Total 9 (delta 1), reused 0 (delta 0), pack-reused 0\n",
    "To https://huggingface.co/lysandre/dummy\n",
    "   891b41d..b08aab1  main -> main\n",
    "```"
   ]
  },
  {
   "cell_type": "markdown",
   "metadata": {},
   "source": [
    "If we take a look at the model repository when this is finished, we can see all the recently added files:\n",
    "\n",
    "<img src=\"https://huggingface.co/datasets/huggingface-course/documentation-images/resolve/main/en/chapter4/full_model.png\" style=\"width:650px;\" title=\"full model\">"
   ]
  },
  {
   "cell_type": "markdown",
   "metadata": {},
   "source": [
    "The UI allows you to explore the model files and commits and to see the diff introduced by each commit:\n",
    "\n",
    "<img src=\"https://huggingface.co/datasets/huggingface-course/documentation-images/resolve/main/en/chapter4/diffs.gif\" style=\"width:650px;\" title=\"git diffs\">"
   ]
  },
  {
   "cell_type": "code",
   "execution_count": null,
   "metadata": {},
   "outputs": [],
   "source": []
  }
 ],
 "metadata": {
  "colab": {
   "name": "Sharing pretrained models (PyTorch)",
   "provenance": []
  },
  "kernelspec": {
   "display_name": "Python 3 (ipykernel)",
   "language": "python",
   "name": "python3"
  },
  "language_info": {
   "codemirror_mode": {
    "name": "ipython",
    "version": 3
   },
   "file_extension": ".py",
   "mimetype": "text/x-python",
   "name": "python",
   "nbconvert_exporter": "python",
   "pygments_lexer": "ipython3",
   "version": "3.9.4"
  },
  "toc": {
   "base_numbering": 1,
   "nav_menu": {},
   "number_sections": true,
   "sideBar": true,
   "skip_h1_title": false,
   "title_cell": "Table of Contents",
   "title_sidebar": "Contents",
   "toc_cell": false,
   "toc_position": {
    "height": "calc(100% - 180px)",
    "left": "10px",
    "top": "150px",
    "width": "384px"
   },
   "toc_section_display": true,
   "toc_window_display": true
  }
 },
 "nbformat": 4,
 "nbformat_minor": 1
}
