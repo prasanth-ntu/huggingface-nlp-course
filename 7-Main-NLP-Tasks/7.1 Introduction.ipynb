{
 "cells": [
  {
   "cell_type": "markdown",
   "id": "67e99032",
   "metadata": {},
   "source": [
    "# Introduction"
   ]
  },
  {
   "cell_type": "markdown",
   "id": "d639d4b4",
   "metadata": {},
   "source": [
    "In Chapter 3, you saw how to fine-tune a model for text classification. In this chapter, we will tackle the following <b>common NLP tasks</b>:\n",
    "\n",
    "- Token classification\n",
    "- Masked language modeling (like BERT)\n",
    "- Summarization\n",
    "- Translation\n",
    "- Causal language modeling pretraining (like GPT-2)\n",
    "- Question answering\n",
    "\n",
    "To do this, you’ll need to leverage everything you learned about \n",
    "- the `Trainer` API and the 🤗 Accelerate library in Chapter 3, \n",
    "- the 🤗 Datasets library in Chapter 5, and \n",
    "- the 🤗 Tokenizers library in Chapter 6. \n",
    "\n",
    "We’ll also upload our results to the Model Hub, like we did in Chapter 4, so this is really the chapter where everything comes together!\n",
    "\n",
    "Each section can be read independently and will show you how to train a model with the `Trainer` API or with your own training loop, using 🤗 Accelerate. Feel free to skip either part and focus on the one that interests you the most: the `Trainer` API is great for fine-tuning or training your model without worrying about what’s going on behind the scenes, while the training loop with `Accelerate` will let you customize any part you want more easily.\n",
    "\n",
    "> If you read the sections in sequence, you will notice that they have quite a bit of code and prose in common. The repetition is intentional, to allow you to dip in (or come back later) to any task that interests you and find a complete working example."
   ]
  },
  {
   "cell_type": "code",
   "execution_count": null,
   "id": "f1e65f57",
   "metadata": {},
   "outputs": [],
   "source": []
  }
 ],
 "metadata": {
  "kernelspec": {
   "display_name": "fastai_related",
   "language": "python",
   "name": "fastai_related"
  },
  "language_info": {
   "codemirror_mode": {
    "name": "ipython",
    "version": 3
   },
   "file_extension": ".py",
   "mimetype": "text/x-python",
   "name": "python",
   "nbconvert_exporter": "python",
   "pygments_lexer": "ipython3",
   "version": "3.10.5"
  },
  "toc": {
   "base_numbering": 1,
   "nav_menu": {},
   "number_sections": true,
   "sideBar": true,
   "skip_h1_title": false,
   "title_cell": "Table of Contents",
   "title_sidebar": "Contents",
   "toc_cell": false,
   "toc_position": {},
   "toc_section_display": true,
   "toc_window_display": false
  }
 },
 "nbformat": 4,
 "nbformat_minor": 5
}
