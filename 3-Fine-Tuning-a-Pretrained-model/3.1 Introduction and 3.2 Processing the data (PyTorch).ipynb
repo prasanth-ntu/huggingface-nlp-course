{
 "cells": [
  {
   "cell_type": "code",
   "execution_count": 39,
   "metadata": {
    "ExecuteTime": {
     "end_time": "2023-07-15T01:31:19.838952Z",
     "start_time": "2023-07-15T01:31:19.820864Z"
    }
   },
   "outputs": [],
   "source": [
    "import pandas as pd"
   ]
  },
  {
   "cell_type": "code",
   "execution_count": 69,
   "metadata": {
    "ExecuteTime": {
     "end_time": "2023-07-15T01:39:27.450825Z",
     "start_time": "2023-07-15T01:39:27.443049Z"
    }
   },
   "outputs": [],
   "source": [
    "pd.set_option('display.max_columns', 75)"
   ]
  },
  {
   "cell_type": "markdown",
   "metadata": {},
   "source": [
    "# Introduction"
   ]
  },
  {
   "cell_type": "markdown",
   "metadata": {},
   "source": [
    "In Chapter 2 we explored how to use <i>tokenizers</i> and <i>pretrained models</i> to make predictions. But what if you want to <b>fine-tune a pretrained model for your own dataset</b>? That’s the topic of this chapter! You will learn:\n",
    "\n",
    "- How to prepare a large dataset from the Hub\n",
    "- How to use the high-level Trainer API to fine-tune a model\n",
    "- How to use a custom training loop\n",
    "- How to leverage the 🤗 Accelerate library to easily run that custom training loop on any distributed setup"
   ]
  },
  {
   "cell_type": "markdown",
   "metadata": {
    "id": "DUTlmf1frzti"
   },
   "source": [
    "# Processing the data (PyTorch)"
   ]
  },
  {
   "cell_type": "markdown",
   "metadata": {
    "id": "lDOTDzYMrztk"
   },
   "source": [
    "Install the Transformers, Datasets, and Evaluate libraries to run this notebook."
   ]
  },
  {
   "cell_type": "code",
   "execution_count": 1,
   "metadata": {
    "ExecuteTime": {
     "end_time": "2023-07-15T00:06:08.851816Z",
     "start_time": "2023-07-15T00:06:08.823075Z"
    },
    "id": "MKDPz-Plrztk"
   },
   "outputs": [],
   "source": [
    "# !pip install datasets evaluate transformers[sentencepiece]"
   ]
  },
  {
   "cell_type": "code",
   "execution_count": 206,
   "metadata": {
    "ExecuteTime": {
     "end_time": "2023-07-15T02:59:40.465843Z",
     "start_time": "2023-07-15T02:59:40.454180Z"
    }
   },
   "outputs": [],
   "source": [
    "from transformers import logging\n",
    "logging.set_verbosity_error()"
   ]
  },
  {
   "cell_type": "markdown",
   "metadata": {},
   "source": [
    "Continuing with the example from the previous chapter, here is how we would train a sequence classifier on one batch in PyTorch:\n",
    "\n",
    "In other words, a simple example of <span style=\"color:blue\">fine-tuning a pre-trained BERT model for sequence classification</span> using the Hugging Face Transformers library."
   ]
  },
  {
   "cell_type": "code",
   "execution_count": 207,
   "metadata": {
    "ExecuteTime": {
     "end_time": "2023-07-15T02:59:43.663510Z",
     "start_time": "2023-07-15T02:59:41.094906Z"
    },
    "id": "QfTa0GLMrztl"
   },
   "outputs": [],
   "source": [
    "# 1. Import necessary libraries\n",
    "import torch\n",
    "from transformers import AdamW, AutoTokenizer, AutoModelForSequenceClassification\n",
    "\n",
    "# 2. Load the pre-trained BERT model and tokenizer\n",
    "checkpoint = \"bert-base-uncased\"\n",
    "tokenizer = AutoTokenizer.from_pretrained(checkpoint)\n",
    "model = AutoModelForSequenceClassification.from_pretrained(checkpoint)\n",
    "\n",
    "# 3. Define input sequences\n",
    "sequences = [\n",
    "    \"I've been waiting for a HuggingFace course my whole life.\",\n",
    "    \"This course is amazing!\",\n",
    "]\n",
    "\n",
    "# 4. Tokenize and create a batch of the input sequences\n",
    "batch = tokenizer(sequences, padding=True, truncation=True, return_tensors=\"pt\")\n",
    "\n",
    "# 5. Add target labels to our batch\n",
    "# This is new\n",
    "batch[\"labels\"] = torch.tensor([1, 1])\n",
    "\n",
    "# 6. Initialize the optimizer\n",
    "optimizer = AdamW(model.parameters(), no_deprecation_warning=True)\n",
    "\n",
    "# 7. Compute loss and perform backpropagation to compute gradients for each param\n",
    "loss = model(**batch).loss\n",
    "loss.backward()\n",
    "\n",
    "# 8. Update model parameters (based on computed gradients)\n",
    "optimizer.step()"
   ]
  },
  {
   "cell_type": "markdown",
   "metadata": {},
   "source": [
    "<span style=\"color:red\">Of course, just training the model on two sentences is not going to yield very good results</span>. <span style=\"color:green\">To get better results, you will need to prepare a bigger dataset</span>.\n",
    "\n",
    "In this section we will use as an example, the MRPC (Microsoft Research Paraphrase Corpus) dataset, introduced in a [paper](https://www.aclweb.org/anthology/I05-5002.pdf) by William B. Dolan and Chris Brockett. <i>The dataset consists of <b>5,801 pairs of sentences, with a label indicating if they are paraphrases or not (i.e., if both sentences mean the same thing)</b></i>. We’ve selected it for this chapter because it’s a small dataset, so it’s easy to experiment with training on it."
   ]
  },
  {
   "cell_type": "markdown",
   "metadata": {},
   "source": [
    "## Loading a dataset from the Hub"
   ]
  },
  {
   "cell_type": "markdown",
   "metadata": {},
   "source": [
    "The Hub doesn’t just contain models; it also has multiple datasets in lots of different languages. You can browse the datasets [here](https://huggingface.co/datasets), and we recommend you try to load and process a new dataset once you have gone through this section (see the general documentation [here](https://huggingface.co/docs/datasets/loading)). But for now, let’s focus on the MRPC dataset! This is one of the 10 datasets composing the General Language Understanding Evaluation ([GLUE benchmark](https://gluebenchmark.com/), also checkout [GIANT](https://github.com/nyu-mll/jiant)), which is an academic benchmark that is used to measure the performance of ML models across 10 different text classification tasks.\n",
    "\n",
    "The 🤗 Datasets library provides a very simple command to download and cache a dataset on the Hub. We can download the MRPC dataset like this:"
   ]
  },
  {
   "cell_type": "code",
   "execution_count": 208,
   "metadata": {
    "ExecuteTime": {
     "end_time": "2023-07-15T02:59:46.513676Z",
     "start_time": "2023-07-15T02:59:43.668072Z"
    },
    "id": "XDxFLL18rztm",
    "outputId": "36e86ff3-7ba3-4644-8b66-1e97426581aa"
   },
   "outputs": [
    {
     "name": "stderr",
     "output_type": "stream",
     "text": [
      "Found cached dataset glue (/Users/prasanth.thangavel/.cache/huggingface/datasets/glue/mrpc/1.0.0/dacbe3125aa31d7f70367a07a8a9e72a5a0bfeb5fc42e75c9db75b96da6053ad)\n"
     ]
    },
    {
     "data": {
      "application/vnd.jupyter.widget-view+json": {
       "model_id": "9b276b42acab4ba6b145613a122aa34b",
       "version_major": 2,
       "version_minor": 0
      },
      "text/plain": [
       "  0%|          | 0/3 [00:00<?, ?it/s]"
      ]
     },
     "metadata": {},
     "output_type": "display_data"
    },
    {
     "data": {
      "text/plain": [
       "DatasetDict({\n",
       "    train: Dataset({\n",
       "        features: ['sentence1', 'sentence2', 'label', 'idx'],\n",
       "        num_rows: 3668\n",
       "    })\n",
       "    validation: Dataset({\n",
       "        features: ['sentence1', 'sentence2', 'label', 'idx'],\n",
       "        num_rows: 408\n",
       "    })\n",
       "    test: Dataset({\n",
       "        features: ['sentence1', 'sentence2', 'label', 'idx'],\n",
       "        num_rows: 1725\n",
       "    })\n",
       "})"
      ]
     },
     "execution_count": 208,
     "metadata": {},
     "output_type": "execute_result"
    }
   ],
   "source": [
    "from datasets import load_dataset\n",
    "\n",
    "# load the MRPC dataset from the GLUE benchmark\n",
    "raw_datasets = load_dataset(\"glue\", \"mrpc\")\n",
    "raw_datasets"
   ]
  },
  {
   "cell_type": "code",
   "execution_count": 209,
   "metadata": {
    "ExecuteTime": {
     "end_time": "2023-07-15T02:59:46.522683Z",
     "start_time": "2023-07-15T02:59:46.516768Z"
    }
   },
   "outputs": [
    {
     "data": {
      "text/plain": [
       "(datasets.dataset_dict.DatasetDict, datasets.arrow_dataset.Dataset, dict)"
      ]
     },
     "execution_count": 209,
     "metadata": {},
     "output_type": "execute_result"
    }
   ],
   "source": [
    "type(raw_datasets), type(raw_datasets['train']), type(raw_datasets['train'][0])"
   ]
  },
  {
   "cell_type": "markdown",
   "metadata": {},
   "source": [
    "As you can see, we get a `DatasetDict` object which contains the training set, the validation set, and the test set. Each of those contains several columns (sentence1, sentence2, label, and idx) and a variable number of rows, which are the number of elements in each set (so, there are 3,668 pairs of sentences in the training set, 408 in the validation set, and 1,725 in the test set) $\\Rightarrow$ 3668+408+1725 = 5801 pairs of sentences in total.\n",
    "\n",
    "This command downloads and caches the dataset, by default in <code>~/.cache/huggingface/datasets</code>. Recall from Chapter 2 that you can customize your cache folder by setting the HF_HOME environment variable.\n",
    "\n",
    "We can access each pair of sentences in our raw_datasets object by indexing, like with a dictionary:"
   ]
  },
  {
   "cell_type": "code",
   "execution_count": 210,
   "metadata": {
    "ExecuteTime": {
     "end_time": "2023-07-15T02:59:46.531543Z",
     "start_time": "2023-07-15T02:59:46.525937Z"
    },
    "id": "JVr5gaVzrztn",
    "outputId": "cd3d07f0-6f85-453b-ac5f-04f5974c8cdc"
   },
   "outputs": [
    {
     "name": "stdout",
     "output_type": "stream",
     "text": [
      "3668\n"
     ]
    },
    {
     "data": {
      "text/plain": [
       "{'sentence1': 'Amrozi accused his brother , whom he called \" the witness \" , of deliberately distorting his evidence .',\n",
       " 'sentence2': 'Referring to him as only \" the witness \" , Amrozi accused his brother of deliberately distorting his evidence .',\n",
       " 'label': 1,\n",
       " 'idx': 0}"
      ]
     },
     "execution_count": 210,
     "metadata": {},
     "output_type": "execute_result"
    }
   ],
   "source": [
    "raw_train_dataset = raw_datasets[\"train\"]\n",
    "print (len(raw_train_dataset))\n",
    "raw_train_dataset[0]"
   ]
  },
  {
   "cell_type": "code",
   "execution_count": 211,
   "metadata": {
    "ExecuteTime": {
     "end_time": "2023-07-15T02:59:46.539207Z",
     "start_time": "2023-07-15T02:59:46.534819Z"
    }
   },
   "outputs": [
    {
     "data": {
      "text/plain": [
       "{'sentence1': 'Gyorgy Heizler , head of the local disaster unit , said the coach was carrying 38 passengers .',\n",
       " 'sentence2': 'The head of the local disaster unit , Gyorgy Heizler , said the coach driver had failed to heed red stop lights .',\n",
       " 'label': 0,\n",
       " 'idx': 15}"
      ]
     },
     "execution_count": 211,
     "metadata": {},
     "output_type": "execute_result"
    }
   ],
   "source": [
    "raw_train_dataset[14]"
   ]
  },
  {
   "cell_type": "code",
   "execution_count": 212,
   "metadata": {
    "ExecuteTime": {
     "end_time": "2023-07-15T02:59:46.547715Z",
     "start_time": "2023-07-15T02:59:46.544195Z"
    }
   },
   "outputs": [
    {
     "data": {
      "text/plain": [
       "{'sentence1': 'He was arrested Friday night at an Alpharetta seafood restaurant while dining with his wife , singer Whitney Houston .',\n",
       " 'sentence2': 'He was arrested again Friday night at an Alpharetta restaurant where he was having dinner with his wife .',\n",
       " 'label': 1,\n",
       " 'idx': 796}"
      ]
     },
     "execution_count": 212,
     "metadata": {},
     "output_type": "execute_result"
    }
   ],
   "source": [
    "raw_datasets[\"validation\"][86]"
   ]
  },
  {
   "cell_type": "markdown",
   "metadata": {},
   "source": [
    "We can see the labels are already integers, so we won’t have to do any preprocessing there. To know which integer corresponds to which label, we can inspect the `features` of our `raw_train_dataset`. This will tell us the type of each column:"
   ]
  },
  {
   "cell_type": "code",
   "execution_count": 213,
   "metadata": {
    "ExecuteTime": {
     "end_time": "2023-07-15T02:59:46.552901Z",
     "start_time": "2023-07-15T02:59:46.549116Z"
    },
    "id": "q5EZ8-Rkrztn",
    "outputId": "d2bff24e-8986-4c52-cfdd-527ced152673"
   },
   "outputs": [
    {
     "data": {
      "text/plain": [
       "{'sentence1': Value(dtype='string', id=None),\n",
       " 'sentence2': Value(dtype='string', id=None),\n",
       " 'label': ClassLabel(names=['not_equivalent', 'equivalent'], id=None),\n",
       " 'idx': Value(dtype='int32', id=None)}"
      ]
     },
     "execution_count": 213,
     "metadata": {},
     "output_type": "execute_result"
    }
   ],
   "source": [
    "raw_train_dataset.features"
   ]
  },
  {
   "cell_type": "markdown",
   "metadata": {
    "ExecuteTime": {
     "end_time": "2023-07-15T00:42:29.067539Z",
     "start_time": "2023-07-15T00:42:29.050168Z"
    }
   },
   "source": [
    "Behind the scenes, label is of type `ClassLabel`, and the mapping of integers to label name is stored in the `names` folder. `0` corresponds to `not_equivalent`, and `1` corresponds to `equivalent`."
   ]
  },
  {
   "cell_type": "markdown",
   "metadata": {},
   "source": [
    "## Preprocessing a dataset"
   ]
  },
  {
   "cell_type": "markdown",
   "metadata": {},
   "source": [
    "<img src=\"images/text-classification-for-pair-of-sentences.png.png\" style=\"width:850px;\" title=\"Text classification for pair of sentences\">"
   ]
  },
  {
   "cell_type": "markdown",
   "metadata": {},
   "source": [
    "<img src=\"images/GLUE-benchmark-10-datasets.png\" style=\"width:850px;\" title=\"GLUE benchmark: 10 datasets\">"
   ]
  },
  {
   "cell_type": "markdown",
   "metadata": {
    "ExecuteTime": {
     "end_time": "2023-07-15T03:08:38.571436Z",
     "start_time": "2023-07-15T03:08:38.560988Z"
    }
   },
   "source": [
    "<span style=\"color:blue\"><b>Models like BERT are often pretrained with dual objective</b></span>\n",
    "- <span style=\"color:blue\">Objective 1: <b>Language modelling </b></span>\n",
    "- <span style=\"color:blue\">Objective 2: <b>Related to sentence pairs</b></span>\n",
    "    \n",
    "For instance, during pre-training, BERT is shown pair of sentences and must predict \n",
    "- both the values of randomly masked tokens and\n",
    "- whether the 2nd sentence follows from the first"
   ]
  },
  {
   "cell_type": "markdown",
   "metadata": {},
   "source": [
    "<b>Detailed explanation here:</b>\n",
    "    \n",
    "> BERT (Bidirectional Encoder Representations from Transformers) is a pre-trained language model designed to capture deep contextualized representations of text. It is pre-trained on a large corpus of text using unsupervised learning, specifically with two main tasks:\n",
    "> \n",
    "> 1. <b>Masked Language Modeling (MLM)</b>: In this task, BERT is trained to predict randomly masked words in a sentence. During training, a certain percentage of the input tokens are replaced with a special [MASK] token, and the model is tasked with predicting the original tokens based on the context provided by the surrounding unmasked tokens. This encourages the model to learn bidirectional contextual representations of words in a sentence.\n",
    ">\n",
    "> 2. <b>Next Sentence Prediction (NSP)</b>: In this task, BERT is trained to predict whether a given sentence follows another sentence. The model is provided with pairs of sentences and learns to classify whether the second sentence is a logical continuation of the first one or not. This helps the model to learn relationships between sentences and capture a broader understanding of the text.\n",
    ">\n",
    "> By pre-training BERT on these two tasks, the model learns a rich understanding of the language, including syntax, semantics, and context. Once pre-trained, BERT can be fine-tuned on a wide range of downstream tasks, such as text classification, named entity recognition, question-answering, and more, with relatively small amounts of labeled data. This process of fine-tuning allows BERT to leverage its pre-trained knowledge and adapt to the specific task at hand, often resulting in state-of-the-art performance."
   ]
  },
  {
   "cell_type": "markdown",
   "metadata": {},
   "source": [
    "<img src=\"images/BERT-can-recognize-relationships-between-two-sentences.png\" style=\"width:850px;\" title=\"BERT can recognize relationships between two sentences\">"
   ]
  },
  {
   "cell_type": "markdown",
   "metadata": {},
   "source": [
    "Tokenizers prepare the proper `token_type_ID`s and `attention` masks, that are needed for the model to understand."
   ]
  },
  {
   "cell_type": "markdown",
   "metadata": {},
   "source": [
    "<img src=\"images/tokenizer-for-pair-of-sentences.png\" style=\"width:950px;\" title=\"tokenizer for pair of sentences\">"
   ]
  },
  {
   "cell_type": "markdown",
   "metadata": {},
   "source": [
    "To preprocess the dataset, we need to convert the text to numbers the model can make sense of. As you saw in the previous chapter, this is done with a tokenizer. We can feed the tokenizer one sentence or a list of sentences, so we can directly tokenize all the first sentences and all the second sentences of each pair like this:"
   ]
  },
  {
   "cell_type": "code",
   "execution_count": 27,
   "metadata": {
    "ExecuteTime": {
     "end_time": "2023-07-15T00:44:41.591609Z",
     "start_time": "2023-07-15T00:44:40.260023Z"
    },
    "id": "4js44-6Erztn"
   },
   "outputs": [],
   "source": [
    "from transformers import AutoTokenizer\n",
    "\n",
    "checkpoint = \"bert-base-uncased\"\n",
    "tokenizer = AutoTokenizer.from_pretrained(checkpoint)\n",
    "tokenized_sentences_1 = tokenizer(raw_datasets[\"train\"][\"sentence1\"])\n",
    "tokenized_sentences_2 = tokenizer(raw_datasets[\"train\"][\"sentence2\"])"
   ]
  },
  {
   "cell_type": "markdown",
   "metadata": {},
   "source": [
    "<span style=\"color:red\">However, we can’t just pass two sequences to the model and get a prediction of whether the two sentences are paraphrases or not</span>. <span style=\"color:blue\">We need to handle the two sequences as a pair, and apply the appropriate preprocessing. <span style=\"color:green\">Fortunately, the tokenizer can also take a pair of sequences and prepare it the way our BERT model expects</span>:"
   ]
  },
  {
   "cell_type": "code",
   "execution_count": 85,
   "metadata": {
    "ExecuteTime": {
     "end_time": "2023-07-15T01:44:38.358292Z",
     "start_time": "2023-07-15T01:44:38.341228Z"
    },
    "id": "J7YDAEn1rzto",
    "outputId": "c7ed5951-d8b9-4c4d-f0ef-cf5b983851bd"
   },
   "outputs": [
    {
     "name": "stdout",
     "output_type": "stream",
     "text": [
      "input_ids: [101, 2023, 2003, 1996, 2034, 6251, 1012, 102, 2023, 2003, 1996, 2117, 2028, 1012, 102]\n",
      "token_type_ids: [0, 0, 0, 0, 0, 0, 0, 0, 1, 1, 1, 1, 1, 1, 1]\n",
      "attention_mask: [1, 1, 1, 1, 1, 1, 1, 1, 1, 1, 1, 1, 1, 1, 1]\n"
     ]
    }
   ],
   "source": [
    "inputs = tokenizer(\"This is the first sentence.\", \"This is the second one.\")\n",
    "for key, value in inputs.items():\n",
    "    print (f\"{key}: {value}\")"
   ]
  },
  {
   "cell_type": "markdown",
   "metadata": {
    "ExecuteTime": {
     "end_time": "2023-07-15T00:46:37.413073Z",
     "start_time": "2023-07-15T00:46:37.397172Z"
    }
   },
   "source": [
    "We discussed the `input_ids` and `attention_mask` keys in Chapter 2, but we put off talking about `token_type_ids`. In this example, this is what <span style=\"color:green\">tells the model which part of the input is the first sentence and which is the second sentence.</span>"
   ]
  },
  {
   "cell_type": "markdown",
   "metadata": {},
   "source": [
    "If we decode the IDs inside `input_ids` back to words and align it with `token_type_ids`, we can see the model expects the inputs to be of the form <span style=\"color:blue\"><b>`[CLS]` sentence1 `[SEP]` sentence2 `[SEP]`</b></span> when there are two sentences."
   ]
  },
  {
   "cell_type": "code",
   "execution_count": 87,
   "metadata": {
    "ExecuteTime": {
     "end_time": "2023-07-15T01:44:49.926025Z",
     "start_time": "2023-07-15T01:44:49.902922Z"
    },
    "scrolled": true
   },
   "outputs": [
    {
     "data": {
      "text/html": [
       "<style type=\"text/css\">\n",
       "#T_26449_row0_col8, #T_26449_row0_col9, #T_26449_row0_col10, #T_26449_row0_col11, #T_26449_row0_col12, #T_26449_row0_col13, #T_26449_row0_col14, #T_26449_row1_col8, #T_26449_row1_col9, #T_26449_row1_col10, #T_26449_row1_col11, #T_26449_row1_col12, #T_26449_row1_col13, #T_26449_row1_col14 {\n",
       "  background-color: #ffffb3;\n",
       "}\n",
       "</style>\n",
       "<table id=\"T_26449\">\n",
       "  <thead>\n",
       "    <tr>\n",
       "      <th class=\"blank level0\" >&nbsp;</th>\n",
       "      <th id=\"T_26449_level0_col0\" class=\"col_heading level0 col0\" >0</th>\n",
       "      <th id=\"T_26449_level0_col1\" class=\"col_heading level0 col1\" >1</th>\n",
       "      <th id=\"T_26449_level0_col2\" class=\"col_heading level0 col2\" >2</th>\n",
       "      <th id=\"T_26449_level0_col3\" class=\"col_heading level0 col3\" >3</th>\n",
       "      <th id=\"T_26449_level0_col4\" class=\"col_heading level0 col4\" >4</th>\n",
       "      <th id=\"T_26449_level0_col5\" class=\"col_heading level0 col5\" >5</th>\n",
       "      <th id=\"T_26449_level0_col6\" class=\"col_heading level0 col6\" >6</th>\n",
       "      <th id=\"T_26449_level0_col7\" class=\"col_heading level0 col7\" >7</th>\n",
       "      <th id=\"T_26449_level0_col8\" class=\"col_heading level0 col8\" >8</th>\n",
       "      <th id=\"T_26449_level0_col9\" class=\"col_heading level0 col9\" >9</th>\n",
       "      <th id=\"T_26449_level0_col10\" class=\"col_heading level0 col10\" >10</th>\n",
       "      <th id=\"T_26449_level0_col11\" class=\"col_heading level0 col11\" >11</th>\n",
       "      <th id=\"T_26449_level0_col12\" class=\"col_heading level0 col12\" >12</th>\n",
       "      <th id=\"T_26449_level0_col13\" class=\"col_heading level0 col13\" >13</th>\n",
       "      <th id=\"T_26449_level0_col14\" class=\"col_heading level0 col14\" >14</th>\n",
       "    </tr>\n",
       "  </thead>\n",
       "  <tbody>\n",
       "    <tr>\n",
       "      <th id=\"T_26449_level0_row0\" class=\"row_heading level0 row0\" >tokens</th>\n",
       "      <td id=\"T_26449_row0_col0\" class=\"data row0 col0\" >[CLS]</td>\n",
       "      <td id=\"T_26449_row0_col1\" class=\"data row0 col1\" >this</td>\n",
       "      <td id=\"T_26449_row0_col2\" class=\"data row0 col2\" >is</td>\n",
       "      <td id=\"T_26449_row0_col3\" class=\"data row0 col3\" >the</td>\n",
       "      <td id=\"T_26449_row0_col4\" class=\"data row0 col4\" >first</td>\n",
       "      <td id=\"T_26449_row0_col5\" class=\"data row0 col5\" >sentence</td>\n",
       "      <td id=\"T_26449_row0_col6\" class=\"data row0 col6\" >.</td>\n",
       "      <td id=\"T_26449_row0_col7\" class=\"data row0 col7\" >[SEP]</td>\n",
       "      <td id=\"T_26449_row0_col8\" class=\"data row0 col8\" >this</td>\n",
       "      <td id=\"T_26449_row0_col9\" class=\"data row0 col9\" >is</td>\n",
       "      <td id=\"T_26449_row0_col10\" class=\"data row0 col10\" >the</td>\n",
       "      <td id=\"T_26449_row0_col11\" class=\"data row0 col11\" >second</td>\n",
       "      <td id=\"T_26449_row0_col12\" class=\"data row0 col12\" >one</td>\n",
       "      <td id=\"T_26449_row0_col13\" class=\"data row0 col13\" >.</td>\n",
       "      <td id=\"T_26449_row0_col14\" class=\"data row0 col14\" >[SEP]</td>\n",
       "    </tr>\n",
       "    <tr>\n",
       "      <th id=\"T_26449_level0_row1\" class=\"row_heading level0 row1\" >token_type_ids</th>\n",
       "      <td id=\"T_26449_row1_col0\" class=\"data row1 col0\" >0</td>\n",
       "      <td id=\"T_26449_row1_col1\" class=\"data row1 col1\" >0</td>\n",
       "      <td id=\"T_26449_row1_col2\" class=\"data row1 col2\" >0</td>\n",
       "      <td id=\"T_26449_row1_col3\" class=\"data row1 col3\" >0</td>\n",
       "      <td id=\"T_26449_row1_col4\" class=\"data row1 col4\" >0</td>\n",
       "      <td id=\"T_26449_row1_col5\" class=\"data row1 col5\" >0</td>\n",
       "      <td id=\"T_26449_row1_col6\" class=\"data row1 col6\" >0</td>\n",
       "      <td id=\"T_26449_row1_col7\" class=\"data row1 col7\" >0</td>\n",
       "      <td id=\"T_26449_row1_col8\" class=\"data row1 col8\" >1</td>\n",
       "      <td id=\"T_26449_row1_col9\" class=\"data row1 col9\" >1</td>\n",
       "      <td id=\"T_26449_row1_col10\" class=\"data row1 col10\" >1</td>\n",
       "      <td id=\"T_26449_row1_col11\" class=\"data row1 col11\" >1</td>\n",
       "      <td id=\"T_26449_row1_col12\" class=\"data row1 col12\" >1</td>\n",
       "      <td id=\"T_26449_row1_col13\" class=\"data row1 col13\" >1</td>\n",
       "      <td id=\"T_26449_row1_col14\" class=\"data row1 col14\" >1</td>\n",
       "    </tr>\n",
       "  </tbody>\n",
       "</table>\n"
      ],
      "text/plain": [
       "<pandas.io.formats.style.Styler at 0x164c6bbe0>"
      ]
     },
     "execution_count": 87,
     "metadata": {},
     "output_type": "execute_result"
    }
   ],
   "source": [
    "df = pd.DataFrame([\n",
    "    tokenizer.convert_ids_to_tokens(inputs[\"input_ids\"]),\n",
    "    inputs[\"token_type_ids\"]\n",
    "])\n",
    "df.index = [\"tokens\", \"token_type_ids\"]\n",
    "\n",
    "slice_ = [col for col in df.columns if (df.loc['token_type_ids', col]==1)]\n",
    "df.style.set_properties(**{'background-color': '#ffffb3'}, subset=slice_)"
   ]
  },
  {
   "cell_type": "code",
   "execution_count": 97,
   "metadata": {
    "ExecuteTime": {
     "end_time": "2023-07-15T01:50:09.470104Z",
     "start_time": "2023-07-15T01:50:09.441433Z"
    }
   },
   "outputs": [
    {
     "name": "stdout",
     "output_type": "stream",
     "text": [
      "sentence1 : Gyorgy Heizler , head of the local disaster unit , said the coach was carrying 38 passengers .\n",
      "sentence2 : The head of the local disaster unit , Gyorgy Heizler , said the coach driver had failed to heed red stop lights .\n",
      "label     : 0\n",
      "idx       : 15\n"
     ]
    },
    {
     "data": {
      "text/html": [
       "<style type=\"text/css\">\n",
       "#T_3196c_row0_col24, #T_3196c_row0_col25, #T_3196c_row0_col26, #T_3196c_row0_col27, #T_3196c_row0_col28, #T_3196c_row0_col29, #T_3196c_row0_col30, #T_3196c_row0_col31, #T_3196c_row0_col32, #T_3196c_row0_col33, #T_3196c_row0_col34, #T_3196c_row0_col35, #T_3196c_row0_col36, #T_3196c_row0_col37, #T_3196c_row0_col38, #T_3196c_row0_col39, #T_3196c_row0_col40, #T_3196c_row0_col41, #T_3196c_row0_col42, #T_3196c_row0_col43, #T_3196c_row0_col44, #T_3196c_row0_col45, #T_3196c_row0_col46, #T_3196c_row0_col47, #T_3196c_row0_col48, #T_3196c_row0_col49, #T_3196c_row0_col50, #T_3196c_row0_col51, #T_3196c_row0_col52, #T_3196c_row1_col24, #T_3196c_row1_col25, #T_3196c_row1_col26, #T_3196c_row1_col27, #T_3196c_row1_col28, #T_3196c_row1_col29, #T_3196c_row1_col30, #T_3196c_row1_col31, #T_3196c_row1_col32, #T_3196c_row1_col33, #T_3196c_row1_col34, #T_3196c_row1_col35, #T_3196c_row1_col36, #T_3196c_row1_col37, #T_3196c_row1_col38, #T_3196c_row1_col39, #T_3196c_row1_col40, #T_3196c_row1_col41, #T_3196c_row1_col42, #T_3196c_row1_col43, #T_3196c_row1_col44, #T_3196c_row1_col45, #T_3196c_row1_col46, #T_3196c_row1_col47, #T_3196c_row1_col48, #T_3196c_row1_col49, #T_3196c_row1_col50, #T_3196c_row1_col51, #T_3196c_row1_col52 {\n",
       "  background-color: #ffffb3;\n",
       "}\n",
       "</style>\n",
       "<table id=\"T_3196c\">\n",
       "  <thead>\n",
       "    <tr>\n",
       "      <th class=\"blank level0\" >&nbsp;</th>\n",
       "      <th id=\"T_3196c_level0_col0\" class=\"col_heading level0 col0\" >0</th>\n",
       "      <th id=\"T_3196c_level0_col1\" class=\"col_heading level0 col1\" >1</th>\n",
       "      <th id=\"T_3196c_level0_col2\" class=\"col_heading level0 col2\" >2</th>\n",
       "      <th id=\"T_3196c_level0_col3\" class=\"col_heading level0 col3\" >3</th>\n",
       "      <th id=\"T_3196c_level0_col4\" class=\"col_heading level0 col4\" >4</th>\n",
       "      <th id=\"T_3196c_level0_col5\" class=\"col_heading level0 col5\" >5</th>\n",
       "      <th id=\"T_3196c_level0_col6\" class=\"col_heading level0 col6\" >6</th>\n",
       "      <th id=\"T_3196c_level0_col7\" class=\"col_heading level0 col7\" >7</th>\n",
       "      <th id=\"T_3196c_level0_col8\" class=\"col_heading level0 col8\" >8</th>\n",
       "      <th id=\"T_3196c_level0_col9\" class=\"col_heading level0 col9\" >9</th>\n",
       "      <th id=\"T_3196c_level0_col10\" class=\"col_heading level0 col10\" >10</th>\n",
       "      <th id=\"T_3196c_level0_col11\" class=\"col_heading level0 col11\" >11</th>\n",
       "      <th id=\"T_3196c_level0_col12\" class=\"col_heading level0 col12\" >12</th>\n",
       "      <th id=\"T_3196c_level0_col13\" class=\"col_heading level0 col13\" >13</th>\n",
       "      <th id=\"T_3196c_level0_col14\" class=\"col_heading level0 col14\" >14</th>\n",
       "      <th id=\"T_3196c_level0_col15\" class=\"col_heading level0 col15\" >15</th>\n",
       "      <th id=\"T_3196c_level0_col16\" class=\"col_heading level0 col16\" >16</th>\n",
       "      <th id=\"T_3196c_level0_col17\" class=\"col_heading level0 col17\" >17</th>\n",
       "      <th id=\"T_3196c_level0_col18\" class=\"col_heading level0 col18\" >18</th>\n",
       "      <th id=\"T_3196c_level0_col19\" class=\"col_heading level0 col19\" >19</th>\n",
       "      <th id=\"T_3196c_level0_col20\" class=\"col_heading level0 col20\" >20</th>\n",
       "      <th id=\"T_3196c_level0_col21\" class=\"col_heading level0 col21\" >21</th>\n",
       "      <th id=\"T_3196c_level0_col22\" class=\"col_heading level0 col22\" >22</th>\n",
       "      <th id=\"T_3196c_level0_col23\" class=\"col_heading level0 col23\" >23</th>\n",
       "      <th id=\"T_3196c_level0_col24\" class=\"col_heading level0 col24\" >24</th>\n",
       "      <th id=\"T_3196c_level0_col25\" class=\"col_heading level0 col25\" >25</th>\n",
       "      <th id=\"T_3196c_level0_col26\" class=\"col_heading level0 col26\" >26</th>\n",
       "      <th id=\"T_3196c_level0_col27\" class=\"col_heading level0 col27\" >27</th>\n",
       "      <th id=\"T_3196c_level0_col28\" class=\"col_heading level0 col28\" >28</th>\n",
       "      <th id=\"T_3196c_level0_col29\" class=\"col_heading level0 col29\" >29</th>\n",
       "      <th id=\"T_3196c_level0_col30\" class=\"col_heading level0 col30\" >30</th>\n",
       "      <th id=\"T_3196c_level0_col31\" class=\"col_heading level0 col31\" >31</th>\n",
       "      <th id=\"T_3196c_level0_col32\" class=\"col_heading level0 col32\" >32</th>\n",
       "      <th id=\"T_3196c_level0_col33\" class=\"col_heading level0 col33\" >33</th>\n",
       "      <th id=\"T_3196c_level0_col34\" class=\"col_heading level0 col34\" >34</th>\n",
       "      <th id=\"T_3196c_level0_col35\" class=\"col_heading level0 col35\" >35</th>\n",
       "      <th id=\"T_3196c_level0_col36\" class=\"col_heading level0 col36\" >36</th>\n",
       "      <th id=\"T_3196c_level0_col37\" class=\"col_heading level0 col37\" >37</th>\n",
       "      <th id=\"T_3196c_level0_col38\" class=\"col_heading level0 col38\" >38</th>\n",
       "      <th id=\"T_3196c_level0_col39\" class=\"col_heading level0 col39\" >39</th>\n",
       "      <th id=\"T_3196c_level0_col40\" class=\"col_heading level0 col40\" >40</th>\n",
       "      <th id=\"T_3196c_level0_col41\" class=\"col_heading level0 col41\" >41</th>\n",
       "      <th id=\"T_3196c_level0_col42\" class=\"col_heading level0 col42\" >42</th>\n",
       "      <th id=\"T_3196c_level0_col43\" class=\"col_heading level0 col43\" >43</th>\n",
       "      <th id=\"T_3196c_level0_col44\" class=\"col_heading level0 col44\" >44</th>\n",
       "      <th id=\"T_3196c_level0_col45\" class=\"col_heading level0 col45\" >45</th>\n",
       "      <th id=\"T_3196c_level0_col46\" class=\"col_heading level0 col46\" >46</th>\n",
       "      <th id=\"T_3196c_level0_col47\" class=\"col_heading level0 col47\" >47</th>\n",
       "      <th id=\"T_3196c_level0_col48\" class=\"col_heading level0 col48\" >48</th>\n",
       "      <th id=\"T_3196c_level0_col49\" class=\"col_heading level0 col49\" >49</th>\n",
       "      <th id=\"T_3196c_level0_col50\" class=\"col_heading level0 col50\" >50</th>\n",
       "      <th id=\"T_3196c_level0_col51\" class=\"col_heading level0 col51\" >51</th>\n",
       "      <th id=\"T_3196c_level0_col52\" class=\"col_heading level0 col52\" >52</th>\n",
       "    </tr>\n",
       "  </thead>\n",
       "  <tbody>\n",
       "    <tr>\n",
       "      <th id=\"T_3196c_level0_row0\" class=\"row_heading level0 row0\" >tokens</th>\n",
       "      <td id=\"T_3196c_row0_col0\" class=\"data row0 col0\" >[CLS]</td>\n",
       "      <td id=\"T_3196c_row0_col1\" class=\"data row0 col1\" >g</td>\n",
       "      <td id=\"T_3196c_row0_col2\" class=\"data row0 col2\" >##yo</td>\n",
       "      <td id=\"T_3196c_row0_col3\" class=\"data row0 col3\" >##rgy</td>\n",
       "      <td id=\"T_3196c_row0_col4\" class=\"data row0 col4\" >he</td>\n",
       "      <td id=\"T_3196c_row0_col5\" class=\"data row0 col5\" >##iz</td>\n",
       "      <td id=\"T_3196c_row0_col6\" class=\"data row0 col6\" >##ler</td>\n",
       "      <td id=\"T_3196c_row0_col7\" class=\"data row0 col7\" >,</td>\n",
       "      <td id=\"T_3196c_row0_col8\" class=\"data row0 col8\" >head</td>\n",
       "      <td id=\"T_3196c_row0_col9\" class=\"data row0 col9\" >of</td>\n",
       "      <td id=\"T_3196c_row0_col10\" class=\"data row0 col10\" >the</td>\n",
       "      <td id=\"T_3196c_row0_col11\" class=\"data row0 col11\" >local</td>\n",
       "      <td id=\"T_3196c_row0_col12\" class=\"data row0 col12\" >disaster</td>\n",
       "      <td id=\"T_3196c_row0_col13\" class=\"data row0 col13\" >unit</td>\n",
       "      <td id=\"T_3196c_row0_col14\" class=\"data row0 col14\" >,</td>\n",
       "      <td id=\"T_3196c_row0_col15\" class=\"data row0 col15\" >said</td>\n",
       "      <td id=\"T_3196c_row0_col16\" class=\"data row0 col16\" >the</td>\n",
       "      <td id=\"T_3196c_row0_col17\" class=\"data row0 col17\" >coach</td>\n",
       "      <td id=\"T_3196c_row0_col18\" class=\"data row0 col18\" >was</td>\n",
       "      <td id=\"T_3196c_row0_col19\" class=\"data row0 col19\" >carrying</td>\n",
       "      <td id=\"T_3196c_row0_col20\" class=\"data row0 col20\" >38</td>\n",
       "      <td id=\"T_3196c_row0_col21\" class=\"data row0 col21\" >passengers</td>\n",
       "      <td id=\"T_3196c_row0_col22\" class=\"data row0 col22\" >.</td>\n",
       "      <td id=\"T_3196c_row0_col23\" class=\"data row0 col23\" >[SEP]</td>\n",
       "      <td id=\"T_3196c_row0_col24\" class=\"data row0 col24\" >the</td>\n",
       "      <td id=\"T_3196c_row0_col25\" class=\"data row0 col25\" >head</td>\n",
       "      <td id=\"T_3196c_row0_col26\" class=\"data row0 col26\" >of</td>\n",
       "      <td id=\"T_3196c_row0_col27\" class=\"data row0 col27\" >the</td>\n",
       "      <td id=\"T_3196c_row0_col28\" class=\"data row0 col28\" >local</td>\n",
       "      <td id=\"T_3196c_row0_col29\" class=\"data row0 col29\" >disaster</td>\n",
       "      <td id=\"T_3196c_row0_col30\" class=\"data row0 col30\" >unit</td>\n",
       "      <td id=\"T_3196c_row0_col31\" class=\"data row0 col31\" >,</td>\n",
       "      <td id=\"T_3196c_row0_col32\" class=\"data row0 col32\" >g</td>\n",
       "      <td id=\"T_3196c_row0_col33\" class=\"data row0 col33\" >##yo</td>\n",
       "      <td id=\"T_3196c_row0_col34\" class=\"data row0 col34\" >##rgy</td>\n",
       "      <td id=\"T_3196c_row0_col35\" class=\"data row0 col35\" >he</td>\n",
       "      <td id=\"T_3196c_row0_col36\" class=\"data row0 col36\" >##iz</td>\n",
       "      <td id=\"T_3196c_row0_col37\" class=\"data row0 col37\" >##ler</td>\n",
       "      <td id=\"T_3196c_row0_col38\" class=\"data row0 col38\" >,</td>\n",
       "      <td id=\"T_3196c_row0_col39\" class=\"data row0 col39\" >said</td>\n",
       "      <td id=\"T_3196c_row0_col40\" class=\"data row0 col40\" >the</td>\n",
       "      <td id=\"T_3196c_row0_col41\" class=\"data row0 col41\" >coach</td>\n",
       "      <td id=\"T_3196c_row0_col42\" class=\"data row0 col42\" >driver</td>\n",
       "      <td id=\"T_3196c_row0_col43\" class=\"data row0 col43\" >had</td>\n",
       "      <td id=\"T_3196c_row0_col44\" class=\"data row0 col44\" >failed</td>\n",
       "      <td id=\"T_3196c_row0_col45\" class=\"data row0 col45\" >to</td>\n",
       "      <td id=\"T_3196c_row0_col46\" class=\"data row0 col46\" >hee</td>\n",
       "      <td id=\"T_3196c_row0_col47\" class=\"data row0 col47\" >##d</td>\n",
       "      <td id=\"T_3196c_row0_col48\" class=\"data row0 col48\" >red</td>\n",
       "      <td id=\"T_3196c_row0_col49\" class=\"data row0 col49\" >stop</td>\n",
       "      <td id=\"T_3196c_row0_col50\" class=\"data row0 col50\" >lights</td>\n",
       "      <td id=\"T_3196c_row0_col51\" class=\"data row0 col51\" >.</td>\n",
       "      <td id=\"T_3196c_row0_col52\" class=\"data row0 col52\" >[SEP]</td>\n",
       "    </tr>\n",
       "    <tr>\n",
       "      <th id=\"T_3196c_level0_row1\" class=\"row_heading level0 row1\" >token_type_ids</th>\n",
       "      <td id=\"T_3196c_row1_col0\" class=\"data row1 col0\" >0</td>\n",
       "      <td id=\"T_3196c_row1_col1\" class=\"data row1 col1\" >0</td>\n",
       "      <td id=\"T_3196c_row1_col2\" class=\"data row1 col2\" >0</td>\n",
       "      <td id=\"T_3196c_row1_col3\" class=\"data row1 col3\" >0</td>\n",
       "      <td id=\"T_3196c_row1_col4\" class=\"data row1 col4\" >0</td>\n",
       "      <td id=\"T_3196c_row1_col5\" class=\"data row1 col5\" >0</td>\n",
       "      <td id=\"T_3196c_row1_col6\" class=\"data row1 col6\" >0</td>\n",
       "      <td id=\"T_3196c_row1_col7\" class=\"data row1 col7\" >0</td>\n",
       "      <td id=\"T_3196c_row1_col8\" class=\"data row1 col8\" >0</td>\n",
       "      <td id=\"T_3196c_row1_col9\" class=\"data row1 col9\" >0</td>\n",
       "      <td id=\"T_3196c_row1_col10\" class=\"data row1 col10\" >0</td>\n",
       "      <td id=\"T_3196c_row1_col11\" class=\"data row1 col11\" >0</td>\n",
       "      <td id=\"T_3196c_row1_col12\" class=\"data row1 col12\" >0</td>\n",
       "      <td id=\"T_3196c_row1_col13\" class=\"data row1 col13\" >0</td>\n",
       "      <td id=\"T_3196c_row1_col14\" class=\"data row1 col14\" >0</td>\n",
       "      <td id=\"T_3196c_row1_col15\" class=\"data row1 col15\" >0</td>\n",
       "      <td id=\"T_3196c_row1_col16\" class=\"data row1 col16\" >0</td>\n",
       "      <td id=\"T_3196c_row1_col17\" class=\"data row1 col17\" >0</td>\n",
       "      <td id=\"T_3196c_row1_col18\" class=\"data row1 col18\" >0</td>\n",
       "      <td id=\"T_3196c_row1_col19\" class=\"data row1 col19\" >0</td>\n",
       "      <td id=\"T_3196c_row1_col20\" class=\"data row1 col20\" >0</td>\n",
       "      <td id=\"T_3196c_row1_col21\" class=\"data row1 col21\" >0</td>\n",
       "      <td id=\"T_3196c_row1_col22\" class=\"data row1 col22\" >0</td>\n",
       "      <td id=\"T_3196c_row1_col23\" class=\"data row1 col23\" >0</td>\n",
       "      <td id=\"T_3196c_row1_col24\" class=\"data row1 col24\" >1</td>\n",
       "      <td id=\"T_3196c_row1_col25\" class=\"data row1 col25\" >1</td>\n",
       "      <td id=\"T_3196c_row1_col26\" class=\"data row1 col26\" >1</td>\n",
       "      <td id=\"T_3196c_row1_col27\" class=\"data row1 col27\" >1</td>\n",
       "      <td id=\"T_3196c_row1_col28\" class=\"data row1 col28\" >1</td>\n",
       "      <td id=\"T_3196c_row1_col29\" class=\"data row1 col29\" >1</td>\n",
       "      <td id=\"T_3196c_row1_col30\" class=\"data row1 col30\" >1</td>\n",
       "      <td id=\"T_3196c_row1_col31\" class=\"data row1 col31\" >1</td>\n",
       "      <td id=\"T_3196c_row1_col32\" class=\"data row1 col32\" >1</td>\n",
       "      <td id=\"T_3196c_row1_col33\" class=\"data row1 col33\" >1</td>\n",
       "      <td id=\"T_3196c_row1_col34\" class=\"data row1 col34\" >1</td>\n",
       "      <td id=\"T_3196c_row1_col35\" class=\"data row1 col35\" >1</td>\n",
       "      <td id=\"T_3196c_row1_col36\" class=\"data row1 col36\" >1</td>\n",
       "      <td id=\"T_3196c_row1_col37\" class=\"data row1 col37\" >1</td>\n",
       "      <td id=\"T_3196c_row1_col38\" class=\"data row1 col38\" >1</td>\n",
       "      <td id=\"T_3196c_row1_col39\" class=\"data row1 col39\" >1</td>\n",
       "      <td id=\"T_3196c_row1_col40\" class=\"data row1 col40\" >1</td>\n",
       "      <td id=\"T_3196c_row1_col41\" class=\"data row1 col41\" >1</td>\n",
       "      <td id=\"T_3196c_row1_col42\" class=\"data row1 col42\" >1</td>\n",
       "      <td id=\"T_3196c_row1_col43\" class=\"data row1 col43\" >1</td>\n",
       "      <td id=\"T_3196c_row1_col44\" class=\"data row1 col44\" >1</td>\n",
       "      <td id=\"T_3196c_row1_col45\" class=\"data row1 col45\" >1</td>\n",
       "      <td id=\"T_3196c_row1_col46\" class=\"data row1 col46\" >1</td>\n",
       "      <td id=\"T_3196c_row1_col47\" class=\"data row1 col47\" >1</td>\n",
       "      <td id=\"T_3196c_row1_col48\" class=\"data row1 col48\" >1</td>\n",
       "      <td id=\"T_3196c_row1_col49\" class=\"data row1 col49\" >1</td>\n",
       "      <td id=\"T_3196c_row1_col50\" class=\"data row1 col50\" >1</td>\n",
       "      <td id=\"T_3196c_row1_col51\" class=\"data row1 col51\" >1</td>\n",
       "      <td id=\"T_3196c_row1_col52\" class=\"data row1 col52\" >1</td>\n",
       "    </tr>\n",
       "  </tbody>\n",
       "</table>\n"
      ],
      "text/plain": [
       "<pandas.io.formats.style.Styler at 0x164c3dd20>"
      ]
     },
     "execution_count": 97,
     "metadata": {},
     "output_type": "execute_result"
    }
   ],
   "source": [
    "for key, value in raw_datasets['train'][14].items():\n",
    "    print (f\"{key:<10s}: {value}\")\n",
    "\n",
    "inputs = tokenizer(raw_datasets['train'][14]['sentence1'], raw_datasets['train'][14]['sentence2'])\n",
    "    \n",
    "df = pd.DataFrame([\n",
    "    tokenizer.convert_ids_to_tokens(inputs[\"input_ids\"]),\n",
    "    inputs[\"token_type_ids\"]\n",
    "])\n",
    "df.index = [\"tokens\", \"token_type_ids\"]\n",
    "\n",
    "slice_ = [col for col in df.columns if (df.loc['token_type_ids', col]==1)]\n",
    "df.style.set_properties(**{'background-color': '#ffffb3'}, subset=slice_)"
   ]
  },
  {
   "cell_type": "markdown",
   "metadata": {},
   "source": [
    "<span style=\"color:blue\"><b>As you can see, the parts of the input corresponding to `[CLS]` `sentence1` `[SEP]` all have a token type ID of `0`, while the other parts, corresponding to `sentence2` `[SEP]`, all have a token type ID of `1`.</span>\n",
    "\n",
    "Note that if you select a different checkpoint, you won’t necessarily have the `token_type_ids` in your tokenized inputs (for instance, they’re not returned if you use a DistilBERT model). They are only returned when the model will know what to do with them, because it has seen them during its pretraining.\n",
    "\n",
    "Here, BERT is pretrained with token type IDs, and on top of the masked language modeling objective we talked about in Chapter 1, it has an additional objective called <i>next sentence prediction</i>. The goal with this task is to model the relationship between pairs of sentences.\n",
    "\n",
    "With next sentence prediction, the model is provided pairs of sentences (with randomly masked tokens) and asked to predict whether the second sentence follows the first. To make the task non-trivial, half of the time the sentences follow each other in the original document they were extracted from, and the other half of the time the two sentences come from two different documents.\n",
    "\n",
    "<span style=\"color:blue\">In general, you don’t need to worry about whether or not there are `token_type_ids` in your tokenized inputs: <b>as long as you use the same checkpoint for the tokenizer and the model, everything will be fine as the tokenizer knows what to provide to its model</b>.</span>\n",
    "\n",
    "Now that we have seen how our tokenizer can deal with one pair of sentences, we can use it to tokenize our whole dataset: like in the previous chapter, we can feed the tokenizer a list of pairs of sentences by giving it the list of first sentences, then the list of second sentences. This is also compatible with the padding and truncation options we saw in Chapter 2. So, one way to preprocess the training dataset is:"
   ]
  },
  {
   "cell_type": "code",
   "execution_count": 101,
   "metadata": {
    "ExecuteTime": {
     "end_time": "2023-07-15T01:57:45.041418Z",
     "start_time": "2023-07-15T01:57:44.912188Z"
    },
    "id": "n5X7vCcVrzto"
   },
   "outputs": [
    {
     "data": {
      "text/plain": [
       "transformers.tokenization_utils_base.BatchEncoding"
      ]
     },
     "execution_count": 101,
     "metadata": {},
     "output_type": "execute_result"
    }
   ],
   "source": [
    "tokenized_dataset = tokenizer(\n",
    "    raw_datasets[\"train\"][\"sentence1\"],\n",
    "    raw_datasets[\"train\"][\"sentence2\"],\n",
    "    padding=True,\n",
    "    truncation=True,\n",
    ")\n",
    "type(tokenized_dataset) "
   ]
  },
  {
   "cell_type": "code",
   "execution_count": 102,
   "metadata": {
    "ExecuteTime": {
     "end_time": "2023-07-15T01:57:48.765876Z",
     "start_time": "2023-07-15T01:57:48.751883Z"
    }
   },
   "outputs": [
    {
     "data": {
      "text/plain": [
       "dict_keys(['input_ids', 'token_type_ids', 'attention_mask'])"
      ]
     },
     "execution_count": 102,
     "metadata": {},
     "output_type": "execute_result"
    }
   ],
   "source": [
    "tokenized_dataset.keys()"
   ]
  },
  {
   "cell_type": "code",
   "execution_count": 105,
   "metadata": {
    "ExecuteTime": {
     "end_time": "2023-07-15T01:58:12.806573Z",
     "start_time": "2023-07-15T01:58:12.789979Z"
    }
   },
   "outputs": [
    {
     "data": {
      "text/plain": [
       "(list, list)"
      ]
     },
     "execution_count": 105,
     "metadata": {},
     "output_type": "execute_result"
    }
   ],
   "source": [
    "type(tokenized_dataset['input_ids']), type(tokenized_dataset['input_ids'][0])"
   ]
  },
  {
   "cell_type": "markdown",
   "metadata": {},
   "source": [
    "This works well, but <span style=\"color:red\">it has the disadvantage of returning a dictionary (with our keys, `input_ids`, `attention_mask`, and `token_type_ids`, and values that are lists of lists). It will also only work if you have enough RAM to store your whole dataset during the tokenization</span> (<span style=\"color:green\">whereas the datasets from the 🤗 Datasets library are [Apache Arrow](https://arrow.apache.org/) files stored on the disk, so you only keep the samples you ask for loaded in memory ➡️ <b>Even if our dataset is huge, we won't get out of RAM error</b></span>).\n",
    "\n",
    "<span style=\"color:green\">To keep the data as a dataset, we will use the [`Dataset.map()`](https://huggingface.co/docs/datasets/package_reference/main_classes.html#datasets.Dataset.map) method. This also allows us some extra flexibility, if we need more preprocessing done than just tokenization</span>. The `map()` method works by applying a function on each element of the dataset, so let’s define a function that tokenizes our inputs:"
   ]
  },
  {
   "cell_type": "code",
   "execution_count": 106,
   "metadata": {
    "ExecuteTime": {
     "end_time": "2023-07-15T01:59:44.823798Z",
     "start_time": "2023-07-15T01:59:44.816315Z"
    },
    "id": "YBIMkwPcrzto"
   },
   "outputs": [],
   "source": [
    "def tokenize_function(example):\n",
    "    return tokenizer(example[\"sentence1\"], example[\"sentence2\"], truncation=True)"
   ]
  },
  {
   "cell_type": "markdown",
   "metadata": {},
   "source": [
    "<span style=\"color:green\">This function takes a dictionary (like the items of our dataset) and returns a new dictionary with the keys `input_ids`, `attention_mask`, and `token_type_ids`</span>. Note that it also works if the example dictionary contains several samples (each key as a list of sentences) since the `tokenizer` works on lists of pairs of sentences, as seen before. This will allow us to use the option `batched=True` in our call to `map()`, which will greatly speed up the tokenization. The tokenizer is backed by a tokenizer written in Rust from the 🤗 Tokenizers library. This tokenizer can be very fast, but only if we give it lots of inputs at once.\n",
    "\n",
    "<span style=\"color:blue\">Note that we’ve left the `padding` argument out in our tokenization function for now</span>. <span style=\"color:red\">This is because padding all the samples to the maximum length is not efficient</span>: <span style=\"color:green\">it’s better to pad the samples when we’re building a batch, as then we only need to pad to the maximum length in that batch, and not the maximum length in the entire dataset. This can save a lot of time and processing power when the inputs have very variable lengths!</span>\n",
    "\n",
    "Here is how we apply the tokenization function on all our datasets at once. <span style=\"color:green\">We’re using `batched=True` in our call to map so <b>the function is applied to multiple elements of our dataset at once (i.e., process examples in batches)</b>, and not on each element separately. This allows for faster preprocessing <b>by taking advantage of vectorization and parallelization</b>.</span>\n",
    "\n",
    "The way the 🤗 Datasets library applies this processing is by adding new fields to the datasets, one for each key in the dictionary returned by the preprocessing function:"
   ]
  },
  {
   "cell_type": "code",
   "execution_count": 113,
   "metadata": {
    "ExecuteTime": {
     "end_time": "2023-07-15T02:06:24.560458Z",
     "start_time": "2023-07-15T02:06:24.547848Z"
    }
   },
   "outputs": [
    {
     "data": {
      "text/plain": [
       "DatasetDict({\n",
       "    train: Dataset({\n",
       "        features: ['sentence1', 'sentence2', 'label', 'idx'],\n",
       "        num_rows: 3668\n",
       "    })\n",
       "    validation: Dataset({\n",
       "        features: ['sentence1', 'sentence2', 'label', 'idx'],\n",
       "        num_rows: 408\n",
       "    })\n",
       "    test: Dataset({\n",
       "        features: ['sentence1', 'sentence2', 'label', 'idx'],\n",
       "        num_rows: 1725\n",
       "    })\n",
       "})"
      ]
     },
     "execution_count": 113,
     "metadata": {},
     "output_type": "execute_result"
    }
   ],
   "source": [
    "raw_datasets"
   ]
  },
  {
   "cell_type": "code",
   "execution_count": 134,
   "metadata": {
    "ExecuteTime": {
     "end_time": "2023-07-15T02:07:54.479394Z",
     "start_time": "2023-07-15T02:07:54.447613Z"
    },
    "id": "E9hn4uEsrzto",
    "outputId": "15893f27-a550-480c-bf5f-ab5390bd554e"
   },
   "outputs": [
    {
     "name": "stderr",
     "output_type": "stream",
     "text": [
      "Loading cached processed dataset at /Users/prasanth.thangavel/.cache/huggingface/datasets/glue/mrpc/1.0.0/dacbe3125aa31d7f70367a07a8a9e72a5a0bfeb5fc42e75c9db75b96da6053ad/cache-9e380720cf5195d0.arrow\n",
      "Loading cached processed dataset at /Users/prasanth.thangavel/.cache/huggingface/datasets/glue/mrpc/1.0.0/dacbe3125aa31d7f70367a07a8a9e72a5a0bfeb5fc42e75c9db75b96da6053ad/cache-ce2aa0cbccf1bc92.arrow\n",
      "Loading cached processed dataset at /Users/prasanth.thangavel/.cache/huggingface/datasets/glue/mrpc/1.0.0/dacbe3125aa31d7f70367a07a8a9e72a5a0bfeb5fc42e75c9db75b96da6053ad/cache-51d35a2247c9e603.arrow\n"
     ]
    },
    {
     "data": {
      "text/plain": [
       "DatasetDict({\n",
       "    train: Dataset({\n",
       "        features: ['sentence1', 'sentence2', 'label', 'idx', 'input_ids', 'token_type_ids', 'attention_mask'],\n",
       "        num_rows: 3668\n",
       "    })\n",
       "    validation: Dataset({\n",
       "        features: ['sentence1', 'sentence2', 'label', 'idx', 'input_ids', 'token_type_ids', 'attention_mask'],\n",
       "        num_rows: 408\n",
       "    })\n",
       "    test: Dataset({\n",
       "        features: ['sentence1', 'sentence2', 'label', 'idx', 'input_ids', 'token_type_ids', 'attention_mask'],\n",
       "        num_rows: 1725\n",
       "    })\n",
       "})"
      ]
     },
     "execution_count": 134,
     "metadata": {},
     "output_type": "execute_result"
    }
   ],
   "source": [
    "tokenized_datasets = raw_datasets.map(tokenize_function, batched=True, num_proc=None)\n",
    "tokenized_datasets"
   ]
  },
  {
   "cell_type": "code",
   "execution_count": 115,
   "metadata": {
    "ExecuteTime": {
     "end_time": "2023-07-15T02:06:31.418256Z",
     "start_time": "2023-07-15T02:06:31.401714Z"
    }
   },
   "outputs": [
    {
     "data": {
      "text/plain": [
       "(datasets.dataset_dict.DatasetDict, datasets.dataset_dict.DatasetDict)"
      ]
     },
     "execution_count": 115,
     "metadata": {},
     "output_type": "execute_result"
    }
   ],
   "source": [
    "type(raw_datasets), type(tokenized_datasets)"
   ]
  },
  {
   "cell_type": "markdown",
   "metadata": {},
   "source": [
    "<span style=\"color:green\">You can even use multiprocessing when applying your preprocessing function with `map()` by passing along a `num_proc` argument. We didn’t do this here because the 🤗 Tokenizers library already uses multiple threads to tokenize our samples faster, but if you are not using a fast tokenizer backed by this library, this could speed up your preprocessing.</span>\n",
    "\n",
    "Our `tokenize_function` returns a dictionary with the keys `input_ids`, `attention_mask`, and `token_type_ids`, so those three fields are added to all splits of our dataset. Note that we could also have changed existing fields if our preprocessing function returned a new value for an existing key in the dataset to which we applied `map()`.\n",
    "\n",
    "The last thing we will need to do is pad all the examples to the length of the longest element when we batch elements together — a technique we refer to as <i>dynamic padding</i>."
   ]
  },
  {
   "cell_type": "markdown",
   "metadata": {},
   "source": [
    "## Dynamic padding"
   ]
  },
  {
   "cell_type": "markdown",
   "metadata": {},
   "source": [
    "<img src=\"images/dynamic-padding-1.png\" style=\"width:650px;\" title=\"Padding is needed\">"
   ]
  },
  {
   "cell_type": "markdown",
   "metadata": {},
   "source": [
    "**Approach 1: Static padding**"
   ]
  },
  {
   "cell_type": "markdown",
   "metadata": {},
   "source": [
    "<img src=\"images/dynamic-padding-2.png\" style=\"width:750px;\" title=\"Padding - Approach 1\">"
   ]
  },
  {
   "cell_type": "markdown",
   "metadata": {},
   "source": []
  },
  {
   "cell_type": "markdown",
   "metadata": {},
   "source": [
    "<img src=\"images/dynamic-padding-4.png\" style=\"width:750px;\" title=\"Padding - Approach 1 example\">"
   ]
  },
  {
   "cell_type": "markdown",
   "metadata": {
    "ExecuteTime": {
     "end_time": "2023-07-15T03:24:27.868746Z",
     "start_time": "2023-07-15T03:24:27.859237Z"
    }
   },
   "source": [
    "**Approach 2: Dynamic padding**\n",
    "<img src=\"images/dynamic-padding-3.png\" style=\"width:750px;\" title=\"Padding - Approach 2: Dynamic padding\">"
   ]
  },
  {
   "cell_type": "markdown",
   "metadata": {
    "ExecuteTime": {
     "end_time": "2023-07-15T03:24:41.404272Z",
     "start_time": "2023-07-15T03:24:41.390250Z"
    }
   },
   "source": [
    "<img src=\"images/dynamic-padding-5.png\" style=\"width:750px;\" title=\"Padding - Approach 2 example\">"
   ]
  },
  {
   "cell_type": "markdown",
   "metadata": {
    "ExecuteTime": {
     "end_time": "2023-07-15T03:25:30.616667Z",
     "start_time": "2023-07-15T03:25:30.599378Z"
    }
   },
   "source": [
    "<img src=\"images/dynamic-padding-6.png\" style=\"width:750px;\" title=\"Padding - Approach 2 example cont\">"
   ]
  },
  {
   "cell_type": "markdown",
   "metadata": {},
   "source": [
    "The function that is responsible for putting together samples inside a batch is called a <i>collate function</i>. It’s an argument you can pass when you build a `DataLoader`, the default being a function that will just convert your samples to PyTorch tensors and concatenate them (recursively if your elements are lists, tuples, or dictionaries). <span style=\"color:blue\">This won’t be possible in our case since the inputs we have won’t all be of the same size. We have deliberately postponed the padding, to only apply it as necessary on each batch and avoid having over-long inputs with a lot of padding. This will speed up training by quite a bit</span>, but note that if you’re training on a TPU it can cause problems — TPUs prefer fixed shapes, even when that requires extra padding.\n",
    "\n",
    "To do this in practice, we have to define a <span style=\"color:green\">collate function that will apply the correct amount of padding to the items of the dataset we want to batch together. Fortunately, the 🤗 Transformers library provides us with such a function via `DataCollatorWithPadding`</span>. It takes a tokenizer when you instantiate it (to know which padding token to use, and whether the model expects padding to be on the left or on the right of the inputs) and will do everything you need:"
   ]
  },
  {
   "cell_type": "code",
   "execution_count": 136,
   "metadata": {
    "ExecuteTime": {
     "end_time": "2023-07-15T02:12:08.827341Z",
     "start_time": "2023-07-15T02:12:08.814536Z"
    },
    "id": "OjDhUELNrztp"
   },
   "outputs": [],
   "source": [
    "from transformers import DataCollatorWithPadding\n",
    "\n",
    "data_collator = DataCollatorWithPadding(tokenizer=tokenizer)"
   ]
  },
  {
   "cell_type": "markdown",
   "metadata": {},
   "source": [
    "To test this new toy, let’s grab a few samples from our training set that we would like to batch together. Here, we remove the columns `idx`, `sentence1`, and `sentence2` as they won’t be needed and contain strings (and we can’t create tensors with strings) and have a look at the <b>lengths of each entry (i.e. `input_ids`) in the batch</b>:"
   ]
  },
  {
   "cell_type": "code",
   "execution_count": 137,
   "metadata": {
    "ExecuteTime": {
     "end_time": "2023-07-15T02:12:47.792557Z",
     "start_time": "2023-07-15T02:12:47.777531Z"
    },
    "id": "aGoOmcLxrztp",
    "outputId": "b249718d-7d4f-435f-b889-7b83371781cf"
   },
   "outputs": [
    {
     "data": {
      "text/plain": [
       "[50, 59, 47, 67, 59, 50, 62, 32]"
      ]
     },
     "execution_count": 137,
     "metadata": {},
     "output_type": "execute_result"
    }
   ],
   "source": [
    "samples = tokenized_datasets[\"train\"][:8] # Batch size of 8\n",
    "samples = {k: v for k, v in samples.items() if k not in [\"idx\", \"sentence1\", \"sentence2\"]}\n",
    "[len(x) for x in samples[\"input_ids\"]]"
   ]
  },
  {
   "cell_type": "markdown",
   "metadata": {},
   "source": [
    "<span style=\"color:blue\">No surprise, we get samples of varying length, from 32 to 67. <b>Dynamic padding</b> means the samples in this batch should all be padded to a length of 67, the maximum length inside the batch</span>. <span style=\"color:red\"><b>Without dynamic padding</b>, all of the samples would have to be padded to the maximum length in the whole dataset, or the maximum length the model can accept</span>. Let’s double-check that our `data_collator` is dynamically padding the batch properly:"
   ]
  },
  {
   "cell_type": "code",
   "execution_count": 141,
   "metadata": {
    "ExecuteTime": {
     "end_time": "2023-07-15T02:15:21.739199Z",
     "start_time": "2023-07-15T02:15:21.722356Z"
    },
    "id": "TjWtYEFfrztp",
    "outputId": "7f4df393-63bc-4a71-be1b-350e4182ce2b"
   },
   "outputs": [
    {
     "data": {
      "text/plain": [
       "{'input_ids': torch.Size([8, 67]),\n",
       " 'token_type_ids': torch.Size([8, 67]),\n",
       " 'attention_mask': torch.Size([8, 67]),\n",
       " 'labels': torch.Size([8])}"
      ]
     },
     "execution_count": 141,
     "metadata": {},
     "output_type": "execute_result"
    }
   ],
   "source": [
    "batch = data_collator(samples)\n",
    "{k: v.shape for k, v in batch.items()}"
   ]
  },
  {
   "cell_type": "code",
   "execution_count": 153,
   "metadata": {
    "ExecuteTime": {
     "end_time": "2023-07-15T02:19:25.233725Z",
     "start_time": "2023-07-15T02:19:25.200196Z"
    },
    "scrolled": true
   },
   "outputs": [
    {
     "data": {
      "text/html": [
       "<style type=\"text/css\">\n",
       "#T_3d02e_row0_col50, #T_3d02e_row0_col51, #T_3d02e_row0_col52, #T_3d02e_row0_col53, #T_3d02e_row0_col54, #T_3d02e_row0_col55, #T_3d02e_row0_col56, #T_3d02e_row0_col57, #T_3d02e_row0_col58, #T_3d02e_row0_col59, #T_3d02e_row0_col60, #T_3d02e_row0_col61, #T_3d02e_row0_col62, #T_3d02e_row0_col63, #T_3d02e_row0_col64, #T_3d02e_row0_col65, #T_3d02e_row0_col66, #T_3d02e_row1_col59, #T_3d02e_row1_col60, #T_3d02e_row1_col61, #T_3d02e_row1_col62, #T_3d02e_row1_col63, #T_3d02e_row1_col64, #T_3d02e_row1_col65, #T_3d02e_row1_col66, #T_3d02e_row2_col47, #T_3d02e_row2_col48, #T_3d02e_row2_col49, #T_3d02e_row2_col50, #T_3d02e_row2_col51, #T_3d02e_row2_col52, #T_3d02e_row2_col53, #T_3d02e_row2_col54, #T_3d02e_row2_col55, #T_3d02e_row2_col56, #T_3d02e_row2_col57, #T_3d02e_row2_col58, #T_3d02e_row2_col59, #T_3d02e_row2_col60, #T_3d02e_row2_col61, #T_3d02e_row2_col62, #T_3d02e_row2_col63, #T_3d02e_row2_col64, #T_3d02e_row2_col65, #T_3d02e_row2_col66, #T_3d02e_row4_col59, #T_3d02e_row4_col60, #T_3d02e_row4_col61, #T_3d02e_row4_col62, #T_3d02e_row4_col63, #T_3d02e_row4_col64, #T_3d02e_row4_col65, #T_3d02e_row4_col66, #T_3d02e_row5_col50, #T_3d02e_row5_col51, #T_3d02e_row5_col52, #T_3d02e_row5_col53, #T_3d02e_row5_col54, #T_3d02e_row5_col55, #T_3d02e_row5_col56, #T_3d02e_row5_col57, #T_3d02e_row5_col58, #T_3d02e_row5_col59, #T_3d02e_row5_col60, #T_3d02e_row5_col61, #T_3d02e_row5_col62, #T_3d02e_row5_col63, #T_3d02e_row5_col64, #T_3d02e_row5_col65, #T_3d02e_row5_col66, #T_3d02e_row6_col62, #T_3d02e_row6_col63, #T_3d02e_row6_col64, #T_3d02e_row6_col65, #T_3d02e_row6_col66, #T_3d02e_row7_col32, #T_3d02e_row7_col33, #T_3d02e_row7_col34, #T_3d02e_row7_col35, #T_3d02e_row7_col36, #T_3d02e_row7_col37, #T_3d02e_row7_col38, #T_3d02e_row7_col39, #T_3d02e_row7_col40, #T_3d02e_row7_col41, #T_3d02e_row7_col42, #T_3d02e_row7_col43, #T_3d02e_row7_col44, #T_3d02e_row7_col45, #T_3d02e_row7_col46, #T_3d02e_row7_col47, #T_3d02e_row7_col48, #T_3d02e_row7_col49, #T_3d02e_row7_col50, #T_3d02e_row7_col51, #T_3d02e_row7_col52, #T_3d02e_row7_col53, #T_3d02e_row7_col54, #T_3d02e_row7_col55, #T_3d02e_row7_col56, #T_3d02e_row7_col57, #T_3d02e_row7_col58, #T_3d02e_row7_col59, #T_3d02e_row7_col60, #T_3d02e_row7_col61, #T_3d02e_row7_col62, #T_3d02e_row7_col63, #T_3d02e_row7_col64, #T_3d02e_row7_col65, #T_3d02e_row7_col66 {\n",
       "  background-color: yellow;\n",
       "}\n",
       "</style>\n",
       "<table id=\"T_3d02e\">\n",
       "  <thead>\n",
       "    <tr>\n",
       "      <th class=\"blank level0\" >&nbsp;</th>\n",
       "      <th id=\"T_3d02e_level0_col0\" class=\"col_heading level0 col0\" >0</th>\n",
       "      <th id=\"T_3d02e_level0_col1\" class=\"col_heading level0 col1\" >1</th>\n",
       "      <th id=\"T_3d02e_level0_col2\" class=\"col_heading level0 col2\" >2</th>\n",
       "      <th id=\"T_3d02e_level0_col3\" class=\"col_heading level0 col3\" >3</th>\n",
       "      <th id=\"T_3d02e_level0_col4\" class=\"col_heading level0 col4\" >4</th>\n",
       "      <th id=\"T_3d02e_level0_col5\" class=\"col_heading level0 col5\" >5</th>\n",
       "      <th id=\"T_3d02e_level0_col6\" class=\"col_heading level0 col6\" >6</th>\n",
       "      <th id=\"T_3d02e_level0_col7\" class=\"col_heading level0 col7\" >7</th>\n",
       "      <th id=\"T_3d02e_level0_col8\" class=\"col_heading level0 col8\" >8</th>\n",
       "      <th id=\"T_3d02e_level0_col9\" class=\"col_heading level0 col9\" >9</th>\n",
       "      <th id=\"T_3d02e_level0_col10\" class=\"col_heading level0 col10\" >10</th>\n",
       "      <th id=\"T_3d02e_level0_col11\" class=\"col_heading level0 col11\" >11</th>\n",
       "      <th id=\"T_3d02e_level0_col12\" class=\"col_heading level0 col12\" >12</th>\n",
       "      <th id=\"T_3d02e_level0_col13\" class=\"col_heading level0 col13\" >13</th>\n",
       "      <th id=\"T_3d02e_level0_col14\" class=\"col_heading level0 col14\" >14</th>\n",
       "      <th id=\"T_3d02e_level0_col15\" class=\"col_heading level0 col15\" >15</th>\n",
       "      <th id=\"T_3d02e_level0_col16\" class=\"col_heading level0 col16\" >16</th>\n",
       "      <th id=\"T_3d02e_level0_col17\" class=\"col_heading level0 col17\" >17</th>\n",
       "      <th id=\"T_3d02e_level0_col18\" class=\"col_heading level0 col18\" >18</th>\n",
       "      <th id=\"T_3d02e_level0_col19\" class=\"col_heading level0 col19\" >19</th>\n",
       "      <th id=\"T_3d02e_level0_col20\" class=\"col_heading level0 col20\" >20</th>\n",
       "      <th id=\"T_3d02e_level0_col21\" class=\"col_heading level0 col21\" >21</th>\n",
       "      <th id=\"T_3d02e_level0_col22\" class=\"col_heading level0 col22\" >22</th>\n",
       "      <th id=\"T_3d02e_level0_col23\" class=\"col_heading level0 col23\" >23</th>\n",
       "      <th id=\"T_3d02e_level0_col24\" class=\"col_heading level0 col24\" >24</th>\n",
       "      <th id=\"T_3d02e_level0_col25\" class=\"col_heading level0 col25\" >25</th>\n",
       "      <th id=\"T_3d02e_level0_col26\" class=\"col_heading level0 col26\" >26</th>\n",
       "      <th id=\"T_3d02e_level0_col27\" class=\"col_heading level0 col27\" >27</th>\n",
       "      <th id=\"T_3d02e_level0_col28\" class=\"col_heading level0 col28\" >28</th>\n",
       "      <th id=\"T_3d02e_level0_col29\" class=\"col_heading level0 col29\" >29</th>\n",
       "      <th id=\"T_3d02e_level0_col30\" class=\"col_heading level0 col30\" >30</th>\n",
       "      <th id=\"T_3d02e_level0_col31\" class=\"col_heading level0 col31\" >31</th>\n",
       "      <th id=\"T_3d02e_level0_col32\" class=\"col_heading level0 col32\" >32</th>\n",
       "      <th id=\"T_3d02e_level0_col33\" class=\"col_heading level0 col33\" >33</th>\n",
       "      <th id=\"T_3d02e_level0_col34\" class=\"col_heading level0 col34\" >34</th>\n",
       "      <th id=\"T_3d02e_level0_col35\" class=\"col_heading level0 col35\" >35</th>\n",
       "      <th id=\"T_3d02e_level0_col36\" class=\"col_heading level0 col36\" >36</th>\n",
       "      <th id=\"T_3d02e_level0_col37\" class=\"col_heading level0 col37\" >37</th>\n",
       "      <th id=\"T_3d02e_level0_col38\" class=\"col_heading level0 col38\" >38</th>\n",
       "      <th id=\"T_3d02e_level0_col39\" class=\"col_heading level0 col39\" >39</th>\n",
       "      <th id=\"T_3d02e_level0_col40\" class=\"col_heading level0 col40\" >40</th>\n",
       "      <th id=\"T_3d02e_level0_col41\" class=\"col_heading level0 col41\" >41</th>\n",
       "      <th id=\"T_3d02e_level0_col42\" class=\"col_heading level0 col42\" >42</th>\n",
       "      <th id=\"T_3d02e_level0_col43\" class=\"col_heading level0 col43\" >43</th>\n",
       "      <th id=\"T_3d02e_level0_col44\" class=\"col_heading level0 col44\" >44</th>\n",
       "      <th id=\"T_3d02e_level0_col45\" class=\"col_heading level0 col45\" >45</th>\n",
       "      <th id=\"T_3d02e_level0_col46\" class=\"col_heading level0 col46\" >46</th>\n",
       "      <th id=\"T_3d02e_level0_col47\" class=\"col_heading level0 col47\" >47</th>\n",
       "      <th id=\"T_3d02e_level0_col48\" class=\"col_heading level0 col48\" >48</th>\n",
       "      <th id=\"T_3d02e_level0_col49\" class=\"col_heading level0 col49\" >49</th>\n",
       "      <th id=\"T_3d02e_level0_col50\" class=\"col_heading level0 col50\" >50</th>\n",
       "      <th id=\"T_3d02e_level0_col51\" class=\"col_heading level0 col51\" >51</th>\n",
       "      <th id=\"T_3d02e_level0_col52\" class=\"col_heading level0 col52\" >52</th>\n",
       "      <th id=\"T_3d02e_level0_col53\" class=\"col_heading level0 col53\" >53</th>\n",
       "      <th id=\"T_3d02e_level0_col54\" class=\"col_heading level0 col54\" >54</th>\n",
       "      <th id=\"T_3d02e_level0_col55\" class=\"col_heading level0 col55\" >55</th>\n",
       "      <th id=\"T_3d02e_level0_col56\" class=\"col_heading level0 col56\" >56</th>\n",
       "      <th id=\"T_3d02e_level0_col57\" class=\"col_heading level0 col57\" >57</th>\n",
       "      <th id=\"T_3d02e_level0_col58\" class=\"col_heading level0 col58\" >58</th>\n",
       "      <th id=\"T_3d02e_level0_col59\" class=\"col_heading level0 col59\" >59</th>\n",
       "      <th id=\"T_3d02e_level0_col60\" class=\"col_heading level0 col60\" >60</th>\n",
       "      <th id=\"T_3d02e_level0_col61\" class=\"col_heading level0 col61\" >61</th>\n",
       "      <th id=\"T_3d02e_level0_col62\" class=\"col_heading level0 col62\" >62</th>\n",
       "      <th id=\"T_3d02e_level0_col63\" class=\"col_heading level0 col63\" >63</th>\n",
       "      <th id=\"T_3d02e_level0_col64\" class=\"col_heading level0 col64\" >64</th>\n",
       "      <th id=\"T_3d02e_level0_col65\" class=\"col_heading level0 col65\" >65</th>\n",
       "      <th id=\"T_3d02e_level0_col66\" class=\"col_heading level0 col66\" >66</th>\n",
       "    </tr>\n",
       "  </thead>\n",
       "  <tbody>\n",
       "    <tr>\n",
       "      <th id=\"T_3d02e_level0_row0\" class=\"row_heading level0 row0\" >0</th>\n",
       "      <td id=\"T_3d02e_row0_col0\" class=\"data row0 col0\" >1</td>\n",
       "      <td id=\"T_3d02e_row0_col1\" class=\"data row0 col1\" >1</td>\n",
       "      <td id=\"T_3d02e_row0_col2\" class=\"data row0 col2\" >1</td>\n",
       "      <td id=\"T_3d02e_row0_col3\" class=\"data row0 col3\" >1</td>\n",
       "      <td id=\"T_3d02e_row0_col4\" class=\"data row0 col4\" >1</td>\n",
       "      <td id=\"T_3d02e_row0_col5\" class=\"data row0 col5\" >1</td>\n",
       "      <td id=\"T_3d02e_row0_col6\" class=\"data row0 col6\" >1</td>\n",
       "      <td id=\"T_3d02e_row0_col7\" class=\"data row0 col7\" >1</td>\n",
       "      <td id=\"T_3d02e_row0_col8\" class=\"data row0 col8\" >1</td>\n",
       "      <td id=\"T_3d02e_row0_col9\" class=\"data row0 col9\" >1</td>\n",
       "      <td id=\"T_3d02e_row0_col10\" class=\"data row0 col10\" >1</td>\n",
       "      <td id=\"T_3d02e_row0_col11\" class=\"data row0 col11\" >1</td>\n",
       "      <td id=\"T_3d02e_row0_col12\" class=\"data row0 col12\" >1</td>\n",
       "      <td id=\"T_3d02e_row0_col13\" class=\"data row0 col13\" >1</td>\n",
       "      <td id=\"T_3d02e_row0_col14\" class=\"data row0 col14\" >1</td>\n",
       "      <td id=\"T_3d02e_row0_col15\" class=\"data row0 col15\" >1</td>\n",
       "      <td id=\"T_3d02e_row0_col16\" class=\"data row0 col16\" >1</td>\n",
       "      <td id=\"T_3d02e_row0_col17\" class=\"data row0 col17\" >1</td>\n",
       "      <td id=\"T_3d02e_row0_col18\" class=\"data row0 col18\" >1</td>\n",
       "      <td id=\"T_3d02e_row0_col19\" class=\"data row0 col19\" >1</td>\n",
       "      <td id=\"T_3d02e_row0_col20\" class=\"data row0 col20\" >1</td>\n",
       "      <td id=\"T_3d02e_row0_col21\" class=\"data row0 col21\" >1</td>\n",
       "      <td id=\"T_3d02e_row0_col22\" class=\"data row0 col22\" >1</td>\n",
       "      <td id=\"T_3d02e_row0_col23\" class=\"data row0 col23\" >1</td>\n",
       "      <td id=\"T_3d02e_row0_col24\" class=\"data row0 col24\" >1</td>\n",
       "      <td id=\"T_3d02e_row0_col25\" class=\"data row0 col25\" >1</td>\n",
       "      <td id=\"T_3d02e_row0_col26\" class=\"data row0 col26\" >1</td>\n",
       "      <td id=\"T_3d02e_row0_col27\" class=\"data row0 col27\" >1</td>\n",
       "      <td id=\"T_3d02e_row0_col28\" class=\"data row0 col28\" >1</td>\n",
       "      <td id=\"T_3d02e_row0_col29\" class=\"data row0 col29\" >1</td>\n",
       "      <td id=\"T_3d02e_row0_col30\" class=\"data row0 col30\" >1</td>\n",
       "      <td id=\"T_3d02e_row0_col31\" class=\"data row0 col31\" >1</td>\n",
       "      <td id=\"T_3d02e_row0_col32\" class=\"data row0 col32\" >1</td>\n",
       "      <td id=\"T_3d02e_row0_col33\" class=\"data row0 col33\" >1</td>\n",
       "      <td id=\"T_3d02e_row0_col34\" class=\"data row0 col34\" >1</td>\n",
       "      <td id=\"T_3d02e_row0_col35\" class=\"data row0 col35\" >1</td>\n",
       "      <td id=\"T_3d02e_row0_col36\" class=\"data row0 col36\" >1</td>\n",
       "      <td id=\"T_3d02e_row0_col37\" class=\"data row0 col37\" >1</td>\n",
       "      <td id=\"T_3d02e_row0_col38\" class=\"data row0 col38\" >1</td>\n",
       "      <td id=\"T_3d02e_row0_col39\" class=\"data row0 col39\" >1</td>\n",
       "      <td id=\"T_3d02e_row0_col40\" class=\"data row0 col40\" >1</td>\n",
       "      <td id=\"T_3d02e_row0_col41\" class=\"data row0 col41\" >1</td>\n",
       "      <td id=\"T_3d02e_row0_col42\" class=\"data row0 col42\" >1</td>\n",
       "      <td id=\"T_3d02e_row0_col43\" class=\"data row0 col43\" >1</td>\n",
       "      <td id=\"T_3d02e_row0_col44\" class=\"data row0 col44\" >1</td>\n",
       "      <td id=\"T_3d02e_row0_col45\" class=\"data row0 col45\" >1</td>\n",
       "      <td id=\"T_3d02e_row0_col46\" class=\"data row0 col46\" >1</td>\n",
       "      <td id=\"T_3d02e_row0_col47\" class=\"data row0 col47\" >1</td>\n",
       "      <td id=\"T_3d02e_row0_col48\" class=\"data row0 col48\" >1</td>\n",
       "      <td id=\"T_3d02e_row0_col49\" class=\"data row0 col49\" >1</td>\n",
       "      <td id=\"T_3d02e_row0_col50\" class=\"data row0 col50\" >0</td>\n",
       "      <td id=\"T_3d02e_row0_col51\" class=\"data row0 col51\" >0</td>\n",
       "      <td id=\"T_3d02e_row0_col52\" class=\"data row0 col52\" >0</td>\n",
       "      <td id=\"T_3d02e_row0_col53\" class=\"data row0 col53\" >0</td>\n",
       "      <td id=\"T_3d02e_row0_col54\" class=\"data row0 col54\" >0</td>\n",
       "      <td id=\"T_3d02e_row0_col55\" class=\"data row0 col55\" >0</td>\n",
       "      <td id=\"T_3d02e_row0_col56\" class=\"data row0 col56\" >0</td>\n",
       "      <td id=\"T_3d02e_row0_col57\" class=\"data row0 col57\" >0</td>\n",
       "      <td id=\"T_3d02e_row0_col58\" class=\"data row0 col58\" >0</td>\n",
       "      <td id=\"T_3d02e_row0_col59\" class=\"data row0 col59\" >0</td>\n",
       "      <td id=\"T_3d02e_row0_col60\" class=\"data row0 col60\" >0</td>\n",
       "      <td id=\"T_3d02e_row0_col61\" class=\"data row0 col61\" >0</td>\n",
       "      <td id=\"T_3d02e_row0_col62\" class=\"data row0 col62\" >0</td>\n",
       "      <td id=\"T_3d02e_row0_col63\" class=\"data row0 col63\" >0</td>\n",
       "      <td id=\"T_3d02e_row0_col64\" class=\"data row0 col64\" >0</td>\n",
       "      <td id=\"T_3d02e_row0_col65\" class=\"data row0 col65\" >0</td>\n",
       "      <td id=\"T_3d02e_row0_col66\" class=\"data row0 col66\" >0</td>\n",
       "    </tr>\n",
       "    <tr>\n",
       "      <th id=\"T_3d02e_level0_row1\" class=\"row_heading level0 row1\" >1</th>\n",
       "      <td id=\"T_3d02e_row1_col0\" class=\"data row1 col0\" >1</td>\n",
       "      <td id=\"T_3d02e_row1_col1\" class=\"data row1 col1\" >1</td>\n",
       "      <td id=\"T_3d02e_row1_col2\" class=\"data row1 col2\" >1</td>\n",
       "      <td id=\"T_3d02e_row1_col3\" class=\"data row1 col3\" >1</td>\n",
       "      <td id=\"T_3d02e_row1_col4\" class=\"data row1 col4\" >1</td>\n",
       "      <td id=\"T_3d02e_row1_col5\" class=\"data row1 col5\" >1</td>\n",
       "      <td id=\"T_3d02e_row1_col6\" class=\"data row1 col6\" >1</td>\n",
       "      <td id=\"T_3d02e_row1_col7\" class=\"data row1 col7\" >1</td>\n",
       "      <td id=\"T_3d02e_row1_col8\" class=\"data row1 col8\" >1</td>\n",
       "      <td id=\"T_3d02e_row1_col9\" class=\"data row1 col9\" >1</td>\n",
       "      <td id=\"T_3d02e_row1_col10\" class=\"data row1 col10\" >1</td>\n",
       "      <td id=\"T_3d02e_row1_col11\" class=\"data row1 col11\" >1</td>\n",
       "      <td id=\"T_3d02e_row1_col12\" class=\"data row1 col12\" >1</td>\n",
       "      <td id=\"T_3d02e_row1_col13\" class=\"data row1 col13\" >1</td>\n",
       "      <td id=\"T_3d02e_row1_col14\" class=\"data row1 col14\" >1</td>\n",
       "      <td id=\"T_3d02e_row1_col15\" class=\"data row1 col15\" >1</td>\n",
       "      <td id=\"T_3d02e_row1_col16\" class=\"data row1 col16\" >1</td>\n",
       "      <td id=\"T_3d02e_row1_col17\" class=\"data row1 col17\" >1</td>\n",
       "      <td id=\"T_3d02e_row1_col18\" class=\"data row1 col18\" >1</td>\n",
       "      <td id=\"T_3d02e_row1_col19\" class=\"data row1 col19\" >1</td>\n",
       "      <td id=\"T_3d02e_row1_col20\" class=\"data row1 col20\" >1</td>\n",
       "      <td id=\"T_3d02e_row1_col21\" class=\"data row1 col21\" >1</td>\n",
       "      <td id=\"T_3d02e_row1_col22\" class=\"data row1 col22\" >1</td>\n",
       "      <td id=\"T_3d02e_row1_col23\" class=\"data row1 col23\" >1</td>\n",
       "      <td id=\"T_3d02e_row1_col24\" class=\"data row1 col24\" >1</td>\n",
       "      <td id=\"T_3d02e_row1_col25\" class=\"data row1 col25\" >1</td>\n",
       "      <td id=\"T_3d02e_row1_col26\" class=\"data row1 col26\" >1</td>\n",
       "      <td id=\"T_3d02e_row1_col27\" class=\"data row1 col27\" >1</td>\n",
       "      <td id=\"T_3d02e_row1_col28\" class=\"data row1 col28\" >1</td>\n",
       "      <td id=\"T_3d02e_row1_col29\" class=\"data row1 col29\" >1</td>\n",
       "      <td id=\"T_3d02e_row1_col30\" class=\"data row1 col30\" >1</td>\n",
       "      <td id=\"T_3d02e_row1_col31\" class=\"data row1 col31\" >1</td>\n",
       "      <td id=\"T_3d02e_row1_col32\" class=\"data row1 col32\" >1</td>\n",
       "      <td id=\"T_3d02e_row1_col33\" class=\"data row1 col33\" >1</td>\n",
       "      <td id=\"T_3d02e_row1_col34\" class=\"data row1 col34\" >1</td>\n",
       "      <td id=\"T_3d02e_row1_col35\" class=\"data row1 col35\" >1</td>\n",
       "      <td id=\"T_3d02e_row1_col36\" class=\"data row1 col36\" >1</td>\n",
       "      <td id=\"T_3d02e_row1_col37\" class=\"data row1 col37\" >1</td>\n",
       "      <td id=\"T_3d02e_row1_col38\" class=\"data row1 col38\" >1</td>\n",
       "      <td id=\"T_3d02e_row1_col39\" class=\"data row1 col39\" >1</td>\n",
       "      <td id=\"T_3d02e_row1_col40\" class=\"data row1 col40\" >1</td>\n",
       "      <td id=\"T_3d02e_row1_col41\" class=\"data row1 col41\" >1</td>\n",
       "      <td id=\"T_3d02e_row1_col42\" class=\"data row1 col42\" >1</td>\n",
       "      <td id=\"T_3d02e_row1_col43\" class=\"data row1 col43\" >1</td>\n",
       "      <td id=\"T_3d02e_row1_col44\" class=\"data row1 col44\" >1</td>\n",
       "      <td id=\"T_3d02e_row1_col45\" class=\"data row1 col45\" >1</td>\n",
       "      <td id=\"T_3d02e_row1_col46\" class=\"data row1 col46\" >1</td>\n",
       "      <td id=\"T_3d02e_row1_col47\" class=\"data row1 col47\" >1</td>\n",
       "      <td id=\"T_3d02e_row1_col48\" class=\"data row1 col48\" >1</td>\n",
       "      <td id=\"T_3d02e_row1_col49\" class=\"data row1 col49\" >1</td>\n",
       "      <td id=\"T_3d02e_row1_col50\" class=\"data row1 col50\" >1</td>\n",
       "      <td id=\"T_3d02e_row1_col51\" class=\"data row1 col51\" >1</td>\n",
       "      <td id=\"T_3d02e_row1_col52\" class=\"data row1 col52\" >1</td>\n",
       "      <td id=\"T_3d02e_row1_col53\" class=\"data row1 col53\" >1</td>\n",
       "      <td id=\"T_3d02e_row1_col54\" class=\"data row1 col54\" >1</td>\n",
       "      <td id=\"T_3d02e_row1_col55\" class=\"data row1 col55\" >1</td>\n",
       "      <td id=\"T_3d02e_row1_col56\" class=\"data row1 col56\" >1</td>\n",
       "      <td id=\"T_3d02e_row1_col57\" class=\"data row1 col57\" >1</td>\n",
       "      <td id=\"T_3d02e_row1_col58\" class=\"data row1 col58\" >1</td>\n",
       "      <td id=\"T_3d02e_row1_col59\" class=\"data row1 col59\" >0</td>\n",
       "      <td id=\"T_3d02e_row1_col60\" class=\"data row1 col60\" >0</td>\n",
       "      <td id=\"T_3d02e_row1_col61\" class=\"data row1 col61\" >0</td>\n",
       "      <td id=\"T_3d02e_row1_col62\" class=\"data row1 col62\" >0</td>\n",
       "      <td id=\"T_3d02e_row1_col63\" class=\"data row1 col63\" >0</td>\n",
       "      <td id=\"T_3d02e_row1_col64\" class=\"data row1 col64\" >0</td>\n",
       "      <td id=\"T_3d02e_row1_col65\" class=\"data row1 col65\" >0</td>\n",
       "      <td id=\"T_3d02e_row1_col66\" class=\"data row1 col66\" >0</td>\n",
       "    </tr>\n",
       "    <tr>\n",
       "      <th id=\"T_3d02e_level0_row2\" class=\"row_heading level0 row2\" >2</th>\n",
       "      <td id=\"T_3d02e_row2_col0\" class=\"data row2 col0\" >1</td>\n",
       "      <td id=\"T_3d02e_row2_col1\" class=\"data row2 col1\" >1</td>\n",
       "      <td id=\"T_3d02e_row2_col2\" class=\"data row2 col2\" >1</td>\n",
       "      <td id=\"T_3d02e_row2_col3\" class=\"data row2 col3\" >1</td>\n",
       "      <td id=\"T_3d02e_row2_col4\" class=\"data row2 col4\" >1</td>\n",
       "      <td id=\"T_3d02e_row2_col5\" class=\"data row2 col5\" >1</td>\n",
       "      <td id=\"T_3d02e_row2_col6\" class=\"data row2 col6\" >1</td>\n",
       "      <td id=\"T_3d02e_row2_col7\" class=\"data row2 col7\" >1</td>\n",
       "      <td id=\"T_3d02e_row2_col8\" class=\"data row2 col8\" >1</td>\n",
       "      <td id=\"T_3d02e_row2_col9\" class=\"data row2 col9\" >1</td>\n",
       "      <td id=\"T_3d02e_row2_col10\" class=\"data row2 col10\" >1</td>\n",
       "      <td id=\"T_3d02e_row2_col11\" class=\"data row2 col11\" >1</td>\n",
       "      <td id=\"T_3d02e_row2_col12\" class=\"data row2 col12\" >1</td>\n",
       "      <td id=\"T_3d02e_row2_col13\" class=\"data row2 col13\" >1</td>\n",
       "      <td id=\"T_3d02e_row2_col14\" class=\"data row2 col14\" >1</td>\n",
       "      <td id=\"T_3d02e_row2_col15\" class=\"data row2 col15\" >1</td>\n",
       "      <td id=\"T_3d02e_row2_col16\" class=\"data row2 col16\" >1</td>\n",
       "      <td id=\"T_3d02e_row2_col17\" class=\"data row2 col17\" >1</td>\n",
       "      <td id=\"T_3d02e_row2_col18\" class=\"data row2 col18\" >1</td>\n",
       "      <td id=\"T_3d02e_row2_col19\" class=\"data row2 col19\" >1</td>\n",
       "      <td id=\"T_3d02e_row2_col20\" class=\"data row2 col20\" >1</td>\n",
       "      <td id=\"T_3d02e_row2_col21\" class=\"data row2 col21\" >1</td>\n",
       "      <td id=\"T_3d02e_row2_col22\" class=\"data row2 col22\" >1</td>\n",
       "      <td id=\"T_3d02e_row2_col23\" class=\"data row2 col23\" >1</td>\n",
       "      <td id=\"T_3d02e_row2_col24\" class=\"data row2 col24\" >1</td>\n",
       "      <td id=\"T_3d02e_row2_col25\" class=\"data row2 col25\" >1</td>\n",
       "      <td id=\"T_3d02e_row2_col26\" class=\"data row2 col26\" >1</td>\n",
       "      <td id=\"T_3d02e_row2_col27\" class=\"data row2 col27\" >1</td>\n",
       "      <td id=\"T_3d02e_row2_col28\" class=\"data row2 col28\" >1</td>\n",
       "      <td id=\"T_3d02e_row2_col29\" class=\"data row2 col29\" >1</td>\n",
       "      <td id=\"T_3d02e_row2_col30\" class=\"data row2 col30\" >1</td>\n",
       "      <td id=\"T_3d02e_row2_col31\" class=\"data row2 col31\" >1</td>\n",
       "      <td id=\"T_3d02e_row2_col32\" class=\"data row2 col32\" >1</td>\n",
       "      <td id=\"T_3d02e_row2_col33\" class=\"data row2 col33\" >1</td>\n",
       "      <td id=\"T_3d02e_row2_col34\" class=\"data row2 col34\" >1</td>\n",
       "      <td id=\"T_3d02e_row2_col35\" class=\"data row2 col35\" >1</td>\n",
       "      <td id=\"T_3d02e_row2_col36\" class=\"data row2 col36\" >1</td>\n",
       "      <td id=\"T_3d02e_row2_col37\" class=\"data row2 col37\" >1</td>\n",
       "      <td id=\"T_3d02e_row2_col38\" class=\"data row2 col38\" >1</td>\n",
       "      <td id=\"T_3d02e_row2_col39\" class=\"data row2 col39\" >1</td>\n",
       "      <td id=\"T_3d02e_row2_col40\" class=\"data row2 col40\" >1</td>\n",
       "      <td id=\"T_3d02e_row2_col41\" class=\"data row2 col41\" >1</td>\n",
       "      <td id=\"T_3d02e_row2_col42\" class=\"data row2 col42\" >1</td>\n",
       "      <td id=\"T_3d02e_row2_col43\" class=\"data row2 col43\" >1</td>\n",
       "      <td id=\"T_3d02e_row2_col44\" class=\"data row2 col44\" >1</td>\n",
       "      <td id=\"T_3d02e_row2_col45\" class=\"data row2 col45\" >1</td>\n",
       "      <td id=\"T_3d02e_row2_col46\" class=\"data row2 col46\" >1</td>\n",
       "      <td id=\"T_3d02e_row2_col47\" class=\"data row2 col47\" >0</td>\n",
       "      <td id=\"T_3d02e_row2_col48\" class=\"data row2 col48\" >0</td>\n",
       "      <td id=\"T_3d02e_row2_col49\" class=\"data row2 col49\" >0</td>\n",
       "      <td id=\"T_3d02e_row2_col50\" class=\"data row2 col50\" >0</td>\n",
       "      <td id=\"T_3d02e_row2_col51\" class=\"data row2 col51\" >0</td>\n",
       "      <td id=\"T_3d02e_row2_col52\" class=\"data row2 col52\" >0</td>\n",
       "      <td id=\"T_3d02e_row2_col53\" class=\"data row2 col53\" >0</td>\n",
       "      <td id=\"T_3d02e_row2_col54\" class=\"data row2 col54\" >0</td>\n",
       "      <td id=\"T_3d02e_row2_col55\" class=\"data row2 col55\" >0</td>\n",
       "      <td id=\"T_3d02e_row2_col56\" class=\"data row2 col56\" >0</td>\n",
       "      <td id=\"T_3d02e_row2_col57\" class=\"data row2 col57\" >0</td>\n",
       "      <td id=\"T_3d02e_row2_col58\" class=\"data row2 col58\" >0</td>\n",
       "      <td id=\"T_3d02e_row2_col59\" class=\"data row2 col59\" >0</td>\n",
       "      <td id=\"T_3d02e_row2_col60\" class=\"data row2 col60\" >0</td>\n",
       "      <td id=\"T_3d02e_row2_col61\" class=\"data row2 col61\" >0</td>\n",
       "      <td id=\"T_3d02e_row2_col62\" class=\"data row2 col62\" >0</td>\n",
       "      <td id=\"T_3d02e_row2_col63\" class=\"data row2 col63\" >0</td>\n",
       "      <td id=\"T_3d02e_row2_col64\" class=\"data row2 col64\" >0</td>\n",
       "      <td id=\"T_3d02e_row2_col65\" class=\"data row2 col65\" >0</td>\n",
       "      <td id=\"T_3d02e_row2_col66\" class=\"data row2 col66\" >0</td>\n",
       "    </tr>\n",
       "    <tr>\n",
       "      <th id=\"T_3d02e_level0_row3\" class=\"row_heading level0 row3\" >3</th>\n",
       "      <td id=\"T_3d02e_row3_col0\" class=\"data row3 col0\" >1</td>\n",
       "      <td id=\"T_3d02e_row3_col1\" class=\"data row3 col1\" >1</td>\n",
       "      <td id=\"T_3d02e_row3_col2\" class=\"data row3 col2\" >1</td>\n",
       "      <td id=\"T_3d02e_row3_col3\" class=\"data row3 col3\" >1</td>\n",
       "      <td id=\"T_3d02e_row3_col4\" class=\"data row3 col4\" >1</td>\n",
       "      <td id=\"T_3d02e_row3_col5\" class=\"data row3 col5\" >1</td>\n",
       "      <td id=\"T_3d02e_row3_col6\" class=\"data row3 col6\" >1</td>\n",
       "      <td id=\"T_3d02e_row3_col7\" class=\"data row3 col7\" >1</td>\n",
       "      <td id=\"T_3d02e_row3_col8\" class=\"data row3 col8\" >1</td>\n",
       "      <td id=\"T_3d02e_row3_col9\" class=\"data row3 col9\" >1</td>\n",
       "      <td id=\"T_3d02e_row3_col10\" class=\"data row3 col10\" >1</td>\n",
       "      <td id=\"T_3d02e_row3_col11\" class=\"data row3 col11\" >1</td>\n",
       "      <td id=\"T_3d02e_row3_col12\" class=\"data row3 col12\" >1</td>\n",
       "      <td id=\"T_3d02e_row3_col13\" class=\"data row3 col13\" >1</td>\n",
       "      <td id=\"T_3d02e_row3_col14\" class=\"data row3 col14\" >1</td>\n",
       "      <td id=\"T_3d02e_row3_col15\" class=\"data row3 col15\" >1</td>\n",
       "      <td id=\"T_3d02e_row3_col16\" class=\"data row3 col16\" >1</td>\n",
       "      <td id=\"T_3d02e_row3_col17\" class=\"data row3 col17\" >1</td>\n",
       "      <td id=\"T_3d02e_row3_col18\" class=\"data row3 col18\" >1</td>\n",
       "      <td id=\"T_3d02e_row3_col19\" class=\"data row3 col19\" >1</td>\n",
       "      <td id=\"T_3d02e_row3_col20\" class=\"data row3 col20\" >1</td>\n",
       "      <td id=\"T_3d02e_row3_col21\" class=\"data row3 col21\" >1</td>\n",
       "      <td id=\"T_3d02e_row3_col22\" class=\"data row3 col22\" >1</td>\n",
       "      <td id=\"T_3d02e_row3_col23\" class=\"data row3 col23\" >1</td>\n",
       "      <td id=\"T_3d02e_row3_col24\" class=\"data row3 col24\" >1</td>\n",
       "      <td id=\"T_3d02e_row3_col25\" class=\"data row3 col25\" >1</td>\n",
       "      <td id=\"T_3d02e_row3_col26\" class=\"data row3 col26\" >1</td>\n",
       "      <td id=\"T_3d02e_row3_col27\" class=\"data row3 col27\" >1</td>\n",
       "      <td id=\"T_3d02e_row3_col28\" class=\"data row3 col28\" >1</td>\n",
       "      <td id=\"T_3d02e_row3_col29\" class=\"data row3 col29\" >1</td>\n",
       "      <td id=\"T_3d02e_row3_col30\" class=\"data row3 col30\" >1</td>\n",
       "      <td id=\"T_3d02e_row3_col31\" class=\"data row3 col31\" >1</td>\n",
       "      <td id=\"T_3d02e_row3_col32\" class=\"data row3 col32\" >1</td>\n",
       "      <td id=\"T_3d02e_row3_col33\" class=\"data row3 col33\" >1</td>\n",
       "      <td id=\"T_3d02e_row3_col34\" class=\"data row3 col34\" >1</td>\n",
       "      <td id=\"T_3d02e_row3_col35\" class=\"data row3 col35\" >1</td>\n",
       "      <td id=\"T_3d02e_row3_col36\" class=\"data row3 col36\" >1</td>\n",
       "      <td id=\"T_3d02e_row3_col37\" class=\"data row3 col37\" >1</td>\n",
       "      <td id=\"T_3d02e_row3_col38\" class=\"data row3 col38\" >1</td>\n",
       "      <td id=\"T_3d02e_row3_col39\" class=\"data row3 col39\" >1</td>\n",
       "      <td id=\"T_3d02e_row3_col40\" class=\"data row3 col40\" >1</td>\n",
       "      <td id=\"T_3d02e_row3_col41\" class=\"data row3 col41\" >1</td>\n",
       "      <td id=\"T_3d02e_row3_col42\" class=\"data row3 col42\" >1</td>\n",
       "      <td id=\"T_3d02e_row3_col43\" class=\"data row3 col43\" >1</td>\n",
       "      <td id=\"T_3d02e_row3_col44\" class=\"data row3 col44\" >1</td>\n",
       "      <td id=\"T_3d02e_row3_col45\" class=\"data row3 col45\" >1</td>\n",
       "      <td id=\"T_3d02e_row3_col46\" class=\"data row3 col46\" >1</td>\n",
       "      <td id=\"T_3d02e_row3_col47\" class=\"data row3 col47\" >1</td>\n",
       "      <td id=\"T_3d02e_row3_col48\" class=\"data row3 col48\" >1</td>\n",
       "      <td id=\"T_3d02e_row3_col49\" class=\"data row3 col49\" >1</td>\n",
       "      <td id=\"T_3d02e_row3_col50\" class=\"data row3 col50\" >1</td>\n",
       "      <td id=\"T_3d02e_row3_col51\" class=\"data row3 col51\" >1</td>\n",
       "      <td id=\"T_3d02e_row3_col52\" class=\"data row3 col52\" >1</td>\n",
       "      <td id=\"T_3d02e_row3_col53\" class=\"data row3 col53\" >1</td>\n",
       "      <td id=\"T_3d02e_row3_col54\" class=\"data row3 col54\" >1</td>\n",
       "      <td id=\"T_3d02e_row3_col55\" class=\"data row3 col55\" >1</td>\n",
       "      <td id=\"T_3d02e_row3_col56\" class=\"data row3 col56\" >1</td>\n",
       "      <td id=\"T_3d02e_row3_col57\" class=\"data row3 col57\" >1</td>\n",
       "      <td id=\"T_3d02e_row3_col58\" class=\"data row3 col58\" >1</td>\n",
       "      <td id=\"T_3d02e_row3_col59\" class=\"data row3 col59\" >1</td>\n",
       "      <td id=\"T_3d02e_row3_col60\" class=\"data row3 col60\" >1</td>\n",
       "      <td id=\"T_3d02e_row3_col61\" class=\"data row3 col61\" >1</td>\n",
       "      <td id=\"T_3d02e_row3_col62\" class=\"data row3 col62\" >1</td>\n",
       "      <td id=\"T_3d02e_row3_col63\" class=\"data row3 col63\" >1</td>\n",
       "      <td id=\"T_3d02e_row3_col64\" class=\"data row3 col64\" >1</td>\n",
       "      <td id=\"T_3d02e_row3_col65\" class=\"data row3 col65\" >1</td>\n",
       "      <td id=\"T_3d02e_row3_col66\" class=\"data row3 col66\" >1</td>\n",
       "    </tr>\n",
       "    <tr>\n",
       "      <th id=\"T_3d02e_level0_row4\" class=\"row_heading level0 row4\" >4</th>\n",
       "      <td id=\"T_3d02e_row4_col0\" class=\"data row4 col0\" >1</td>\n",
       "      <td id=\"T_3d02e_row4_col1\" class=\"data row4 col1\" >1</td>\n",
       "      <td id=\"T_3d02e_row4_col2\" class=\"data row4 col2\" >1</td>\n",
       "      <td id=\"T_3d02e_row4_col3\" class=\"data row4 col3\" >1</td>\n",
       "      <td id=\"T_3d02e_row4_col4\" class=\"data row4 col4\" >1</td>\n",
       "      <td id=\"T_3d02e_row4_col5\" class=\"data row4 col5\" >1</td>\n",
       "      <td id=\"T_3d02e_row4_col6\" class=\"data row4 col6\" >1</td>\n",
       "      <td id=\"T_3d02e_row4_col7\" class=\"data row4 col7\" >1</td>\n",
       "      <td id=\"T_3d02e_row4_col8\" class=\"data row4 col8\" >1</td>\n",
       "      <td id=\"T_3d02e_row4_col9\" class=\"data row4 col9\" >1</td>\n",
       "      <td id=\"T_3d02e_row4_col10\" class=\"data row4 col10\" >1</td>\n",
       "      <td id=\"T_3d02e_row4_col11\" class=\"data row4 col11\" >1</td>\n",
       "      <td id=\"T_3d02e_row4_col12\" class=\"data row4 col12\" >1</td>\n",
       "      <td id=\"T_3d02e_row4_col13\" class=\"data row4 col13\" >1</td>\n",
       "      <td id=\"T_3d02e_row4_col14\" class=\"data row4 col14\" >1</td>\n",
       "      <td id=\"T_3d02e_row4_col15\" class=\"data row4 col15\" >1</td>\n",
       "      <td id=\"T_3d02e_row4_col16\" class=\"data row4 col16\" >1</td>\n",
       "      <td id=\"T_3d02e_row4_col17\" class=\"data row4 col17\" >1</td>\n",
       "      <td id=\"T_3d02e_row4_col18\" class=\"data row4 col18\" >1</td>\n",
       "      <td id=\"T_3d02e_row4_col19\" class=\"data row4 col19\" >1</td>\n",
       "      <td id=\"T_3d02e_row4_col20\" class=\"data row4 col20\" >1</td>\n",
       "      <td id=\"T_3d02e_row4_col21\" class=\"data row4 col21\" >1</td>\n",
       "      <td id=\"T_3d02e_row4_col22\" class=\"data row4 col22\" >1</td>\n",
       "      <td id=\"T_3d02e_row4_col23\" class=\"data row4 col23\" >1</td>\n",
       "      <td id=\"T_3d02e_row4_col24\" class=\"data row4 col24\" >1</td>\n",
       "      <td id=\"T_3d02e_row4_col25\" class=\"data row4 col25\" >1</td>\n",
       "      <td id=\"T_3d02e_row4_col26\" class=\"data row4 col26\" >1</td>\n",
       "      <td id=\"T_3d02e_row4_col27\" class=\"data row4 col27\" >1</td>\n",
       "      <td id=\"T_3d02e_row4_col28\" class=\"data row4 col28\" >1</td>\n",
       "      <td id=\"T_3d02e_row4_col29\" class=\"data row4 col29\" >1</td>\n",
       "      <td id=\"T_3d02e_row4_col30\" class=\"data row4 col30\" >1</td>\n",
       "      <td id=\"T_3d02e_row4_col31\" class=\"data row4 col31\" >1</td>\n",
       "      <td id=\"T_3d02e_row4_col32\" class=\"data row4 col32\" >1</td>\n",
       "      <td id=\"T_3d02e_row4_col33\" class=\"data row4 col33\" >1</td>\n",
       "      <td id=\"T_3d02e_row4_col34\" class=\"data row4 col34\" >1</td>\n",
       "      <td id=\"T_3d02e_row4_col35\" class=\"data row4 col35\" >1</td>\n",
       "      <td id=\"T_3d02e_row4_col36\" class=\"data row4 col36\" >1</td>\n",
       "      <td id=\"T_3d02e_row4_col37\" class=\"data row4 col37\" >1</td>\n",
       "      <td id=\"T_3d02e_row4_col38\" class=\"data row4 col38\" >1</td>\n",
       "      <td id=\"T_3d02e_row4_col39\" class=\"data row4 col39\" >1</td>\n",
       "      <td id=\"T_3d02e_row4_col40\" class=\"data row4 col40\" >1</td>\n",
       "      <td id=\"T_3d02e_row4_col41\" class=\"data row4 col41\" >1</td>\n",
       "      <td id=\"T_3d02e_row4_col42\" class=\"data row4 col42\" >1</td>\n",
       "      <td id=\"T_3d02e_row4_col43\" class=\"data row4 col43\" >1</td>\n",
       "      <td id=\"T_3d02e_row4_col44\" class=\"data row4 col44\" >1</td>\n",
       "      <td id=\"T_3d02e_row4_col45\" class=\"data row4 col45\" >1</td>\n",
       "      <td id=\"T_3d02e_row4_col46\" class=\"data row4 col46\" >1</td>\n",
       "      <td id=\"T_3d02e_row4_col47\" class=\"data row4 col47\" >1</td>\n",
       "      <td id=\"T_3d02e_row4_col48\" class=\"data row4 col48\" >1</td>\n",
       "      <td id=\"T_3d02e_row4_col49\" class=\"data row4 col49\" >1</td>\n",
       "      <td id=\"T_3d02e_row4_col50\" class=\"data row4 col50\" >1</td>\n",
       "      <td id=\"T_3d02e_row4_col51\" class=\"data row4 col51\" >1</td>\n",
       "      <td id=\"T_3d02e_row4_col52\" class=\"data row4 col52\" >1</td>\n",
       "      <td id=\"T_3d02e_row4_col53\" class=\"data row4 col53\" >1</td>\n",
       "      <td id=\"T_3d02e_row4_col54\" class=\"data row4 col54\" >1</td>\n",
       "      <td id=\"T_3d02e_row4_col55\" class=\"data row4 col55\" >1</td>\n",
       "      <td id=\"T_3d02e_row4_col56\" class=\"data row4 col56\" >1</td>\n",
       "      <td id=\"T_3d02e_row4_col57\" class=\"data row4 col57\" >1</td>\n",
       "      <td id=\"T_3d02e_row4_col58\" class=\"data row4 col58\" >1</td>\n",
       "      <td id=\"T_3d02e_row4_col59\" class=\"data row4 col59\" >0</td>\n",
       "      <td id=\"T_3d02e_row4_col60\" class=\"data row4 col60\" >0</td>\n",
       "      <td id=\"T_3d02e_row4_col61\" class=\"data row4 col61\" >0</td>\n",
       "      <td id=\"T_3d02e_row4_col62\" class=\"data row4 col62\" >0</td>\n",
       "      <td id=\"T_3d02e_row4_col63\" class=\"data row4 col63\" >0</td>\n",
       "      <td id=\"T_3d02e_row4_col64\" class=\"data row4 col64\" >0</td>\n",
       "      <td id=\"T_3d02e_row4_col65\" class=\"data row4 col65\" >0</td>\n",
       "      <td id=\"T_3d02e_row4_col66\" class=\"data row4 col66\" >0</td>\n",
       "    </tr>\n",
       "    <tr>\n",
       "      <th id=\"T_3d02e_level0_row5\" class=\"row_heading level0 row5\" >5</th>\n",
       "      <td id=\"T_3d02e_row5_col0\" class=\"data row5 col0\" >1</td>\n",
       "      <td id=\"T_3d02e_row5_col1\" class=\"data row5 col1\" >1</td>\n",
       "      <td id=\"T_3d02e_row5_col2\" class=\"data row5 col2\" >1</td>\n",
       "      <td id=\"T_3d02e_row5_col3\" class=\"data row5 col3\" >1</td>\n",
       "      <td id=\"T_3d02e_row5_col4\" class=\"data row5 col4\" >1</td>\n",
       "      <td id=\"T_3d02e_row5_col5\" class=\"data row5 col5\" >1</td>\n",
       "      <td id=\"T_3d02e_row5_col6\" class=\"data row5 col6\" >1</td>\n",
       "      <td id=\"T_3d02e_row5_col7\" class=\"data row5 col7\" >1</td>\n",
       "      <td id=\"T_3d02e_row5_col8\" class=\"data row5 col8\" >1</td>\n",
       "      <td id=\"T_3d02e_row5_col9\" class=\"data row5 col9\" >1</td>\n",
       "      <td id=\"T_3d02e_row5_col10\" class=\"data row5 col10\" >1</td>\n",
       "      <td id=\"T_3d02e_row5_col11\" class=\"data row5 col11\" >1</td>\n",
       "      <td id=\"T_3d02e_row5_col12\" class=\"data row5 col12\" >1</td>\n",
       "      <td id=\"T_3d02e_row5_col13\" class=\"data row5 col13\" >1</td>\n",
       "      <td id=\"T_3d02e_row5_col14\" class=\"data row5 col14\" >1</td>\n",
       "      <td id=\"T_3d02e_row5_col15\" class=\"data row5 col15\" >1</td>\n",
       "      <td id=\"T_3d02e_row5_col16\" class=\"data row5 col16\" >1</td>\n",
       "      <td id=\"T_3d02e_row5_col17\" class=\"data row5 col17\" >1</td>\n",
       "      <td id=\"T_3d02e_row5_col18\" class=\"data row5 col18\" >1</td>\n",
       "      <td id=\"T_3d02e_row5_col19\" class=\"data row5 col19\" >1</td>\n",
       "      <td id=\"T_3d02e_row5_col20\" class=\"data row5 col20\" >1</td>\n",
       "      <td id=\"T_3d02e_row5_col21\" class=\"data row5 col21\" >1</td>\n",
       "      <td id=\"T_3d02e_row5_col22\" class=\"data row5 col22\" >1</td>\n",
       "      <td id=\"T_3d02e_row5_col23\" class=\"data row5 col23\" >1</td>\n",
       "      <td id=\"T_3d02e_row5_col24\" class=\"data row5 col24\" >1</td>\n",
       "      <td id=\"T_3d02e_row5_col25\" class=\"data row5 col25\" >1</td>\n",
       "      <td id=\"T_3d02e_row5_col26\" class=\"data row5 col26\" >1</td>\n",
       "      <td id=\"T_3d02e_row5_col27\" class=\"data row5 col27\" >1</td>\n",
       "      <td id=\"T_3d02e_row5_col28\" class=\"data row5 col28\" >1</td>\n",
       "      <td id=\"T_3d02e_row5_col29\" class=\"data row5 col29\" >1</td>\n",
       "      <td id=\"T_3d02e_row5_col30\" class=\"data row5 col30\" >1</td>\n",
       "      <td id=\"T_3d02e_row5_col31\" class=\"data row5 col31\" >1</td>\n",
       "      <td id=\"T_3d02e_row5_col32\" class=\"data row5 col32\" >1</td>\n",
       "      <td id=\"T_3d02e_row5_col33\" class=\"data row5 col33\" >1</td>\n",
       "      <td id=\"T_3d02e_row5_col34\" class=\"data row5 col34\" >1</td>\n",
       "      <td id=\"T_3d02e_row5_col35\" class=\"data row5 col35\" >1</td>\n",
       "      <td id=\"T_3d02e_row5_col36\" class=\"data row5 col36\" >1</td>\n",
       "      <td id=\"T_3d02e_row5_col37\" class=\"data row5 col37\" >1</td>\n",
       "      <td id=\"T_3d02e_row5_col38\" class=\"data row5 col38\" >1</td>\n",
       "      <td id=\"T_3d02e_row5_col39\" class=\"data row5 col39\" >1</td>\n",
       "      <td id=\"T_3d02e_row5_col40\" class=\"data row5 col40\" >1</td>\n",
       "      <td id=\"T_3d02e_row5_col41\" class=\"data row5 col41\" >1</td>\n",
       "      <td id=\"T_3d02e_row5_col42\" class=\"data row5 col42\" >1</td>\n",
       "      <td id=\"T_3d02e_row5_col43\" class=\"data row5 col43\" >1</td>\n",
       "      <td id=\"T_3d02e_row5_col44\" class=\"data row5 col44\" >1</td>\n",
       "      <td id=\"T_3d02e_row5_col45\" class=\"data row5 col45\" >1</td>\n",
       "      <td id=\"T_3d02e_row5_col46\" class=\"data row5 col46\" >1</td>\n",
       "      <td id=\"T_3d02e_row5_col47\" class=\"data row5 col47\" >1</td>\n",
       "      <td id=\"T_3d02e_row5_col48\" class=\"data row5 col48\" >1</td>\n",
       "      <td id=\"T_3d02e_row5_col49\" class=\"data row5 col49\" >1</td>\n",
       "      <td id=\"T_3d02e_row5_col50\" class=\"data row5 col50\" >0</td>\n",
       "      <td id=\"T_3d02e_row5_col51\" class=\"data row5 col51\" >0</td>\n",
       "      <td id=\"T_3d02e_row5_col52\" class=\"data row5 col52\" >0</td>\n",
       "      <td id=\"T_3d02e_row5_col53\" class=\"data row5 col53\" >0</td>\n",
       "      <td id=\"T_3d02e_row5_col54\" class=\"data row5 col54\" >0</td>\n",
       "      <td id=\"T_3d02e_row5_col55\" class=\"data row5 col55\" >0</td>\n",
       "      <td id=\"T_3d02e_row5_col56\" class=\"data row5 col56\" >0</td>\n",
       "      <td id=\"T_3d02e_row5_col57\" class=\"data row5 col57\" >0</td>\n",
       "      <td id=\"T_3d02e_row5_col58\" class=\"data row5 col58\" >0</td>\n",
       "      <td id=\"T_3d02e_row5_col59\" class=\"data row5 col59\" >0</td>\n",
       "      <td id=\"T_3d02e_row5_col60\" class=\"data row5 col60\" >0</td>\n",
       "      <td id=\"T_3d02e_row5_col61\" class=\"data row5 col61\" >0</td>\n",
       "      <td id=\"T_3d02e_row5_col62\" class=\"data row5 col62\" >0</td>\n",
       "      <td id=\"T_3d02e_row5_col63\" class=\"data row5 col63\" >0</td>\n",
       "      <td id=\"T_3d02e_row5_col64\" class=\"data row5 col64\" >0</td>\n",
       "      <td id=\"T_3d02e_row5_col65\" class=\"data row5 col65\" >0</td>\n",
       "      <td id=\"T_3d02e_row5_col66\" class=\"data row5 col66\" >0</td>\n",
       "    </tr>\n",
       "    <tr>\n",
       "      <th id=\"T_3d02e_level0_row6\" class=\"row_heading level0 row6\" >6</th>\n",
       "      <td id=\"T_3d02e_row6_col0\" class=\"data row6 col0\" >1</td>\n",
       "      <td id=\"T_3d02e_row6_col1\" class=\"data row6 col1\" >1</td>\n",
       "      <td id=\"T_3d02e_row6_col2\" class=\"data row6 col2\" >1</td>\n",
       "      <td id=\"T_3d02e_row6_col3\" class=\"data row6 col3\" >1</td>\n",
       "      <td id=\"T_3d02e_row6_col4\" class=\"data row6 col4\" >1</td>\n",
       "      <td id=\"T_3d02e_row6_col5\" class=\"data row6 col5\" >1</td>\n",
       "      <td id=\"T_3d02e_row6_col6\" class=\"data row6 col6\" >1</td>\n",
       "      <td id=\"T_3d02e_row6_col7\" class=\"data row6 col7\" >1</td>\n",
       "      <td id=\"T_3d02e_row6_col8\" class=\"data row6 col8\" >1</td>\n",
       "      <td id=\"T_3d02e_row6_col9\" class=\"data row6 col9\" >1</td>\n",
       "      <td id=\"T_3d02e_row6_col10\" class=\"data row6 col10\" >1</td>\n",
       "      <td id=\"T_3d02e_row6_col11\" class=\"data row6 col11\" >1</td>\n",
       "      <td id=\"T_3d02e_row6_col12\" class=\"data row6 col12\" >1</td>\n",
       "      <td id=\"T_3d02e_row6_col13\" class=\"data row6 col13\" >1</td>\n",
       "      <td id=\"T_3d02e_row6_col14\" class=\"data row6 col14\" >1</td>\n",
       "      <td id=\"T_3d02e_row6_col15\" class=\"data row6 col15\" >1</td>\n",
       "      <td id=\"T_3d02e_row6_col16\" class=\"data row6 col16\" >1</td>\n",
       "      <td id=\"T_3d02e_row6_col17\" class=\"data row6 col17\" >1</td>\n",
       "      <td id=\"T_3d02e_row6_col18\" class=\"data row6 col18\" >1</td>\n",
       "      <td id=\"T_3d02e_row6_col19\" class=\"data row6 col19\" >1</td>\n",
       "      <td id=\"T_3d02e_row6_col20\" class=\"data row6 col20\" >1</td>\n",
       "      <td id=\"T_3d02e_row6_col21\" class=\"data row6 col21\" >1</td>\n",
       "      <td id=\"T_3d02e_row6_col22\" class=\"data row6 col22\" >1</td>\n",
       "      <td id=\"T_3d02e_row6_col23\" class=\"data row6 col23\" >1</td>\n",
       "      <td id=\"T_3d02e_row6_col24\" class=\"data row6 col24\" >1</td>\n",
       "      <td id=\"T_3d02e_row6_col25\" class=\"data row6 col25\" >1</td>\n",
       "      <td id=\"T_3d02e_row6_col26\" class=\"data row6 col26\" >1</td>\n",
       "      <td id=\"T_3d02e_row6_col27\" class=\"data row6 col27\" >1</td>\n",
       "      <td id=\"T_3d02e_row6_col28\" class=\"data row6 col28\" >1</td>\n",
       "      <td id=\"T_3d02e_row6_col29\" class=\"data row6 col29\" >1</td>\n",
       "      <td id=\"T_3d02e_row6_col30\" class=\"data row6 col30\" >1</td>\n",
       "      <td id=\"T_3d02e_row6_col31\" class=\"data row6 col31\" >1</td>\n",
       "      <td id=\"T_3d02e_row6_col32\" class=\"data row6 col32\" >1</td>\n",
       "      <td id=\"T_3d02e_row6_col33\" class=\"data row6 col33\" >1</td>\n",
       "      <td id=\"T_3d02e_row6_col34\" class=\"data row6 col34\" >1</td>\n",
       "      <td id=\"T_3d02e_row6_col35\" class=\"data row6 col35\" >1</td>\n",
       "      <td id=\"T_3d02e_row6_col36\" class=\"data row6 col36\" >1</td>\n",
       "      <td id=\"T_3d02e_row6_col37\" class=\"data row6 col37\" >1</td>\n",
       "      <td id=\"T_3d02e_row6_col38\" class=\"data row6 col38\" >1</td>\n",
       "      <td id=\"T_3d02e_row6_col39\" class=\"data row6 col39\" >1</td>\n",
       "      <td id=\"T_3d02e_row6_col40\" class=\"data row6 col40\" >1</td>\n",
       "      <td id=\"T_3d02e_row6_col41\" class=\"data row6 col41\" >1</td>\n",
       "      <td id=\"T_3d02e_row6_col42\" class=\"data row6 col42\" >1</td>\n",
       "      <td id=\"T_3d02e_row6_col43\" class=\"data row6 col43\" >1</td>\n",
       "      <td id=\"T_3d02e_row6_col44\" class=\"data row6 col44\" >1</td>\n",
       "      <td id=\"T_3d02e_row6_col45\" class=\"data row6 col45\" >1</td>\n",
       "      <td id=\"T_3d02e_row6_col46\" class=\"data row6 col46\" >1</td>\n",
       "      <td id=\"T_3d02e_row6_col47\" class=\"data row6 col47\" >1</td>\n",
       "      <td id=\"T_3d02e_row6_col48\" class=\"data row6 col48\" >1</td>\n",
       "      <td id=\"T_3d02e_row6_col49\" class=\"data row6 col49\" >1</td>\n",
       "      <td id=\"T_3d02e_row6_col50\" class=\"data row6 col50\" >1</td>\n",
       "      <td id=\"T_3d02e_row6_col51\" class=\"data row6 col51\" >1</td>\n",
       "      <td id=\"T_3d02e_row6_col52\" class=\"data row6 col52\" >1</td>\n",
       "      <td id=\"T_3d02e_row6_col53\" class=\"data row6 col53\" >1</td>\n",
       "      <td id=\"T_3d02e_row6_col54\" class=\"data row6 col54\" >1</td>\n",
       "      <td id=\"T_3d02e_row6_col55\" class=\"data row6 col55\" >1</td>\n",
       "      <td id=\"T_3d02e_row6_col56\" class=\"data row6 col56\" >1</td>\n",
       "      <td id=\"T_3d02e_row6_col57\" class=\"data row6 col57\" >1</td>\n",
       "      <td id=\"T_3d02e_row6_col58\" class=\"data row6 col58\" >1</td>\n",
       "      <td id=\"T_3d02e_row6_col59\" class=\"data row6 col59\" >1</td>\n",
       "      <td id=\"T_3d02e_row6_col60\" class=\"data row6 col60\" >1</td>\n",
       "      <td id=\"T_3d02e_row6_col61\" class=\"data row6 col61\" >1</td>\n",
       "      <td id=\"T_3d02e_row6_col62\" class=\"data row6 col62\" >0</td>\n",
       "      <td id=\"T_3d02e_row6_col63\" class=\"data row6 col63\" >0</td>\n",
       "      <td id=\"T_3d02e_row6_col64\" class=\"data row6 col64\" >0</td>\n",
       "      <td id=\"T_3d02e_row6_col65\" class=\"data row6 col65\" >0</td>\n",
       "      <td id=\"T_3d02e_row6_col66\" class=\"data row6 col66\" >0</td>\n",
       "    </tr>\n",
       "    <tr>\n",
       "      <th id=\"T_3d02e_level0_row7\" class=\"row_heading level0 row7\" >7</th>\n",
       "      <td id=\"T_3d02e_row7_col0\" class=\"data row7 col0\" >1</td>\n",
       "      <td id=\"T_3d02e_row7_col1\" class=\"data row7 col1\" >1</td>\n",
       "      <td id=\"T_3d02e_row7_col2\" class=\"data row7 col2\" >1</td>\n",
       "      <td id=\"T_3d02e_row7_col3\" class=\"data row7 col3\" >1</td>\n",
       "      <td id=\"T_3d02e_row7_col4\" class=\"data row7 col4\" >1</td>\n",
       "      <td id=\"T_3d02e_row7_col5\" class=\"data row7 col5\" >1</td>\n",
       "      <td id=\"T_3d02e_row7_col6\" class=\"data row7 col6\" >1</td>\n",
       "      <td id=\"T_3d02e_row7_col7\" class=\"data row7 col7\" >1</td>\n",
       "      <td id=\"T_3d02e_row7_col8\" class=\"data row7 col8\" >1</td>\n",
       "      <td id=\"T_3d02e_row7_col9\" class=\"data row7 col9\" >1</td>\n",
       "      <td id=\"T_3d02e_row7_col10\" class=\"data row7 col10\" >1</td>\n",
       "      <td id=\"T_3d02e_row7_col11\" class=\"data row7 col11\" >1</td>\n",
       "      <td id=\"T_3d02e_row7_col12\" class=\"data row7 col12\" >1</td>\n",
       "      <td id=\"T_3d02e_row7_col13\" class=\"data row7 col13\" >1</td>\n",
       "      <td id=\"T_3d02e_row7_col14\" class=\"data row7 col14\" >1</td>\n",
       "      <td id=\"T_3d02e_row7_col15\" class=\"data row7 col15\" >1</td>\n",
       "      <td id=\"T_3d02e_row7_col16\" class=\"data row7 col16\" >1</td>\n",
       "      <td id=\"T_3d02e_row7_col17\" class=\"data row7 col17\" >1</td>\n",
       "      <td id=\"T_3d02e_row7_col18\" class=\"data row7 col18\" >1</td>\n",
       "      <td id=\"T_3d02e_row7_col19\" class=\"data row7 col19\" >1</td>\n",
       "      <td id=\"T_3d02e_row7_col20\" class=\"data row7 col20\" >1</td>\n",
       "      <td id=\"T_3d02e_row7_col21\" class=\"data row7 col21\" >1</td>\n",
       "      <td id=\"T_3d02e_row7_col22\" class=\"data row7 col22\" >1</td>\n",
       "      <td id=\"T_3d02e_row7_col23\" class=\"data row7 col23\" >1</td>\n",
       "      <td id=\"T_3d02e_row7_col24\" class=\"data row7 col24\" >1</td>\n",
       "      <td id=\"T_3d02e_row7_col25\" class=\"data row7 col25\" >1</td>\n",
       "      <td id=\"T_3d02e_row7_col26\" class=\"data row7 col26\" >1</td>\n",
       "      <td id=\"T_3d02e_row7_col27\" class=\"data row7 col27\" >1</td>\n",
       "      <td id=\"T_3d02e_row7_col28\" class=\"data row7 col28\" >1</td>\n",
       "      <td id=\"T_3d02e_row7_col29\" class=\"data row7 col29\" >1</td>\n",
       "      <td id=\"T_3d02e_row7_col30\" class=\"data row7 col30\" >1</td>\n",
       "      <td id=\"T_3d02e_row7_col31\" class=\"data row7 col31\" >1</td>\n",
       "      <td id=\"T_3d02e_row7_col32\" class=\"data row7 col32\" >0</td>\n",
       "      <td id=\"T_3d02e_row7_col33\" class=\"data row7 col33\" >0</td>\n",
       "      <td id=\"T_3d02e_row7_col34\" class=\"data row7 col34\" >0</td>\n",
       "      <td id=\"T_3d02e_row7_col35\" class=\"data row7 col35\" >0</td>\n",
       "      <td id=\"T_3d02e_row7_col36\" class=\"data row7 col36\" >0</td>\n",
       "      <td id=\"T_3d02e_row7_col37\" class=\"data row7 col37\" >0</td>\n",
       "      <td id=\"T_3d02e_row7_col38\" class=\"data row7 col38\" >0</td>\n",
       "      <td id=\"T_3d02e_row7_col39\" class=\"data row7 col39\" >0</td>\n",
       "      <td id=\"T_3d02e_row7_col40\" class=\"data row7 col40\" >0</td>\n",
       "      <td id=\"T_3d02e_row7_col41\" class=\"data row7 col41\" >0</td>\n",
       "      <td id=\"T_3d02e_row7_col42\" class=\"data row7 col42\" >0</td>\n",
       "      <td id=\"T_3d02e_row7_col43\" class=\"data row7 col43\" >0</td>\n",
       "      <td id=\"T_3d02e_row7_col44\" class=\"data row7 col44\" >0</td>\n",
       "      <td id=\"T_3d02e_row7_col45\" class=\"data row7 col45\" >0</td>\n",
       "      <td id=\"T_3d02e_row7_col46\" class=\"data row7 col46\" >0</td>\n",
       "      <td id=\"T_3d02e_row7_col47\" class=\"data row7 col47\" >0</td>\n",
       "      <td id=\"T_3d02e_row7_col48\" class=\"data row7 col48\" >0</td>\n",
       "      <td id=\"T_3d02e_row7_col49\" class=\"data row7 col49\" >0</td>\n",
       "      <td id=\"T_3d02e_row7_col50\" class=\"data row7 col50\" >0</td>\n",
       "      <td id=\"T_3d02e_row7_col51\" class=\"data row7 col51\" >0</td>\n",
       "      <td id=\"T_3d02e_row7_col52\" class=\"data row7 col52\" >0</td>\n",
       "      <td id=\"T_3d02e_row7_col53\" class=\"data row7 col53\" >0</td>\n",
       "      <td id=\"T_3d02e_row7_col54\" class=\"data row7 col54\" >0</td>\n",
       "      <td id=\"T_3d02e_row7_col55\" class=\"data row7 col55\" >0</td>\n",
       "      <td id=\"T_3d02e_row7_col56\" class=\"data row7 col56\" >0</td>\n",
       "      <td id=\"T_3d02e_row7_col57\" class=\"data row7 col57\" >0</td>\n",
       "      <td id=\"T_3d02e_row7_col58\" class=\"data row7 col58\" >0</td>\n",
       "      <td id=\"T_3d02e_row7_col59\" class=\"data row7 col59\" >0</td>\n",
       "      <td id=\"T_3d02e_row7_col60\" class=\"data row7 col60\" >0</td>\n",
       "      <td id=\"T_3d02e_row7_col61\" class=\"data row7 col61\" >0</td>\n",
       "      <td id=\"T_3d02e_row7_col62\" class=\"data row7 col62\" >0</td>\n",
       "      <td id=\"T_3d02e_row7_col63\" class=\"data row7 col63\" >0</td>\n",
       "      <td id=\"T_3d02e_row7_col64\" class=\"data row7 col64\" >0</td>\n",
       "      <td id=\"T_3d02e_row7_col65\" class=\"data row7 col65\" >0</td>\n",
       "      <td id=\"T_3d02e_row7_col66\" class=\"data row7 col66\" >0</td>\n",
       "    </tr>\n",
       "  </tbody>\n",
       "</table>\n"
      ],
      "text/plain": [
       "<pandas.io.formats.style.Styler at 0x2bd4ef2b0>"
      ]
     },
     "execution_count": 153,
     "metadata": {},
     "output_type": "execute_result"
    }
   ],
   "source": [
    "df = pd.DataFrame(batch['attention_mask'])\n",
    "df.style.applymap(lambda x: 'background-color : yellow' if x==0 else '')"
   ]
  },
  {
   "cell_type": "markdown",
   "metadata": {},
   "source": [
    "Looking good! Now that we’ve gone from raw text to batches our model can deal with, we’re ready to fine-tune it!"
   ]
  },
  {
   "cell_type": "markdown",
   "metadata": {},
   "source": [
    "## Try it out!"
   ]
  },
  {
   "cell_type": "markdown",
   "metadata": {},
   "source": [
    "> ✏️ Try it out! Replicate the preprocessing on the GLUE SST-2 dataset. It’s a little bit different since it’s composed of single sentences instead of pairs, but the rest of what we did should look the same. For a harder challenge, try to write a preprocessing function that works on any of the GLUE tasks."
   ]
  },
  {
   "cell_type": "markdown",
   "metadata": {},
   "source": [
    "**Step 1: Loading the dataset from Hub**"
   ]
  },
  {
   "cell_type": "code",
   "execution_count": 190,
   "metadata": {
    "ExecuteTime": {
     "end_time": "2023-07-15T02:56:44.836400Z",
     "start_time": "2023-07-15T02:56:42.038012Z"
    }
   },
   "outputs": [
    {
     "name": "stderr",
     "output_type": "stream",
     "text": [
      "Found cached dataset glue (/Users/prasanth.thangavel/.cache/huggingface/datasets/glue/sst2/1.0.0/dacbe3125aa31d7f70367a07a8a9e72a5a0bfeb5fc42e75c9db75b96da6053ad)\n"
     ]
    },
    {
     "data": {
      "application/vnd.jupyter.widget-view+json": {
       "model_id": "864435b2bc854715abc5c6777ca0355e",
       "version_major": 2,
       "version_minor": 0
      },
      "text/plain": [
       "  0%|          | 0/3 [00:00<?, ?it/s]"
      ]
     },
     "metadata": {},
     "output_type": "display_data"
    },
    {
     "data": {
      "text/plain": [
       "DatasetDict({\n",
       "    train: Dataset({\n",
       "        features: ['sentence', 'label', 'idx'],\n",
       "        num_rows: 67349\n",
       "    })\n",
       "    validation: Dataset({\n",
       "        features: ['sentence', 'label', 'idx'],\n",
       "        num_rows: 872\n",
       "    })\n",
       "    test: Dataset({\n",
       "        features: ['sentence', 'label', 'idx'],\n",
       "        num_rows: 1821\n",
       "    })\n",
       "})"
      ]
     },
     "execution_count": 190,
     "metadata": {},
     "output_type": "execute_result"
    }
   ],
   "source": [
    "from datasets import load_dataset\n",
    "\n",
    "# load the MRPC dataset from the GLUE benchmark\n",
    "raw_datasets = load_dataset(\"glue\", \"sst2\")\n",
    "raw_datasets"
   ]
  },
  {
   "cell_type": "code",
   "execution_count": 191,
   "metadata": {
    "ExecuteTime": {
     "end_time": "2023-07-15T02:56:44.841581Z",
     "start_time": "2023-07-15T02:56:44.837888Z"
    }
   },
   "outputs": [
    {
     "name": "stdout",
     "output_type": "stream",
     "text": [
      "67349\n"
     ]
    },
    {
     "data": {
      "text/plain": [
       "{'sentence': 'hide new secretions from the parental units ',\n",
       " 'label': 0,\n",
       " 'idx': 0}"
      ]
     },
     "execution_count": 191,
     "metadata": {},
     "output_type": "execute_result"
    }
   ],
   "source": [
    "raw_train_dataset = raw_datasets[\"train\"]\n",
    "print (len(raw_train_dataset))\n",
    "raw_train_dataset[0]"
   ]
  },
  {
   "cell_type": "code",
   "execution_count": 192,
   "metadata": {
    "ExecuteTime": {
     "end_time": "2023-07-15T02:56:44.846349Z",
     "start_time": "2023-07-15T02:56:44.842596Z"
    }
   },
   "outputs": [
    {
     "data": {
      "text/plain": [
       "{'sentence': Value(dtype='string', id=None),\n",
       " 'label': ClassLabel(names=['negative', 'positive'], id=None),\n",
       " 'idx': Value(dtype='int32', id=None)}"
      ]
     },
     "execution_count": 192,
     "metadata": {},
     "output_type": "execute_result"
    }
   ],
   "source": [
    "# What does label numbers mean? {0: negative, 1: positive}\n",
    "raw_train_dataset.features"
   ]
  },
  {
   "cell_type": "markdown",
   "metadata": {},
   "source": [
    "**Step 2: Preprocessing a dataset**"
   ]
  },
  {
   "cell_type": "code",
   "execution_count": 193,
   "metadata": {
    "ExecuteTime": {
     "end_time": "2023-07-15T02:56:45.145447Z",
     "start_time": "2023-07-15T02:56:44.848108Z"
    }
   },
   "outputs": [],
   "source": [
    "from transformers import AutoTokenizer\n",
    "\n",
    "checkpoint = \"bert-base-uncased\"\n",
    "tokenizer = AutoTokenizer.from_pretrained(checkpoint)"
   ]
  },
  {
   "cell_type": "code",
   "execution_count": 194,
   "metadata": {
    "ExecuteTime": {
     "end_time": "2023-07-15T02:56:45.151594Z",
     "start_time": "2023-07-15T02:56:45.147129Z"
    }
   },
   "outputs": [
    {
     "name": "stdout",
     "output_type": "stream",
     "text": [
      "input_ids: [101, 2023, 2003, 1996, 7099, 2034, 6251, 1012, 102]\n",
      "token_type_ids: [0, 0, 0, 0, 0, 0, 0, 0, 0]\n",
      "attention_mask: [1, 1, 1, 1, 1, 1, 1, 1, 1]\n"
     ]
    }
   ],
   "source": [
    "inputs = tokenizer(\"This is the sample first sentence.\")\n",
    "for key, value in inputs.items():\n",
    "    print (f\"{key}: {value}\")"
   ]
  },
  {
   "cell_type": "code",
   "execution_count": 195,
   "metadata": {
    "ExecuteTime": {
     "end_time": "2023-07-15T02:56:49.336008Z",
     "start_time": "2023-07-15T02:56:45.153099Z"
    }
   },
   "outputs": [
    {
     "name": "stdout",
     "output_type": "stream",
     "text": [
      "<class 'transformers.tokenization_utils_base.BatchEncoding'>\n",
      "dict_keys(['input_ids', 'token_type_ids', 'attention_mask'])\n"
     ]
    }
   ],
   "source": [
    "# Approach 1a\n",
    "tokenized_sentences = tokenizer(raw_datasets[\"train\"][\"sentence\"])\n",
    "print (type(tokenized_sentences) )\n",
    "print (tokenized_sentences.keys())"
   ]
  },
  {
   "cell_type": "code",
   "execution_count": 196,
   "metadata": {
    "ExecuteTime": {
     "end_time": "2023-07-15T02:56:53.801455Z",
     "start_time": "2023-07-15T02:56:49.337236Z"
    }
   },
   "outputs": [
    {
     "name": "stdout",
     "output_type": "stream",
     "text": [
      "<class 'transformers.tokenization_utils_base.BatchEncoding'>\n",
      "dict_keys(['input_ids', 'token_type_ids', 'attention_mask'])\n"
     ]
    }
   ],
   "source": [
    "# Approach 1b: Same as above approach, but with padding and truncation\n",
    "tokenized_dataset = tokenizer(\n",
    "    raw_datasets[\"train\"][\"sentence\"],\n",
    "    padding=True,\n",
    "    truncation=True,\n",
    ")\n",
    "print (type(tokenized_dataset) )\n",
    "print (tokenized_sentences.keys())"
   ]
  },
  {
   "cell_type": "code",
   "execution_count": 197,
   "metadata": {
    "ExecuteTime": {
     "end_time": "2023-07-15T02:56:53.995671Z",
     "start_time": "2023-07-15T02:56:53.802699Z"
    }
   },
   "outputs": [
    {
     "name": "stderr",
     "output_type": "stream",
     "text": [
      "Loading cached processed dataset at /Users/prasanth.thangavel/.cache/huggingface/datasets/glue/sst2/1.0.0/dacbe3125aa31d7f70367a07a8a9e72a5a0bfeb5fc42e75c9db75b96da6053ad/cache-a5f38afb1960d405.arrow\n",
      "Loading cached processed dataset at /Users/prasanth.thangavel/.cache/huggingface/datasets/glue/sst2/1.0.0/dacbe3125aa31d7f70367a07a8a9e72a5a0bfeb5fc42e75c9db75b96da6053ad/cache-7665367de28b2735.arrow\n"
     ]
    },
    {
     "data": {
      "application/vnd.jupyter.widget-view+json": {
       "model_id": "",
       "version_major": 2,
       "version_minor": 0
      },
      "text/plain": [
       "Map:   0%|          | 0/1821 [00:00<?, ? examples/s]"
      ]
     },
     "metadata": {},
     "output_type": "display_data"
    },
    {
     "name": "stdout",
     "output_type": "stream",
     "text": [
      "<class 'datasets.dataset_dict.DatasetDict'>\n",
      "dict_keys(['train', 'validation', 'test'])\n"
     ]
    }
   ],
   "source": [
    "# Approach 2: Slightly different approach: With map function <<< Finalised approach >>>\n",
    "def tokenize_function(example):\n",
    "    return tokenizer(example[\"sentence\"], truncation=True)\n",
    "\n",
    "tokenized_datasets = raw_datasets.map(tokenize_function, batched=True, num_proc=None)\n",
    "print (type(tokenized_datasets) )\n",
    "print (tokenized_datasets.keys())"
   ]
  },
  {
   "cell_type": "code",
   "execution_count": 198,
   "metadata": {
    "ExecuteTime": {
     "end_time": "2023-07-15T02:56:53.999382Z",
     "start_time": "2023-07-15T02:56:53.996922Z"
    }
   },
   "outputs": [
    {
     "data": {
      "text/plain": [
       "DatasetDict({\n",
       "    train: Dataset({\n",
       "        features: ['sentence', 'label', 'idx', 'input_ids', 'token_type_ids', 'attention_mask'],\n",
       "        num_rows: 67349\n",
       "    })\n",
       "    validation: Dataset({\n",
       "        features: ['sentence', 'label', 'idx', 'input_ids', 'token_type_ids', 'attention_mask'],\n",
       "        num_rows: 872\n",
       "    })\n",
       "    test: Dataset({\n",
       "        features: ['sentence', 'label', 'idx', 'input_ids', 'token_type_ids', 'attention_mask'],\n",
       "        num_rows: 1821\n",
       "    })\n",
       "})"
      ]
     },
     "execution_count": 198,
     "metadata": {},
     "output_type": "execute_result"
    }
   ],
   "source": [
    "tokenized_datasets"
   ]
  },
  {
   "cell_type": "code",
   "execution_count": 202,
   "metadata": {
    "ExecuteTime": {
     "end_time": "2023-07-15T02:58:25.776916Z",
     "start_time": "2023-07-15T02:58:25.733196Z"
    }
   },
   "outputs": [
    {
     "name": "stderr",
     "output_type": "stream",
     "text": [
      "Loading cached processed dataset at /Users/prasanth.thangavel/.cache/huggingface/datasets/glue/sst2/1.0.0/dacbe3125aa31d7f70367a07a8a9e72a5a0bfeb5fc42e75c9db75b96da6053ad/cache-f5d121c7346d2620.arrow\n",
      "Loading cached processed dataset at /Users/prasanth.thangavel/.cache/huggingface/datasets/glue/sst2/1.0.0/dacbe3125aa31d7f70367a07a8a9e72a5a0bfeb5fc42e75c9db75b96da6053ad/cache-813f5b47193ce7f0.arrow\n",
      "Loading cached processed dataset at /Users/prasanth.thangavel/.cache/huggingface/datasets/glue/sst2/1.0.0/dacbe3125aa31d7f70367a07a8a9e72a5a0bfeb5fc42e75c9db75b96da6053ad/cache-69db138cc57240a9.arrow\n"
     ]
    },
    {
     "data": {
      "text/plain": [
       "DatasetDict({\n",
       "    train: Dataset({\n",
       "        features: ['labels', 'input_ids', 'token_type_ids', 'attention_mask'],\n",
       "        num_rows: 67349\n",
       "    })\n",
       "    validation: Dataset({\n",
       "        features: ['labels', 'input_ids', 'token_type_ids', 'attention_mask'],\n",
       "        num_rows: 872\n",
       "    })\n",
       "    test: Dataset({\n",
       "        features: ['labels', 'input_ids', 'token_type_ids', 'attention_mask'],\n",
       "        num_rows: 1821\n",
       "    })\n",
       "})"
      ]
     },
     "execution_count": 202,
     "metadata": {},
     "output_type": "execute_result"
    }
   ],
   "source": [
    "# Data preprocessing\n",
    "tokenized_datasets = raw_datasets.map(tokenize_function, batched=True, num_proc=None)\n",
    "tokenized_datasets_clean = tokenized_datasets.remove_columns(['idx', 'sentence'])\n",
    "tokenized_datasets_clean = tokenized_datasets_clean.rename_column(\"label\", \"labels\")\n",
    "tokenized_datasets_clean = tokenized_datasets_clean.with_format(\"torch\")\n",
    "tokenized_datasets_clean"
   ]
  },
  {
   "cell_type": "code",
   "execution_count": 203,
   "metadata": {
    "ExecuteTime": {
     "end_time": "2023-07-15T02:58:29.601153Z",
     "start_time": "2023-07-15T02:58:29.587385Z"
    }
   },
   "outputs": [
    {
     "data": {
      "text/plain": [
       "Dataset({\n",
       "    features: ['labels', 'input_ids', 'token_type_ids', 'attention_mask'],\n",
       "    num_rows: 67349\n",
       "})"
      ]
     },
     "execution_count": 203,
     "metadata": {},
     "output_type": "execute_result"
    }
   ],
   "source": [
    "tokenized_datasets_clean['train']"
   ]
  },
  {
   "cell_type": "code",
   "execution_count": 205,
   "metadata": {
    "ExecuteTime": {
     "end_time": "2023-07-15T02:59:06.268018Z",
     "start_time": "2023-07-15T02:59:06.250787Z"
    }
   },
   "outputs": [
    {
     "data": {
      "text/plain": [
       "Dataset({\n",
       "    features: ['labels', 'input_ids', 'token_type_ids', 'attention_mask'],\n",
       "    num_rows: 100\n",
       "})"
      ]
     },
     "execution_count": 205,
     "metadata": {},
     "output_type": "execute_result"
    }
   ],
   "source": [
    "# generate a short sample of dataset\n",
    "small_train_dataset_clean = tokenized_datasets_clean[\"train\"].select(range(100))\n",
    "small_train_dataset_clean"
   ]
  },
  {
   "cell_type": "markdown",
   "metadata": {},
   "source": [
    "**Step 3: Dynamic padding**"
   ]
  },
  {
   "cell_type": "code",
   "execution_count": null,
   "metadata": {
    "ExecuteTime": {
     "end_time": "2023-07-15T02:56:54.032236Z",
     "start_time": "2023-07-15T02:56:54.032230Z"
    }
   },
   "outputs": [],
   "source": [
    "from transformers import DataCollatorWithPadding\n",
    "\n",
    "data_collator = DataCollatorWithPadding(tokenizer=tokenizer)"
   ]
  },
  {
   "cell_type": "code",
   "execution_count": 187,
   "metadata": {
    "ExecuteTime": {
     "end_time": "2023-07-15T02:30:47.382445Z",
     "start_time": "2023-07-15T02:30:47.291707Z"
    }
   },
   "outputs": [
    {
     "data": {
      "text/plain": [
       "['hide new secretions from the parental units ',\n",
       " 'contains no wit , only labored gags ',\n",
       " 'that loves its characters and communicates something rather beautiful about human nature ',\n",
       " 'remains utterly satisfied to remain the same throughout ',\n",
       " 'on the worst revenge-of-the-nerds clichés the filmmakers could dredge up ',\n",
       " \"that 's far too tragic to merit such superficial treatment \",\n",
       " 'demonstrates that the director of such hollywood blockbusters as patriot games can still turn out a small , personal film with an emotional wallop . ',\n",
       " 'of saucy ']"
      ]
     },
     "execution_count": 187,
     "metadata": {},
     "output_type": "execute_result"
    }
   ],
   "source": [
    "raw_train_dataset['sentence'][:8]"
   ]
  },
  {
   "cell_type": "code",
   "execution_count": 180,
   "metadata": {
    "ExecuteTime": {
     "end_time": "2023-07-15T02:29:56.309226Z",
     "start_time": "2023-07-15T02:29:56.290267Z"
    }
   },
   "outputs": [
    {
     "data": {
      "text/plain": [
       "[10, 11, 15, 10, 22, 13, 29, 6]"
      ]
     },
     "execution_count": 180,
     "metadata": {},
     "output_type": "execute_result"
    }
   ],
   "source": [
    "samples = tokenized_datasets[\"train\"][:8] # Batch size of 8\n",
    "samples = {k: v for k, v in samples.items() if k not in [\"idx\", \"sentence\"]}\n",
    "[len(x) for x in samples[\"input_ids\"]]"
   ]
  },
  {
   "cell_type": "code",
   "execution_count": 188,
   "metadata": {
    "ExecuteTime": {
     "end_time": "2023-07-15T02:31:02.333542Z",
     "start_time": "2023-07-15T02:31:02.322851Z"
    }
   },
   "outputs": [
    {
     "data": {
      "text/plain": [
       "{'input_ids': torch.Size([8, 29]),\n",
       " 'token_type_ids': torch.Size([8, 29]),\n",
       " 'attention_mask': torch.Size([8, 29]),\n",
       " 'labels': torch.Size([8])}"
      ]
     },
     "execution_count": 188,
     "metadata": {},
     "output_type": "execute_result"
    }
   ],
   "source": [
    "batch = data_collator(samples)\n",
    "{k: v.shape for k, v in batch.items()}"
   ]
  },
  {
   "cell_type": "code",
   "execution_count": 189,
   "metadata": {
    "ExecuteTime": {
     "end_time": "2023-07-15T02:31:20.105632Z",
     "start_time": "2023-07-15T02:31:20.082432Z"
    }
   },
   "outputs": [
    {
     "data": {
      "text/html": [
       "<style type=\"text/css\">\n",
       "#T_6efb1_row0_col10, #T_6efb1_row0_col11, #T_6efb1_row0_col12, #T_6efb1_row0_col13, #T_6efb1_row0_col14, #T_6efb1_row0_col15, #T_6efb1_row0_col16, #T_6efb1_row0_col17, #T_6efb1_row0_col18, #T_6efb1_row0_col19, #T_6efb1_row0_col20, #T_6efb1_row0_col21, #T_6efb1_row0_col22, #T_6efb1_row0_col23, #T_6efb1_row0_col24, #T_6efb1_row0_col25, #T_6efb1_row0_col26, #T_6efb1_row0_col27, #T_6efb1_row0_col28, #T_6efb1_row1_col11, #T_6efb1_row1_col12, #T_6efb1_row1_col13, #T_6efb1_row1_col14, #T_6efb1_row1_col15, #T_6efb1_row1_col16, #T_6efb1_row1_col17, #T_6efb1_row1_col18, #T_6efb1_row1_col19, #T_6efb1_row1_col20, #T_6efb1_row1_col21, #T_6efb1_row1_col22, #T_6efb1_row1_col23, #T_6efb1_row1_col24, #T_6efb1_row1_col25, #T_6efb1_row1_col26, #T_6efb1_row1_col27, #T_6efb1_row1_col28, #T_6efb1_row2_col15, #T_6efb1_row2_col16, #T_6efb1_row2_col17, #T_6efb1_row2_col18, #T_6efb1_row2_col19, #T_6efb1_row2_col20, #T_6efb1_row2_col21, #T_6efb1_row2_col22, #T_6efb1_row2_col23, #T_6efb1_row2_col24, #T_6efb1_row2_col25, #T_6efb1_row2_col26, #T_6efb1_row2_col27, #T_6efb1_row2_col28, #T_6efb1_row3_col10, #T_6efb1_row3_col11, #T_6efb1_row3_col12, #T_6efb1_row3_col13, #T_6efb1_row3_col14, #T_6efb1_row3_col15, #T_6efb1_row3_col16, #T_6efb1_row3_col17, #T_6efb1_row3_col18, #T_6efb1_row3_col19, #T_6efb1_row3_col20, #T_6efb1_row3_col21, #T_6efb1_row3_col22, #T_6efb1_row3_col23, #T_6efb1_row3_col24, #T_6efb1_row3_col25, #T_6efb1_row3_col26, #T_6efb1_row3_col27, #T_6efb1_row3_col28, #T_6efb1_row4_col22, #T_6efb1_row4_col23, #T_6efb1_row4_col24, #T_6efb1_row4_col25, #T_6efb1_row4_col26, #T_6efb1_row4_col27, #T_6efb1_row4_col28, #T_6efb1_row5_col13, #T_6efb1_row5_col14, #T_6efb1_row5_col15, #T_6efb1_row5_col16, #T_6efb1_row5_col17, #T_6efb1_row5_col18, #T_6efb1_row5_col19, #T_6efb1_row5_col20, #T_6efb1_row5_col21, #T_6efb1_row5_col22, #T_6efb1_row5_col23, #T_6efb1_row5_col24, #T_6efb1_row5_col25, #T_6efb1_row5_col26, #T_6efb1_row5_col27, #T_6efb1_row5_col28, #T_6efb1_row7_col6, #T_6efb1_row7_col7, #T_6efb1_row7_col8, #T_6efb1_row7_col9, #T_6efb1_row7_col10, #T_6efb1_row7_col11, #T_6efb1_row7_col12, #T_6efb1_row7_col13, #T_6efb1_row7_col14, #T_6efb1_row7_col15, #T_6efb1_row7_col16, #T_6efb1_row7_col17, #T_6efb1_row7_col18, #T_6efb1_row7_col19, #T_6efb1_row7_col20, #T_6efb1_row7_col21, #T_6efb1_row7_col22, #T_6efb1_row7_col23, #T_6efb1_row7_col24, #T_6efb1_row7_col25, #T_6efb1_row7_col26, #T_6efb1_row7_col27, #T_6efb1_row7_col28 {\n",
       "  background-color: yellow;\n",
       "}\n",
       "</style>\n",
       "<table id=\"T_6efb1\">\n",
       "  <thead>\n",
       "    <tr>\n",
       "      <th class=\"blank level0\" >&nbsp;</th>\n",
       "      <th id=\"T_6efb1_level0_col0\" class=\"col_heading level0 col0\" >0</th>\n",
       "      <th id=\"T_6efb1_level0_col1\" class=\"col_heading level0 col1\" >1</th>\n",
       "      <th id=\"T_6efb1_level0_col2\" class=\"col_heading level0 col2\" >2</th>\n",
       "      <th id=\"T_6efb1_level0_col3\" class=\"col_heading level0 col3\" >3</th>\n",
       "      <th id=\"T_6efb1_level0_col4\" class=\"col_heading level0 col4\" >4</th>\n",
       "      <th id=\"T_6efb1_level0_col5\" class=\"col_heading level0 col5\" >5</th>\n",
       "      <th id=\"T_6efb1_level0_col6\" class=\"col_heading level0 col6\" >6</th>\n",
       "      <th id=\"T_6efb1_level0_col7\" class=\"col_heading level0 col7\" >7</th>\n",
       "      <th id=\"T_6efb1_level0_col8\" class=\"col_heading level0 col8\" >8</th>\n",
       "      <th id=\"T_6efb1_level0_col9\" class=\"col_heading level0 col9\" >9</th>\n",
       "      <th id=\"T_6efb1_level0_col10\" class=\"col_heading level0 col10\" >10</th>\n",
       "      <th id=\"T_6efb1_level0_col11\" class=\"col_heading level0 col11\" >11</th>\n",
       "      <th id=\"T_6efb1_level0_col12\" class=\"col_heading level0 col12\" >12</th>\n",
       "      <th id=\"T_6efb1_level0_col13\" class=\"col_heading level0 col13\" >13</th>\n",
       "      <th id=\"T_6efb1_level0_col14\" class=\"col_heading level0 col14\" >14</th>\n",
       "      <th id=\"T_6efb1_level0_col15\" class=\"col_heading level0 col15\" >15</th>\n",
       "      <th id=\"T_6efb1_level0_col16\" class=\"col_heading level0 col16\" >16</th>\n",
       "      <th id=\"T_6efb1_level0_col17\" class=\"col_heading level0 col17\" >17</th>\n",
       "      <th id=\"T_6efb1_level0_col18\" class=\"col_heading level0 col18\" >18</th>\n",
       "      <th id=\"T_6efb1_level0_col19\" class=\"col_heading level0 col19\" >19</th>\n",
       "      <th id=\"T_6efb1_level0_col20\" class=\"col_heading level0 col20\" >20</th>\n",
       "      <th id=\"T_6efb1_level0_col21\" class=\"col_heading level0 col21\" >21</th>\n",
       "      <th id=\"T_6efb1_level0_col22\" class=\"col_heading level0 col22\" >22</th>\n",
       "      <th id=\"T_6efb1_level0_col23\" class=\"col_heading level0 col23\" >23</th>\n",
       "      <th id=\"T_6efb1_level0_col24\" class=\"col_heading level0 col24\" >24</th>\n",
       "      <th id=\"T_6efb1_level0_col25\" class=\"col_heading level0 col25\" >25</th>\n",
       "      <th id=\"T_6efb1_level0_col26\" class=\"col_heading level0 col26\" >26</th>\n",
       "      <th id=\"T_6efb1_level0_col27\" class=\"col_heading level0 col27\" >27</th>\n",
       "      <th id=\"T_6efb1_level0_col28\" class=\"col_heading level0 col28\" >28</th>\n",
       "    </tr>\n",
       "  </thead>\n",
       "  <tbody>\n",
       "    <tr>\n",
       "      <th id=\"T_6efb1_level0_row0\" class=\"row_heading level0 row0\" >0</th>\n",
       "      <td id=\"T_6efb1_row0_col0\" class=\"data row0 col0\" >1</td>\n",
       "      <td id=\"T_6efb1_row0_col1\" class=\"data row0 col1\" >1</td>\n",
       "      <td id=\"T_6efb1_row0_col2\" class=\"data row0 col2\" >1</td>\n",
       "      <td id=\"T_6efb1_row0_col3\" class=\"data row0 col3\" >1</td>\n",
       "      <td id=\"T_6efb1_row0_col4\" class=\"data row0 col4\" >1</td>\n",
       "      <td id=\"T_6efb1_row0_col5\" class=\"data row0 col5\" >1</td>\n",
       "      <td id=\"T_6efb1_row0_col6\" class=\"data row0 col6\" >1</td>\n",
       "      <td id=\"T_6efb1_row0_col7\" class=\"data row0 col7\" >1</td>\n",
       "      <td id=\"T_6efb1_row0_col8\" class=\"data row0 col8\" >1</td>\n",
       "      <td id=\"T_6efb1_row0_col9\" class=\"data row0 col9\" >1</td>\n",
       "      <td id=\"T_6efb1_row0_col10\" class=\"data row0 col10\" >0</td>\n",
       "      <td id=\"T_6efb1_row0_col11\" class=\"data row0 col11\" >0</td>\n",
       "      <td id=\"T_6efb1_row0_col12\" class=\"data row0 col12\" >0</td>\n",
       "      <td id=\"T_6efb1_row0_col13\" class=\"data row0 col13\" >0</td>\n",
       "      <td id=\"T_6efb1_row0_col14\" class=\"data row0 col14\" >0</td>\n",
       "      <td id=\"T_6efb1_row0_col15\" class=\"data row0 col15\" >0</td>\n",
       "      <td id=\"T_6efb1_row0_col16\" class=\"data row0 col16\" >0</td>\n",
       "      <td id=\"T_6efb1_row0_col17\" class=\"data row0 col17\" >0</td>\n",
       "      <td id=\"T_6efb1_row0_col18\" class=\"data row0 col18\" >0</td>\n",
       "      <td id=\"T_6efb1_row0_col19\" class=\"data row0 col19\" >0</td>\n",
       "      <td id=\"T_6efb1_row0_col20\" class=\"data row0 col20\" >0</td>\n",
       "      <td id=\"T_6efb1_row0_col21\" class=\"data row0 col21\" >0</td>\n",
       "      <td id=\"T_6efb1_row0_col22\" class=\"data row0 col22\" >0</td>\n",
       "      <td id=\"T_6efb1_row0_col23\" class=\"data row0 col23\" >0</td>\n",
       "      <td id=\"T_6efb1_row0_col24\" class=\"data row0 col24\" >0</td>\n",
       "      <td id=\"T_6efb1_row0_col25\" class=\"data row0 col25\" >0</td>\n",
       "      <td id=\"T_6efb1_row0_col26\" class=\"data row0 col26\" >0</td>\n",
       "      <td id=\"T_6efb1_row0_col27\" class=\"data row0 col27\" >0</td>\n",
       "      <td id=\"T_6efb1_row0_col28\" class=\"data row0 col28\" >0</td>\n",
       "    </tr>\n",
       "    <tr>\n",
       "      <th id=\"T_6efb1_level0_row1\" class=\"row_heading level0 row1\" >1</th>\n",
       "      <td id=\"T_6efb1_row1_col0\" class=\"data row1 col0\" >1</td>\n",
       "      <td id=\"T_6efb1_row1_col1\" class=\"data row1 col1\" >1</td>\n",
       "      <td id=\"T_6efb1_row1_col2\" class=\"data row1 col2\" >1</td>\n",
       "      <td id=\"T_6efb1_row1_col3\" class=\"data row1 col3\" >1</td>\n",
       "      <td id=\"T_6efb1_row1_col4\" class=\"data row1 col4\" >1</td>\n",
       "      <td id=\"T_6efb1_row1_col5\" class=\"data row1 col5\" >1</td>\n",
       "      <td id=\"T_6efb1_row1_col6\" class=\"data row1 col6\" >1</td>\n",
       "      <td id=\"T_6efb1_row1_col7\" class=\"data row1 col7\" >1</td>\n",
       "      <td id=\"T_6efb1_row1_col8\" class=\"data row1 col8\" >1</td>\n",
       "      <td id=\"T_6efb1_row1_col9\" class=\"data row1 col9\" >1</td>\n",
       "      <td id=\"T_6efb1_row1_col10\" class=\"data row1 col10\" >1</td>\n",
       "      <td id=\"T_6efb1_row1_col11\" class=\"data row1 col11\" >0</td>\n",
       "      <td id=\"T_6efb1_row1_col12\" class=\"data row1 col12\" >0</td>\n",
       "      <td id=\"T_6efb1_row1_col13\" class=\"data row1 col13\" >0</td>\n",
       "      <td id=\"T_6efb1_row1_col14\" class=\"data row1 col14\" >0</td>\n",
       "      <td id=\"T_6efb1_row1_col15\" class=\"data row1 col15\" >0</td>\n",
       "      <td id=\"T_6efb1_row1_col16\" class=\"data row1 col16\" >0</td>\n",
       "      <td id=\"T_6efb1_row1_col17\" class=\"data row1 col17\" >0</td>\n",
       "      <td id=\"T_6efb1_row1_col18\" class=\"data row1 col18\" >0</td>\n",
       "      <td id=\"T_6efb1_row1_col19\" class=\"data row1 col19\" >0</td>\n",
       "      <td id=\"T_6efb1_row1_col20\" class=\"data row1 col20\" >0</td>\n",
       "      <td id=\"T_6efb1_row1_col21\" class=\"data row1 col21\" >0</td>\n",
       "      <td id=\"T_6efb1_row1_col22\" class=\"data row1 col22\" >0</td>\n",
       "      <td id=\"T_6efb1_row1_col23\" class=\"data row1 col23\" >0</td>\n",
       "      <td id=\"T_6efb1_row1_col24\" class=\"data row1 col24\" >0</td>\n",
       "      <td id=\"T_6efb1_row1_col25\" class=\"data row1 col25\" >0</td>\n",
       "      <td id=\"T_6efb1_row1_col26\" class=\"data row1 col26\" >0</td>\n",
       "      <td id=\"T_6efb1_row1_col27\" class=\"data row1 col27\" >0</td>\n",
       "      <td id=\"T_6efb1_row1_col28\" class=\"data row1 col28\" >0</td>\n",
       "    </tr>\n",
       "    <tr>\n",
       "      <th id=\"T_6efb1_level0_row2\" class=\"row_heading level0 row2\" >2</th>\n",
       "      <td id=\"T_6efb1_row2_col0\" class=\"data row2 col0\" >1</td>\n",
       "      <td id=\"T_6efb1_row2_col1\" class=\"data row2 col1\" >1</td>\n",
       "      <td id=\"T_6efb1_row2_col2\" class=\"data row2 col2\" >1</td>\n",
       "      <td id=\"T_6efb1_row2_col3\" class=\"data row2 col3\" >1</td>\n",
       "      <td id=\"T_6efb1_row2_col4\" class=\"data row2 col4\" >1</td>\n",
       "      <td id=\"T_6efb1_row2_col5\" class=\"data row2 col5\" >1</td>\n",
       "      <td id=\"T_6efb1_row2_col6\" class=\"data row2 col6\" >1</td>\n",
       "      <td id=\"T_6efb1_row2_col7\" class=\"data row2 col7\" >1</td>\n",
       "      <td id=\"T_6efb1_row2_col8\" class=\"data row2 col8\" >1</td>\n",
       "      <td id=\"T_6efb1_row2_col9\" class=\"data row2 col9\" >1</td>\n",
       "      <td id=\"T_6efb1_row2_col10\" class=\"data row2 col10\" >1</td>\n",
       "      <td id=\"T_6efb1_row2_col11\" class=\"data row2 col11\" >1</td>\n",
       "      <td id=\"T_6efb1_row2_col12\" class=\"data row2 col12\" >1</td>\n",
       "      <td id=\"T_6efb1_row2_col13\" class=\"data row2 col13\" >1</td>\n",
       "      <td id=\"T_6efb1_row2_col14\" class=\"data row2 col14\" >1</td>\n",
       "      <td id=\"T_6efb1_row2_col15\" class=\"data row2 col15\" >0</td>\n",
       "      <td id=\"T_6efb1_row2_col16\" class=\"data row2 col16\" >0</td>\n",
       "      <td id=\"T_6efb1_row2_col17\" class=\"data row2 col17\" >0</td>\n",
       "      <td id=\"T_6efb1_row2_col18\" class=\"data row2 col18\" >0</td>\n",
       "      <td id=\"T_6efb1_row2_col19\" class=\"data row2 col19\" >0</td>\n",
       "      <td id=\"T_6efb1_row2_col20\" class=\"data row2 col20\" >0</td>\n",
       "      <td id=\"T_6efb1_row2_col21\" class=\"data row2 col21\" >0</td>\n",
       "      <td id=\"T_6efb1_row2_col22\" class=\"data row2 col22\" >0</td>\n",
       "      <td id=\"T_6efb1_row2_col23\" class=\"data row2 col23\" >0</td>\n",
       "      <td id=\"T_6efb1_row2_col24\" class=\"data row2 col24\" >0</td>\n",
       "      <td id=\"T_6efb1_row2_col25\" class=\"data row2 col25\" >0</td>\n",
       "      <td id=\"T_6efb1_row2_col26\" class=\"data row2 col26\" >0</td>\n",
       "      <td id=\"T_6efb1_row2_col27\" class=\"data row2 col27\" >0</td>\n",
       "      <td id=\"T_6efb1_row2_col28\" class=\"data row2 col28\" >0</td>\n",
       "    </tr>\n",
       "    <tr>\n",
       "      <th id=\"T_6efb1_level0_row3\" class=\"row_heading level0 row3\" >3</th>\n",
       "      <td id=\"T_6efb1_row3_col0\" class=\"data row3 col0\" >1</td>\n",
       "      <td id=\"T_6efb1_row3_col1\" class=\"data row3 col1\" >1</td>\n",
       "      <td id=\"T_6efb1_row3_col2\" class=\"data row3 col2\" >1</td>\n",
       "      <td id=\"T_6efb1_row3_col3\" class=\"data row3 col3\" >1</td>\n",
       "      <td id=\"T_6efb1_row3_col4\" class=\"data row3 col4\" >1</td>\n",
       "      <td id=\"T_6efb1_row3_col5\" class=\"data row3 col5\" >1</td>\n",
       "      <td id=\"T_6efb1_row3_col6\" class=\"data row3 col6\" >1</td>\n",
       "      <td id=\"T_6efb1_row3_col7\" class=\"data row3 col7\" >1</td>\n",
       "      <td id=\"T_6efb1_row3_col8\" class=\"data row3 col8\" >1</td>\n",
       "      <td id=\"T_6efb1_row3_col9\" class=\"data row3 col9\" >1</td>\n",
       "      <td id=\"T_6efb1_row3_col10\" class=\"data row3 col10\" >0</td>\n",
       "      <td id=\"T_6efb1_row3_col11\" class=\"data row3 col11\" >0</td>\n",
       "      <td id=\"T_6efb1_row3_col12\" class=\"data row3 col12\" >0</td>\n",
       "      <td id=\"T_6efb1_row3_col13\" class=\"data row3 col13\" >0</td>\n",
       "      <td id=\"T_6efb1_row3_col14\" class=\"data row3 col14\" >0</td>\n",
       "      <td id=\"T_6efb1_row3_col15\" class=\"data row3 col15\" >0</td>\n",
       "      <td id=\"T_6efb1_row3_col16\" class=\"data row3 col16\" >0</td>\n",
       "      <td id=\"T_6efb1_row3_col17\" class=\"data row3 col17\" >0</td>\n",
       "      <td id=\"T_6efb1_row3_col18\" class=\"data row3 col18\" >0</td>\n",
       "      <td id=\"T_6efb1_row3_col19\" class=\"data row3 col19\" >0</td>\n",
       "      <td id=\"T_6efb1_row3_col20\" class=\"data row3 col20\" >0</td>\n",
       "      <td id=\"T_6efb1_row3_col21\" class=\"data row3 col21\" >0</td>\n",
       "      <td id=\"T_6efb1_row3_col22\" class=\"data row3 col22\" >0</td>\n",
       "      <td id=\"T_6efb1_row3_col23\" class=\"data row3 col23\" >0</td>\n",
       "      <td id=\"T_6efb1_row3_col24\" class=\"data row3 col24\" >0</td>\n",
       "      <td id=\"T_6efb1_row3_col25\" class=\"data row3 col25\" >0</td>\n",
       "      <td id=\"T_6efb1_row3_col26\" class=\"data row3 col26\" >0</td>\n",
       "      <td id=\"T_6efb1_row3_col27\" class=\"data row3 col27\" >0</td>\n",
       "      <td id=\"T_6efb1_row3_col28\" class=\"data row3 col28\" >0</td>\n",
       "    </tr>\n",
       "    <tr>\n",
       "      <th id=\"T_6efb1_level0_row4\" class=\"row_heading level0 row4\" >4</th>\n",
       "      <td id=\"T_6efb1_row4_col0\" class=\"data row4 col0\" >1</td>\n",
       "      <td id=\"T_6efb1_row4_col1\" class=\"data row4 col1\" >1</td>\n",
       "      <td id=\"T_6efb1_row4_col2\" class=\"data row4 col2\" >1</td>\n",
       "      <td id=\"T_6efb1_row4_col3\" class=\"data row4 col3\" >1</td>\n",
       "      <td id=\"T_6efb1_row4_col4\" class=\"data row4 col4\" >1</td>\n",
       "      <td id=\"T_6efb1_row4_col5\" class=\"data row4 col5\" >1</td>\n",
       "      <td id=\"T_6efb1_row4_col6\" class=\"data row4 col6\" >1</td>\n",
       "      <td id=\"T_6efb1_row4_col7\" class=\"data row4 col7\" >1</td>\n",
       "      <td id=\"T_6efb1_row4_col8\" class=\"data row4 col8\" >1</td>\n",
       "      <td id=\"T_6efb1_row4_col9\" class=\"data row4 col9\" >1</td>\n",
       "      <td id=\"T_6efb1_row4_col10\" class=\"data row4 col10\" >1</td>\n",
       "      <td id=\"T_6efb1_row4_col11\" class=\"data row4 col11\" >1</td>\n",
       "      <td id=\"T_6efb1_row4_col12\" class=\"data row4 col12\" >1</td>\n",
       "      <td id=\"T_6efb1_row4_col13\" class=\"data row4 col13\" >1</td>\n",
       "      <td id=\"T_6efb1_row4_col14\" class=\"data row4 col14\" >1</td>\n",
       "      <td id=\"T_6efb1_row4_col15\" class=\"data row4 col15\" >1</td>\n",
       "      <td id=\"T_6efb1_row4_col16\" class=\"data row4 col16\" >1</td>\n",
       "      <td id=\"T_6efb1_row4_col17\" class=\"data row4 col17\" >1</td>\n",
       "      <td id=\"T_6efb1_row4_col18\" class=\"data row4 col18\" >1</td>\n",
       "      <td id=\"T_6efb1_row4_col19\" class=\"data row4 col19\" >1</td>\n",
       "      <td id=\"T_6efb1_row4_col20\" class=\"data row4 col20\" >1</td>\n",
       "      <td id=\"T_6efb1_row4_col21\" class=\"data row4 col21\" >1</td>\n",
       "      <td id=\"T_6efb1_row4_col22\" class=\"data row4 col22\" >0</td>\n",
       "      <td id=\"T_6efb1_row4_col23\" class=\"data row4 col23\" >0</td>\n",
       "      <td id=\"T_6efb1_row4_col24\" class=\"data row4 col24\" >0</td>\n",
       "      <td id=\"T_6efb1_row4_col25\" class=\"data row4 col25\" >0</td>\n",
       "      <td id=\"T_6efb1_row4_col26\" class=\"data row4 col26\" >0</td>\n",
       "      <td id=\"T_6efb1_row4_col27\" class=\"data row4 col27\" >0</td>\n",
       "      <td id=\"T_6efb1_row4_col28\" class=\"data row4 col28\" >0</td>\n",
       "    </tr>\n",
       "    <tr>\n",
       "      <th id=\"T_6efb1_level0_row5\" class=\"row_heading level0 row5\" >5</th>\n",
       "      <td id=\"T_6efb1_row5_col0\" class=\"data row5 col0\" >1</td>\n",
       "      <td id=\"T_6efb1_row5_col1\" class=\"data row5 col1\" >1</td>\n",
       "      <td id=\"T_6efb1_row5_col2\" class=\"data row5 col2\" >1</td>\n",
       "      <td id=\"T_6efb1_row5_col3\" class=\"data row5 col3\" >1</td>\n",
       "      <td id=\"T_6efb1_row5_col4\" class=\"data row5 col4\" >1</td>\n",
       "      <td id=\"T_6efb1_row5_col5\" class=\"data row5 col5\" >1</td>\n",
       "      <td id=\"T_6efb1_row5_col6\" class=\"data row5 col6\" >1</td>\n",
       "      <td id=\"T_6efb1_row5_col7\" class=\"data row5 col7\" >1</td>\n",
       "      <td id=\"T_6efb1_row5_col8\" class=\"data row5 col8\" >1</td>\n",
       "      <td id=\"T_6efb1_row5_col9\" class=\"data row5 col9\" >1</td>\n",
       "      <td id=\"T_6efb1_row5_col10\" class=\"data row5 col10\" >1</td>\n",
       "      <td id=\"T_6efb1_row5_col11\" class=\"data row5 col11\" >1</td>\n",
       "      <td id=\"T_6efb1_row5_col12\" class=\"data row5 col12\" >1</td>\n",
       "      <td id=\"T_6efb1_row5_col13\" class=\"data row5 col13\" >0</td>\n",
       "      <td id=\"T_6efb1_row5_col14\" class=\"data row5 col14\" >0</td>\n",
       "      <td id=\"T_6efb1_row5_col15\" class=\"data row5 col15\" >0</td>\n",
       "      <td id=\"T_6efb1_row5_col16\" class=\"data row5 col16\" >0</td>\n",
       "      <td id=\"T_6efb1_row5_col17\" class=\"data row5 col17\" >0</td>\n",
       "      <td id=\"T_6efb1_row5_col18\" class=\"data row5 col18\" >0</td>\n",
       "      <td id=\"T_6efb1_row5_col19\" class=\"data row5 col19\" >0</td>\n",
       "      <td id=\"T_6efb1_row5_col20\" class=\"data row5 col20\" >0</td>\n",
       "      <td id=\"T_6efb1_row5_col21\" class=\"data row5 col21\" >0</td>\n",
       "      <td id=\"T_6efb1_row5_col22\" class=\"data row5 col22\" >0</td>\n",
       "      <td id=\"T_6efb1_row5_col23\" class=\"data row5 col23\" >0</td>\n",
       "      <td id=\"T_6efb1_row5_col24\" class=\"data row5 col24\" >0</td>\n",
       "      <td id=\"T_6efb1_row5_col25\" class=\"data row5 col25\" >0</td>\n",
       "      <td id=\"T_6efb1_row5_col26\" class=\"data row5 col26\" >0</td>\n",
       "      <td id=\"T_6efb1_row5_col27\" class=\"data row5 col27\" >0</td>\n",
       "      <td id=\"T_6efb1_row5_col28\" class=\"data row5 col28\" >0</td>\n",
       "    </tr>\n",
       "    <tr>\n",
       "      <th id=\"T_6efb1_level0_row6\" class=\"row_heading level0 row6\" >6</th>\n",
       "      <td id=\"T_6efb1_row6_col0\" class=\"data row6 col0\" >1</td>\n",
       "      <td id=\"T_6efb1_row6_col1\" class=\"data row6 col1\" >1</td>\n",
       "      <td id=\"T_6efb1_row6_col2\" class=\"data row6 col2\" >1</td>\n",
       "      <td id=\"T_6efb1_row6_col3\" class=\"data row6 col3\" >1</td>\n",
       "      <td id=\"T_6efb1_row6_col4\" class=\"data row6 col4\" >1</td>\n",
       "      <td id=\"T_6efb1_row6_col5\" class=\"data row6 col5\" >1</td>\n",
       "      <td id=\"T_6efb1_row6_col6\" class=\"data row6 col6\" >1</td>\n",
       "      <td id=\"T_6efb1_row6_col7\" class=\"data row6 col7\" >1</td>\n",
       "      <td id=\"T_6efb1_row6_col8\" class=\"data row6 col8\" >1</td>\n",
       "      <td id=\"T_6efb1_row6_col9\" class=\"data row6 col9\" >1</td>\n",
       "      <td id=\"T_6efb1_row6_col10\" class=\"data row6 col10\" >1</td>\n",
       "      <td id=\"T_6efb1_row6_col11\" class=\"data row6 col11\" >1</td>\n",
       "      <td id=\"T_6efb1_row6_col12\" class=\"data row6 col12\" >1</td>\n",
       "      <td id=\"T_6efb1_row6_col13\" class=\"data row6 col13\" >1</td>\n",
       "      <td id=\"T_6efb1_row6_col14\" class=\"data row6 col14\" >1</td>\n",
       "      <td id=\"T_6efb1_row6_col15\" class=\"data row6 col15\" >1</td>\n",
       "      <td id=\"T_6efb1_row6_col16\" class=\"data row6 col16\" >1</td>\n",
       "      <td id=\"T_6efb1_row6_col17\" class=\"data row6 col17\" >1</td>\n",
       "      <td id=\"T_6efb1_row6_col18\" class=\"data row6 col18\" >1</td>\n",
       "      <td id=\"T_6efb1_row6_col19\" class=\"data row6 col19\" >1</td>\n",
       "      <td id=\"T_6efb1_row6_col20\" class=\"data row6 col20\" >1</td>\n",
       "      <td id=\"T_6efb1_row6_col21\" class=\"data row6 col21\" >1</td>\n",
       "      <td id=\"T_6efb1_row6_col22\" class=\"data row6 col22\" >1</td>\n",
       "      <td id=\"T_6efb1_row6_col23\" class=\"data row6 col23\" >1</td>\n",
       "      <td id=\"T_6efb1_row6_col24\" class=\"data row6 col24\" >1</td>\n",
       "      <td id=\"T_6efb1_row6_col25\" class=\"data row6 col25\" >1</td>\n",
       "      <td id=\"T_6efb1_row6_col26\" class=\"data row6 col26\" >1</td>\n",
       "      <td id=\"T_6efb1_row6_col27\" class=\"data row6 col27\" >1</td>\n",
       "      <td id=\"T_6efb1_row6_col28\" class=\"data row6 col28\" >1</td>\n",
       "    </tr>\n",
       "    <tr>\n",
       "      <th id=\"T_6efb1_level0_row7\" class=\"row_heading level0 row7\" >7</th>\n",
       "      <td id=\"T_6efb1_row7_col0\" class=\"data row7 col0\" >1</td>\n",
       "      <td id=\"T_6efb1_row7_col1\" class=\"data row7 col1\" >1</td>\n",
       "      <td id=\"T_6efb1_row7_col2\" class=\"data row7 col2\" >1</td>\n",
       "      <td id=\"T_6efb1_row7_col3\" class=\"data row7 col3\" >1</td>\n",
       "      <td id=\"T_6efb1_row7_col4\" class=\"data row7 col4\" >1</td>\n",
       "      <td id=\"T_6efb1_row7_col5\" class=\"data row7 col5\" >1</td>\n",
       "      <td id=\"T_6efb1_row7_col6\" class=\"data row7 col6\" >0</td>\n",
       "      <td id=\"T_6efb1_row7_col7\" class=\"data row7 col7\" >0</td>\n",
       "      <td id=\"T_6efb1_row7_col8\" class=\"data row7 col8\" >0</td>\n",
       "      <td id=\"T_6efb1_row7_col9\" class=\"data row7 col9\" >0</td>\n",
       "      <td id=\"T_6efb1_row7_col10\" class=\"data row7 col10\" >0</td>\n",
       "      <td id=\"T_6efb1_row7_col11\" class=\"data row7 col11\" >0</td>\n",
       "      <td id=\"T_6efb1_row7_col12\" class=\"data row7 col12\" >0</td>\n",
       "      <td id=\"T_6efb1_row7_col13\" class=\"data row7 col13\" >0</td>\n",
       "      <td id=\"T_6efb1_row7_col14\" class=\"data row7 col14\" >0</td>\n",
       "      <td id=\"T_6efb1_row7_col15\" class=\"data row7 col15\" >0</td>\n",
       "      <td id=\"T_6efb1_row7_col16\" class=\"data row7 col16\" >0</td>\n",
       "      <td id=\"T_6efb1_row7_col17\" class=\"data row7 col17\" >0</td>\n",
       "      <td id=\"T_6efb1_row7_col18\" class=\"data row7 col18\" >0</td>\n",
       "      <td id=\"T_6efb1_row7_col19\" class=\"data row7 col19\" >0</td>\n",
       "      <td id=\"T_6efb1_row7_col20\" class=\"data row7 col20\" >0</td>\n",
       "      <td id=\"T_6efb1_row7_col21\" class=\"data row7 col21\" >0</td>\n",
       "      <td id=\"T_6efb1_row7_col22\" class=\"data row7 col22\" >0</td>\n",
       "      <td id=\"T_6efb1_row7_col23\" class=\"data row7 col23\" >0</td>\n",
       "      <td id=\"T_6efb1_row7_col24\" class=\"data row7 col24\" >0</td>\n",
       "      <td id=\"T_6efb1_row7_col25\" class=\"data row7 col25\" >0</td>\n",
       "      <td id=\"T_6efb1_row7_col26\" class=\"data row7 col26\" >0</td>\n",
       "      <td id=\"T_6efb1_row7_col27\" class=\"data row7 col27\" >0</td>\n",
       "      <td id=\"T_6efb1_row7_col28\" class=\"data row7 col28\" >0</td>\n",
       "    </tr>\n",
       "  </tbody>\n",
       "</table>\n"
      ],
      "text/plain": [
       "<pandas.io.formats.style.Styler at 0x2e185c340>"
      ]
     },
     "execution_count": 189,
     "metadata": {},
     "output_type": "execute_result"
    }
   ],
   "source": [
    "df = pd.DataFrame(batch['attention_mask'])\n",
    "df.style.applymap(lambda x: 'background-color : yellow' if x==0 else '')"
   ]
  },
  {
   "cell_type": "markdown",
   "metadata": {},
   "source": [
    "# temp"
   ]
  },
  {
   "cell_type": "markdown",
   "metadata": {},
   "source": [
    "<img src=\"images/text-classification-for-pair-of-sentences.png.png\" style=\"width:650px;\" title=\"Padding\">"
   ]
  },
  {
   "cell_type": "code",
   "execution_count": null,
   "metadata": {},
   "outputs": [],
   "source": []
  },
  {
   "cell_type": "code",
   "execution_count": 155,
   "metadata": {
    "ExecuteTime": {
     "end_time": "2023-07-15T02:20:55.915587Z",
     "start_time": "2023-07-15T02:20:48.479796Z"
    },
    "scrolled": true
   },
   "outputs": [
    {
     "name": "stdout",
     "output_type": "stream",
     "text": [
      "Downloading and preparing dataset glue/sst2 to /Users/prasanth.thangavel/.cache/huggingface/datasets/glue/sst2/1.0.0/dacbe3125aa31d7f70367a07a8a9e72a5a0bfeb5fc42e75c9db75b96da6053ad...\n"
     ]
    },
    {
     "data": {
      "application/vnd.jupyter.widget-view+json": {
       "model_id": "e1bd151d47cc491089082358a5b9ae70",
       "version_major": 2,
       "version_minor": 0
      },
      "text/plain": [
       "Downloading data:   0%|          | 0.00/7.44M [00:00<?, ?B/s]"
      ]
     },
     "metadata": {},
     "output_type": "display_data"
    },
    {
     "data": {
      "application/vnd.jupyter.widget-view+json": {
       "model_id": "",
       "version_major": 2,
       "version_minor": 0
      },
      "text/plain": [
       "Generating train split:   0%|          | 0/67349 [00:00<?, ? examples/s]"
      ]
     },
     "metadata": {},
     "output_type": "display_data"
    },
    {
     "data": {
      "application/vnd.jupyter.widget-view+json": {
       "model_id": "",
       "version_major": 2,
       "version_minor": 0
      },
      "text/plain": [
       "Generating validation split:   0%|          | 0/872 [00:00<?, ? examples/s]"
      ]
     },
     "metadata": {},
     "output_type": "display_data"
    },
    {
     "data": {
      "application/vnd.jupyter.widget-view+json": {
       "model_id": "",
       "version_major": 2,
       "version_minor": 0
      },
      "text/plain": [
       "Generating test split:   0%|          | 0/1821 [00:00<?, ? examples/s]"
      ]
     },
     "metadata": {},
     "output_type": "display_data"
    },
    {
     "name": "stdout",
     "output_type": "stream",
     "text": [
      "Dataset glue downloaded and prepared to /Users/prasanth.thangavel/.cache/huggingface/datasets/glue/sst2/1.0.0/dacbe3125aa31d7f70367a07a8a9e72a5a0bfeb5fc42e75c9db75b96da6053ad. Subsequent calls will reuse this data.\n"
     ]
    },
    {
     "data": {
      "application/vnd.jupyter.widget-view+json": {
       "model_id": "51fc7569d8584463ab09b3ad0ed05fde",
       "version_major": 2,
       "version_minor": 0
      },
      "text/plain": [
       "  0%|          | 0/3 [00:00<?, ?it/s]"
      ]
     },
     "metadata": {},
     "output_type": "display_data"
    },
    {
     "data": {
      "text/plain": [
       "DatasetDict({\n",
       "    train: Dataset({\n",
       "        features: ['sentence', 'label', 'idx'],\n",
       "        num_rows: 67349\n",
       "    })\n",
       "    validation: Dataset({\n",
       "        features: ['sentence', 'label', 'idx'],\n",
       "        num_rows: 872\n",
       "    })\n",
       "    test: Dataset({\n",
       "        features: ['sentence', 'label', 'idx'],\n",
       "        num_rows: 1821\n",
       "    })\n",
       "})"
      ]
     },
     "execution_count": 155,
     "metadata": {},
     "output_type": "execute_result"
    }
   ],
   "source": []
  },
  {
   "cell_type": "code",
   "execution_count": null,
   "metadata": {},
   "outputs": [],
   "source": []
  }
 ],
 "metadata": {
  "colab": {
   "name": "Processing the data (PyTorch)",
   "provenance": []
  },
  "kernelspec": {
   "display_name": "fastai_related",
   "language": "python",
   "name": "fastai_related"
  },
  "language_info": {
   "codemirror_mode": {
    "name": "ipython",
    "version": 3
   },
   "file_extension": ".py",
   "mimetype": "text/x-python",
   "name": "python",
   "nbconvert_exporter": "python",
   "pygments_lexer": "ipython3",
   "version": "3.10.5"
  },
  "toc": {
   "base_numbering": 1,
   "nav_menu": {},
   "number_sections": true,
   "sideBar": true,
   "skip_h1_title": false,
   "title_cell": "Table of Contents",
   "title_sidebar": "Contents",
   "toc_cell": false,
   "toc_position": {
    "height": "calc(100% - 180px)",
    "left": "10px",
    "top": "150px",
    "width": "258px"
   },
   "toc_section_display": true,
   "toc_window_display": true
  }
 },
 "nbformat": 4,
 "nbformat_minor": 1
}
