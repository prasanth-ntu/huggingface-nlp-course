{
 "cells": [
  {
   "cell_type": "code",
   "execution_count": null,
   "metadata": {},
   "outputs": [],
   "source": [
    "import numpy as np\n",
    "import pandas as pd"
   ]
  },
  {
   "cell_type": "markdown",
   "metadata": {
    "ExecuteTime": {
     "end_time": "2023-07-15T08:03:26.787374Z",
     "start_time": "2023-07-15T08:03:26.771818Z"
    }
   },
   "source": [
    "- GLUE: General Language Understand Evaluation - A benchmark\n",
    "- MRPC: Microsoft Research Paraphrase Corpus - A dataset"
   ]
  },
  {
   "cell_type": "markdown",
   "metadata": {
    "id": "HazoN9tir0Xp"
   },
   "source": [
    "# Fine-tuning a model with the Trainer API or Keras"
   ]
  },
  {
   "cell_type": "markdown",
   "metadata": {
    "id": "4GseCWirr0Xq"
   },
   "source": [
    "Install the Transformers, Datasets, and Evaluate libraries to run this notebook."
   ]
  },
  {
   "cell_type": "code",
   "execution_count": 1,
   "metadata": {
    "ExecuteTime": {
     "end_time": "2023-07-05T01:36:24.606392Z",
     "start_time": "2023-07-05T01:36:24.604390Z"
    },
    "id": "NcCsh0PVr0Xr"
   },
   "outputs": [],
   "source": [
    "# !pip install datasets evaluate transformers[sentencepiece]"
   ]
  },
  {
   "cell_type": "markdown",
   "metadata": {},
   "source": [
    "<b>Trainer API</b>\n",
    "- Allows to easily fine-tune transformer models on our own dataset\n",
    "- `Trainer` class \n",
    "    - takes our \n",
    "        - dataset, \n",
    "        - tokenizer, data collator\n",
    "            - final data-processing such as dynamic padding (if we provide the tokenizer)\n",
    "        - model, \n",
    "        - training hyperparameters\n",
    "        - metrics\n",
    "        - ...\n",
    "    - perform \n",
    "        - the training on any kind of setup (CPU, GPU, multiple GPUs, TPUs)\n",
    "        - compute predictions on any datasets\n",
    "        - evaluate our model on any dataset with provided metrics"
   ]
  },
  {
   "cell_type": "markdown",
   "metadata": {},
   "source": [
    "<img src=\"images/Trainer-API-overview.png\" style=\"width:850px;\" title=\"Trainer API overview\">"
   ]
  },
  {
   "cell_type": "markdown",
   "metadata": {},
   "source": [
    "With the below code,\n",
    "- we do not apply padding during preprocessing, as we will use dyanmic padding using data collator\n",
    "- we also do not do any renaming/removing colums or set the format of tokenizers output to torch tensors\n",
    "\n",
    "All these are taken care automatically by the `Trainer` by analysing the model signature"
   ]
  },
  {
   "cell_type": "markdown",
   "metadata": {},
   "source": [
    "<img src=\"images/processing-steps-for-glue-mrpc-dataset.png\" style=\"width:850px;\" title=\"Easy preprocessing steps for GLUE MRPC dataset\">"
   ]
  },
  {
   "cell_type": "markdown",
   "metadata": {},
   "source": [
    "<img src=\"images/model-and-training-args-before-creating-trainer.png\" style=\"width:850px;\" title=\"model-and-training-args-before-creating-trainer\">"
   ]
  },
  {
   "cell_type": "markdown",
   "metadata": {},
   "source": [
    "The only downside on the `Trainer` below is we do not pass `compute_metrics` function. So, it will only output `loss` metric by default. However, accuracy and f1-score wil be the most useful ones for us."
   ]
  },
  {
   "cell_type": "markdown",
   "metadata": {},
   "source": [
    "<img src=\"images/pass-everything-to-trainer-class-and-start-training.png\" style=\"width:750px;\" title=\"pass-everything-to-trainer-class-and-start-training\">"
   ]
  },
  {
   "cell_type": "markdown",
   "metadata": {},
   "source": [
    "🤗 Transformers provides a Trainer class to help you fine-tune any of the pretrained models it provides on your dataset. Once you’ve done all the data preprocessing work in the last section, you have just a few steps left to define the `Trainer`. The hardest part is likely to be preparing the environment to run `Trainer.train()`, as it <span style=\"color:red\">will run very slowly on a CPU</span>. If you don’t have a GPU set up, you can get access to free GPUs or TPUs on Google Colab. \n",
    "- <span style=\"color:red\">Note: When ran on Google colab free version, the `trainer.train()` took close to 3 hrs</span>, whereas it took only ~15 mins with Mac M1 Pro chip\n",
    "\n",
    "The code examples below assume you have already executed the examples in the previous section. Here is a short summary recapping what you need:"
   ]
  },
  {
   "cell_type": "code",
   "execution_count": 2,
   "metadata": {
    "ExecuteTime": {
     "end_time": "2023-07-15T03:43:20.237333Z",
     "start_time": "2023-07-15T03:43:17.123224Z"
    },
    "id": "PF-chkKrr0Xs"
   },
   "outputs": [
    {
     "name": "stderr",
     "output_type": "stream",
     "text": [
      "Found cached dataset glue (/Users/prasanth.thangavel/.cache/huggingface/datasets/glue/mrpc/1.0.0/dacbe3125aa31d7f70367a07a8a9e72a5a0bfeb5fc42e75c9db75b96da6053ad)\n"
     ]
    },
    {
     "data": {
      "application/vnd.jupyter.widget-view+json": {
       "model_id": "451f1a14728a4033b6bc1c505847d954",
       "version_major": 2,
       "version_minor": 0
      },
      "text/plain": [
       "  0%|          | 0/3 [00:00<?, ?it/s]"
      ]
     },
     "metadata": {},
     "output_type": "display_data"
    },
    {
     "name": "stderr",
     "output_type": "stream",
     "text": [
      "Loading cached processed dataset at /Users/prasanth.thangavel/.cache/huggingface/datasets/glue/mrpc/1.0.0/dacbe3125aa31d7f70367a07a8a9e72a5a0bfeb5fc42e75c9db75b96da6053ad/cache-bb21e6423b980722.arrow\n",
      "Loading cached processed dataset at /Users/prasanth.thangavel/.cache/huggingface/datasets/glue/mrpc/1.0.0/dacbe3125aa31d7f70367a07a8a9e72a5a0bfeb5fc42e75c9db75b96da6053ad/cache-d1e8c90b5d349f7a.arrow\n",
      "Loading cached processed dataset at /Users/prasanth.thangavel/.cache/huggingface/datasets/glue/mrpc/1.0.0/dacbe3125aa31d7f70367a07a8a9e72a5a0bfeb5fc42e75c9db75b96da6053ad/cache-33304e37c309912f.arrow\n"
     ]
    }
   ],
   "source": [
    "from datasets import load_dataset\n",
    "from transformers import AutoTokenizer, DataCollatorWithPadding\n",
    "\n",
    "raw_datasets = load_dataset(\"glue\", \"mrpc\")\n",
    "checkpoint = \"bert-base-uncased\"\n",
    "tokenizer = AutoTokenizer.from_pretrained(checkpoint)\n",
    "\n",
    "def tokenize_function(example):\n",
    "    return tokenizer(example[\"sentence1\"], example[\"sentence2\"], truncation=True)\n",
    "\n",
    "tokenized_datasets = raw_datasets.map(tokenize_function, batched=True)\n",
    "data_collator = DataCollatorWithPadding(tokenizer=tokenizer)"
   ]
  },
  {
   "cell_type": "markdown",
   "metadata": {},
   "source": [
    "## Training"
   ]
  },
  {
   "cell_type": "markdown",
   "metadata": {},
   "source": [
    "The first step before we can define our `Trainer` is to define a `TrainingArguments` class that will contain all the hyperparameters the `Trainer` will use for training and evaluation. The only argument you have to provide is a directory where the trained model will be saved, as well as the checkpoints along the way. For all the rest, you can leave the defaults, which should work pretty well for a basic fine-tuning."
   ]
  },
  {
   "cell_type": "code",
   "execution_count": 8,
   "metadata": {
    "ExecuteTime": {
     "end_time": "2023-07-15T03:50:01.628999Z",
     "start_time": "2023-07-15T03:50:01.615598Z"
    },
    "id": "GfzCbHy2r0Xs",
    "scrolled": true
   },
   "outputs": [],
   "source": [
    "from transformers import TrainingArguments\n",
    "\n",
    "training_args = TrainingArguments(output_dir=\"test-trainer\")"
   ]
  },
  {
   "cell_type": "markdown",
   "metadata": {},
   "source": [
    "> 💡 If you want to automatically upload your model to the Hub during training, pass along `push_to_hub=True` in the `TrainingArguments`. We will learn more about this in Chapter 4"
   ]
  },
  {
   "cell_type": "markdown",
   "metadata": {},
   "source": [
    "The second step is to define our model. As in the previous chapter, we will use the `AutoModelForSequenceClassification` class, with two labels:"
   ]
  },
  {
   "cell_type": "code",
   "execution_count": 10,
   "metadata": {
    "ExecuteTime": {
     "end_time": "2023-07-15T03:50:09.575692Z",
     "start_time": "2023-07-15T03:50:08.658396Z"
    },
    "id": "8hh5Ut9dr0Xs"
   },
   "outputs": [
    {
     "name": "stderr",
     "output_type": "stream",
     "text": [
      "Some weights of the model checkpoint at bert-base-uncased were not used when initializing BertForSequenceClassification: ['cls.predictions.bias', 'cls.seq_relationship.weight', 'cls.seq_relationship.bias', 'cls.predictions.transform.LayerNorm.weight', 'cls.predictions.transform.dense.bias', 'cls.predictions.transform.LayerNorm.bias', 'cls.predictions.transform.dense.weight']\n",
      "- This IS expected if you are initializing BertForSequenceClassification from the checkpoint of a model trained on another task or with another architecture (e.g. initializing a BertForSequenceClassification model from a BertForPreTraining model).\n",
      "- This IS NOT expected if you are initializing BertForSequenceClassification from the checkpoint of a model that you expect to be exactly identical (initializing a BertForSequenceClassification model from a BertForSequenceClassification model).\n",
      "Some weights of BertForSequenceClassification were not initialized from the model checkpoint at bert-base-uncased and are newly initialized: ['classifier.weight', 'classifier.bias']\n",
      "You should probably TRAIN this model on a down-stream task to be able to use it for predictions and inference.\n"
     ]
    }
   ],
   "source": [
    "from transformers import AutoModelForSequenceClassification\n",
    "\n",
    "model = AutoModelForSequenceClassification.from_pretrained(checkpoint, num_labels=2)"
   ]
  },
  {
   "cell_type": "markdown",
   "metadata": {},
   "source": [
    "<span style=\"background-color:#FFFFCC\">\n",
    "    <span style=\"color:blue\">You will notice that unlike in Chapter 2, you get a warning after instantiating this pretrained model</span>. <span style=\"color:red\">This is because BERT has not been pretrained on classifying pairs of sentences, so the head of the pretrained model has been discarded and a new head suitable for sequence classification has been added instead</span>. <span style=\"color:blue\">The warnings indicate that some weights were not used (the ones corresponding to the dropped pretraining head) and that some others were randomly initialized (the ones for the new head). It concludes by encouraging you to train the model, which is exactly what we are going to do now.</span>\n",
    "</span>\n",
    "\n",
    "Once we have our model, we can define a `Trainer` by passing it all the objects constructed up to now — the model, the `training_args`, the training and validation datasets, our `data_collator`, and our `tokenizer`:"
   ]
  },
  {
   "cell_type": "code",
   "execution_count": 11,
   "metadata": {
    "ExecuteTime": {
     "end_time": "2023-07-15T03:50:10.849911Z",
     "start_time": "2023-07-15T03:50:10.829702Z"
    },
    "id": "_nfpQA1qr0Xs"
   },
   "outputs": [],
   "source": [
    "from transformers import Trainer\n",
    "\n",
    "trainer = Trainer(\n",
    "    model,\n",
    "    training_args,\n",
    "    train_dataset=tokenized_datasets[\"train\"],\n",
    "    eval_dataset=tokenized_datasets[\"validation\"],\n",
    "    data_collator=data_collator,\n",
    "    tokenizer=tokenizer,\n",
    ")"
   ]
  },
  {
   "cell_type": "markdown",
   "metadata": {},
   "source": [
    "Though the train and validation datasets are already tokenized, `tokenizer=tokenizer` parameter is still passed to the Trainer for the following reasons:\n",
    "1. Decoding and post-processing\n",
    "2. Consistency and flexibility"
   ]
  },
  {
   "cell_type": "markdown",
   "metadata": {},
   "source": [
    "Note that, also when you pass the tokenizer as we did here, the default `data_collator` used by the `Trainer` will be a `DataCollatorWithPadding` as defined previously, so you can skip the line `data_collator=data_collator` in this call. It was still important to show you this part of the processing in section 2!\n",
    "\n",
    "To fine-tune the model on our dataset, we just have to call the `train()` method of our `Trainer`:"
   ]
  },
  {
   "cell_type": "code",
   "execution_count": 12,
   "metadata": {
    "ExecuteTime": {
     "end_time": "2023-07-15T04:06:05.476345Z",
     "start_time": "2023-07-15T03:50:11.277291Z"
    },
    "id": "qdLWciegr0Xs"
   },
   "outputs": [
    {
     "data": {
      "text/html": [
       "\n",
       "    <div>\n",
       "      \n",
       "      <progress value='1377' max='1377' style='width:300px; height:20px; vertical-align: middle;'></progress>\n",
       "      [1377/1377 15:53, Epoch 3/3]\n",
       "    </div>\n",
       "    <table border=\"1\" class=\"dataframe\">\n",
       "  <thead>\n",
       " <tr style=\"text-align: left;\">\n",
       "      <th>Step</th>\n",
       "      <th>Training Loss</th>\n",
       "    </tr>\n",
       "  </thead>\n",
       "  <tbody>\n",
       "    <tr>\n",
       "      <td>500</td>\n",
       "      <td>0.531100</td>\n",
       "    </tr>\n",
       "    <tr>\n",
       "      <td>1000</td>\n",
       "      <td>0.298800</td>\n",
       "    </tr>\n",
       "  </tbody>\n",
       "</table><p>"
      ],
      "text/plain": [
       "<IPython.core.display.HTML object>"
      ]
     },
     "metadata": {},
     "output_type": "display_data"
    },
    {
     "data": {
      "text/plain": [
       "TrainOutput(global_step=1377, training_loss=0.3403487472146338, metrics={'train_runtime': 954.1732, 'train_samples_per_second': 11.532, 'train_steps_per_second': 1.443, 'total_flos': 406183858377360.0, 'train_loss': 0.3403487472146338, 'epoch': 3.0})"
      ]
     },
     "execution_count": 12,
     "metadata": {},
     "output_type": "execute_result"
    }
   ],
   "source": [
    "# Takes ~16 mins with Apple M1 Pro 16 GB RAM\n",
    "trainer.train()"
   ]
  },
  {
   "cell_type": "markdown",
   "metadata": {},
   "source": [
    "<span style=\"color:blue\">This will start the fine-tuning (which should take a couple of minutes on a GPU) and report the training loss every 500 steps</span>. <span style=\"color:red\">It won’t, however, tell you how well (or badly) your model is performing, because </span>:\n",
    "\n",
    "1. <span style=\"color:red\">didn’t tell the `Trainer` to evaluate during training</span> by setting `evaluation_strategy` to either `\"steps\"` (evaluate every eval_steps) or `\"epoch\"` (evaluate at the end of each epoch).\n",
    "2. <span style=\"color:red\">We didn’t provide the `Trainer` with a `compute_metrics()` function to calculate a metric during said evaluation</span> (otherwise the evaluation would just have printed the (training and validation) loss, which is not a very intuitive number)."
   ]
  },
  {
   "cell_type": "markdown",
   "metadata": {},
   "source": [
    "## Evaluation"
   ]
  },
  {
   "cell_type": "markdown",
   "metadata": {},
   "source": [
    "Let’s see how we can build a useful `compute_metrics()` function and use it the next time we train. The function must take an `EvalPrediction` object (which is a named tuple with a `predictions` field and a `label_ids` field) and will return a dictionary mapping strings to floats (the strings being the names of the metrics returned, and the floats their values). To get some predictions from our model, we can use the `Trainer.predict()` command:"
   ]
  },
  {
   "cell_type": "code",
   "execution_count": 13,
   "metadata": {
    "ExecuteTime": {
     "end_time": "2023-07-15T04:06:27.187638Z",
     "start_time": "2023-07-15T04:06:18.237816Z"
    },
    "id": "lP8-4q-5r0Xs",
    "outputId": "067b7627-d622-42a3-a098-2d0a80f5dc3d"
   },
   "outputs": [
    {
     "data": {
      "text/html": [],
      "text/plain": [
       "<IPython.core.display.HTML object>"
      ]
     },
     "metadata": {},
     "output_type": "display_data"
    },
    {
     "name": "stdout",
     "output_type": "stream",
     "text": [
      "(408, 2) (408,)\n"
     ]
    }
   ],
   "source": [
    "predictions = trainer.predict(tokenized_datasets[\"validation\"])\n",
    "print(predictions.predictions.shape, predictions.label_ids.shape)"
   ]
  },
  {
   "cell_type": "code",
   "execution_count": 41,
   "metadata": {
    "ExecuteTime": {
     "end_time": "2023-07-15T07:55:55.765732Z",
     "start_time": "2023-07-15T07:55:55.751177Z"
    }
   },
   "outputs": [
    {
     "data": {
      "text/plain": [
       "{'test_loss': 0.7443095445632935,\n",
       " 'test_runtime': 8.931,\n",
       " 'test_samples_per_second': 45.684,\n",
       " 'test_steps_per_second': 5.71}"
      ]
     },
     "execution_count": 41,
     "metadata": {},
     "output_type": "execute_result"
    }
   ],
   "source": [
    "predictions.metrics"
   ]
  },
  {
   "cell_type": "markdown",
   "metadata": {},
   "source": [
    "<span style=\"color:blue\">The output of the `predict()` method is another named tuple with three fields: `predictions`, `label_ids`, and `metrics`</span>. The metrics field will just contain the loss on the dataset passed, as well as some time metrics (how long it took to predict, in total and on average). Once we complete our `compute_metrics()` function and pass it to the `Trainer`, that field will also contain the metrics returned by `compute_metrics()`.\n",
    "\n",
    "As you can see, `predictions` is a two-dimensional array with shape 408 x 2 (408 being the number of elements in the dataset we used). Those are the logits for each element of the dataset we passed to `predict()` (as you saw in the previous chapter, all Transformer models return logits). To transform them into predictions that we can compare to our labels, we need to take the index with the maximum value on the second axis:"
   ]
  },
  {
   "cell_type": "code",
   "execution_count": 51,
   "metadata": {
    "ExecuteTime": {
     "end_time": "2023-07-15T07:58:14.846701Z",
     "start_time": "2023-07-15T07:58:14.842169Z"
    },
    "id": "SvMZDeZkr0Xt"
   },
   "outputs": [],
   "source": [
    "preds = np.argmax(predictions.predictions, axis=-1)"
   ]
  },
  {
   "cell_type": "code",
   "execution_count": 53,
   "metadata": {
    "ExecuteTime": {
     "end_time": "2023-07-15T07:58:18.582832Z",
     "start_time": "2023-07-15T07:58:18.571785Z"
    }
   },
   "outputs": [
    {
     "name": "stdout",
     "output_type": "stream",
     "text": [
      "Accuracy:\n",
      "0.8431372549019608\n",
      "0.8431372549019608\n"
     ]
    }
   ],
   "source": [
    "# Here, predictions.label_ids is same as the validation dataset original label\n",
    "print ('Accuracy:')\n",
    "print (np.mean(np.array(tokenized_datasets['validation']['label']) == preds))\n",
    "print (np.mean(predictions.label_ids == preds))"
   ]
  },
  {
   "cell_type": "markdown",
   "metadata": {},
   "source": [
    "We can now also compare those preds to the labels using library functions. To build our `compute_metric()` function, we will rely on the metrics from the 🤗 [Evaluate](https://github.com/huggingface/evaluate/) library. We can load the metrics associated with the MRPC dataset as easily as we loaded the dataset, this time with the `evaluate.load()` function. The object returned has a `compute()` method we can use to do the metric calculation:"
   ]
  },
  {
   "cell_type": "code",
   "execution_count": 10,
   "metadata": {
    "ExecuteTime": {
     "end_time": "2023-07-05T01:54:30.899254Z",
     "start_time": "2023-07-05T01:54:30.895063Z"
    }
   },
   "outputs": [],
   "source": [
    "# !pip install evaluate"
   ]
  },
  {
   "cell_type": "code",
   "execution_count": 54,
   "metadata": {
    "ExecuteTime": {
     "end_time": "2023-07-15T07:59:46.332260Z",
     "start_time": "2023-07-15T07:59:44.641462Z"
    },
    "id": "zBUSZmGar0Xt",
    "outputId": "32c4cf37-93d4-4dcc-eb17-9d9900e31157"
   },
   "outputs": [
    {
     "data": {
      "text/plain": [
       "{'accuracy': 0.8431372549019608, 'f1': 0.8915254237288135}"
      ]
     },
     "execution_count": 54,
     "metadata": {},
     "output_type": "execute_result"
    }
   ],
   "source": [
    "import evaluate\n",
    "\n",
    "metric = evaluate.load(\"glue\", \"mrpc\")\n",
    "metric.compute(predictions=preds, references=predictions.label_ids)"
   ]
  },
  {
   "cell_type": "markdown",
   "metadata": {},
   "source": [
    "The exact results you get may vary, as the random initialization of the model head might change the metrics it achieved. Here, <span style=\"color:blue\">we can see our model has an accuracy of ~85.78% on the validation set and an F1 score of ~89.97. Those are the two metrics used to evaluate results on the MRPC dataset for the GLUE benchmark</span>. The table in the [BERT paper](https://arxiv.org/pdf/1810.04805.pdf) reported an F1 score of 88.9 for the base model. That was the uncased model while we are currently using the cased model, which explains the better result.\n",
    "\n",
    "Wrapping everything together, we get `our compute_metrics()` function:"
   ]
  },
  {
   "cell_type": "code",
   "execution_count": 16,
   "metadata": {
    "ExecuteTime": {
     "end_time": "2023-07-15T04:06:37.334977Z",
     "start_time": "2023-07-15T04:06:37.324931Z"
    },
    "id": "jvicmR2vr0Xt"
   },
   "outputs": [],
   "source": [
    "def compute_metrics(eval_preds):\n",
    "    metric = evaluate.load(\"glue\", \"mrpc\")\n",
    "    logits, labels = eval_preds\n",
    "    predictions = np.argmax(logits, axis=-1)\n",
    "    return metric.compute(predictions=predictions, references=labels)"
   ]
  },
  {
   "cell_type": "markdown",
   "metadata": {},
   "source": [
    "And to see it used in action to report metrics at the end of each epoch, here is how we define a new `Trainer` with this `compute_metrics()` function:\n",
    "\n"
   ]
  },
  {
   "cell_type": "code",
   "execution_count": 17,
   "metadata": {
    "ExecuteTime": {
     "end_time": "2023-07-15T04:06:43.044293Z",
     "start_time": "2023-07-15T04:06:41.398281Z"
    },
    "id": "gr5qSvq0r0Xt"
   },
   "outputs": [
    {
     "name": "stderr",
     "output_type": "stream",
     "text": [
      "Some weights of the model checkpoint at bert-base-uncased were not used when initializing BertForSequenceClassification: ['cls.predictions.bias', 'cls.seq_relationship.weight', 'cls.seq_relationship.bias', 'cls.predictions.transform.LayerNorm.weight', 'cls.predictions.transform.dense.bias', 'cls.predictions.transform.LayerNorm.bias', 'cls.predictions.transform.dense.weight']\n",
      "- This IS expected if you are initializing BertForSequenceClassification from the checkpoint of a model trained on another task or with another architecture (e.g. initializing a BertForSequenceClassification model from a BertForPreTraining model).\n",
      "- This IS NOT expected if you are initializing BertForSequenceClassification from the checkpoint of a model that you expect to be exactly identical (initializing a BertForSequenceClassification model from a BertForSequenceClassification model).\n",
      "Some weights of BertForSequenceClassification were not initialized from the model checkpoint at bert-base-uncased and are newly initialized: ['classifier.weight', 'classifier.bias']\n",
      "You should probably TRAIN this model on a down-stream task to be able to use it for predictions and inference.\n"
     ]
    }
   ],
   "source": [
    "training_args = TrainingArguments(\n",
    "    \"test-trainer\", \n",
    "    evaluation_strategy=\"epoch\" # Tells Trainer to evaluate model performance at end of every epoch\n",
    ")\n",
    "model = AutoModelForSequenceClassification.from_pretrained(checkpoint, num_labels=2)\n",
    "\n",
    "trainer = Trainer(\n",
    "    model,\n",
    "    training_args,\n",
    "    train_dataset=tokenized_datasets[\"train\"],\n",
    "    eval_dataset=tokenized_datasets[\"validation\"], \n",
    "    data_collator=data_collator, \n",
    "    tokenizer=tokenizer,\n",
    "    compute_metrics=compute_metrics, # Computes and returns metrics (accuracy and f1-score)\n",
    ")"
   ]
  },
  {
   "cell_type": "markdown",
   "metadata": {},
   "source": [
    "Note that we create a new `TrainingArguments` with its `evaluation_strategy` set to `\"epoch\"` and a new model — otherwise, we would just be continuing the training of the model we have already trained. To launch a new training run, we execute:"
   ]
  },
  {
   "cell_type": "code",
   "execution_count": 18,
   "metadata": {
    "ExecuteTime": {
     "end_time": "2023-07-15T04:23:02.867729Z",
     "start_time": "2023-07-15T04:06:43.045886Z"
    },
    "id": "FFQP9w-vr0Xt"
   },
   "outputs": [
    {
     "name": "stderr",
     "output_type": "stream",
     "text": [
      "/Users/prasanth.thangavel/.pyenv/versions/3.10.5/envs/fastai_related/lib/python3.10/site-packages/transformers/optimization.py:407: FutureWarning: This implementation of AdamW is deprecated and will be removed in a future version. Use the PyTorch implementation torch.optim.AdamW instead, or set `no_deprecation_warning=True` to disable this warning\n",
      "  warnings.warn(\n"
     ]
    },
    {
     "data": {
      "text/html": [
       "\n",
       "    <div>\n",
       "      \n",
       "      <progress value='1377' max='1377' style='width:300px; height:20px; vertical-align: middle;'></progress>\n",
       "      [1377/1377 16:18, Epoch 3/3]\n",
       "    </div>\n",
       "    <table border=\"1\" class=\"dataframe\">\n",
       "  <thead>\n",
       " <tr style=\"text-align: left;\">\n",
       "      <th>Epoch</th>\n",
       "      <th>Training Loss</th>\n",
       "      <th>Validation Loss</th>\n",
       "      <th>Accuracy</th>\n",
       "      <th>F1</th>\n",
       "    </tr>\n",
       "  </thead>\n",
       "  <tbody>\n",
       "    <tr>\n",
       "      <td>1</td>\n",
       "      <td>No log</td>\n",
       "      <td>0.398050</td>\n",
       "      <td>0.823529</td>\n",
       "      <td>0.870968</td>\n",
       "    </tr>\n",
       "    <tr>\n",
       "      <td>2</td>\n",
       "      <td>0.499200</td>\n",
       "      <td>0.709245</td>\n",
       "      <td>0.835784</td>\n",
       "      <td>0.891410</td>\n",
       "    </tr>\n",
       "    <tr>\n",
       "      <td>3</td>\n",
       "      <td>0.271200</td>\n",
       "      <td>0.696411</td>\n",
       "      <td>0.862745</td>\n",
       "      <td>0.903780</td>\n",
       "    </tr>\n",
       "  </tbody>\n",
       "</table><p>"
      ],
      "text/plain": [
       "<IPython.core.display.HTML object>"
      ]
     },
     "metadata": {},
     "output_type": "display_data"
    },
    {
     "data": {
      "text/plain": [
       "TrainOutput(global_step=1377, training_loss=0.31093509870763264, metrics={'train_runtime': 979.8104, 'train_samples_per_second': 11.231, 'train_steps_per_second': 1.405, 'total_flos': 406183858377360.0, 'train_loss': 0.31093509870763264, 'epoch': 3.0})"
      ]
     },
     "execution_count": 18,
     "metadata": {},
     "output_type": "execute_result"
    }
   ],
   "source": [
    "# Takes ~16 mins with Apple M1 Pro 16 GB RAM\n",
    "trainer.train()"
   ]
  },
  {
   "cell_type": "markdown",
   "metadata": {},
   "source": [
    "This time, it will report the validation loss and metrics at the end of each epoch on top of the training loss. Again, the exact accuracy/F1 score you reach might be a bit different from what we found, because of the random head initialization of the model, but it should be in the same ballpark.\n",
    "\n",
    "The `Trainer` will work out of the box on multiple GPUs or TPUs and provides lots of options, like mixed-precision training (use `fp16 = True` in your training arguments). We will go over everything it supports in Chapter 10.\n",
    "\n",
    "This concludes the introduction to fine-tuning using the `Trainer API`. An example of doing this for most common NLP tasks will be given in Chapter 7, but for now let’s look at how to do the same thing in pure PyTorch."
   ]
  },
  {
   "cell_type": "markdown",
   "metadata": {},
   "source": [
    "> ✏️ Try it out! Fine-tune a model on the GLUE SST-2 dataset, using the data processing you did in section 2."
   ]
  }
 ],
 "metadata": {
  "colab": {
   "name": "Fine-tuning a model with the Trainer API or Keras",
   "provenance": []
  },
  "kernelspec": {
   "display_name": "fastai_related",
   "language": "python",
   "name": "fastai_related"
  },
  "language_info": {
   "codemirror_mode": {
    "name": "ipython",
    "version": 3
   },
   "file_extension": ".py",
   "mimetype": "text/x-python",
   "name": "python",
   "nbconvert_exporter": "python",
   "pygments_lexer": "ipython3",
   "version": "3.10.5"
  },
  "toc": {
   "base_numbering": 1,
   "nav_menu": {},
   "number_sections": true,
   "sideBar": true,
   "skip_h1_title": false,
   "title_cell": "Table of Contents",
   "title_sidebar": "Contents",
   "toc_cell": false,
   "toc_position": {
    "height": "calc(100% - 180px)",
    "left": "10px",
    "top": "150px",
    "width": "384px"
   },
   "toc_section_display": true,
   "toc_window_display": true
  }
 },
 "nbformat": 4,
 "nbformat_minor": 1
}
