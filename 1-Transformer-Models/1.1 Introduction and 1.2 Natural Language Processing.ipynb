{
 "cells": [
  {
   "cell_type": "markdown",
   "id": "3c0a95cb",
   "metadata": {},
   "source": [
    "# Introduction"
   ]
  },
  {
   "cell_type": "markdown",
   "id": "7047174f",
   "metadata": {},
   "source": [
    "Source https://huggingface.co/learn/nlp-course/chapter1/1?fw=pt\n",
    "\n",
    "This course will teach you about natural language processing (NLP) using libraries from the Hugging Face ecosyste:— \n",
    "- 🤗 Transformers, \n",
    "- 🤗 Datasets, \n",
    "- 🤗 Tokenizers, and \n",
    "- 🤗 Accelerate — as well as the \n",
    "- Hugging Face Hub."
   ]
  },
  {
   "cell_type": "markdown",
   "id": "08a396b8",
   "metadata": {},
   "source": [
    "## What to expect?"
   ]
  },
  {
   "cell_type": "markdown",
   "id": "d27fda23",
   "metadata": {},
   "source": [
    "**Course is divided into 3 parts**\n",
    "\n",
    "1. Introduction\n",
    "2. Diving in\n",
    "3. Advanced"
   ]
  },
  {
   "cell_type": "markdown",
   "id": "98639011",
   "metadata": {},
   "source": [
    "\n",
    "<img src=\"images/what to exepct.svg\" style=\"width:800px;\" title=\"brief overview of the course\">"
   ]
  },
  {
   "cell_type": "markdown",
   "id": "970077e2",
   "metadata": {},
   "source": [
    "- <b>Chapters 1 to 4</b> provide an introduction to the main concepts of the 🤗 Transformers library. By the end of this part of the course, you will be familiar with how Transformer models work and will know how to use a model from the Hugging Face Hub, fine-tune it on a dataset, and share your results on the Hub!\n",
    "- <b>Chapters 5 to 8</b> teach the basics of 🤗 Datasets and 🤗 Tokenizers before diving into classic NLP tasks. By the end of this part, you will be able to tackle the most common NLP problems by yourself.\n",
    "- <b>Chapters 9 to 12</b> go beyond NLP, and explore how Transformer models can be used to tackle tasks in speech processing and computer vision. Along the way, you’ll learn how to build and share demos of your models, and optimize them for production environments. By the end of this part, you will be ready to apply 🤗 Transformers to (almost) any machine learning problem!"
   ]
  },
  {
   "cell_type": "markdown",
   "id": "c7187115",
   "metadata": {},
   "source": [
    "This course:\n",
    "\n",
    "- Requires a good knowledge of Python\n",
    "- Is better taken after an introductory deep learning course, such as <b>fast.ai’s Practical Deep Learning for Coders</b> or one of the programs developed by <b>DeepLearning.AI</b>\n",
    "- Does not expect prior <b>PyTorch or TensorFlow</b> knowledge, though some familiarity with either of those will help\n",
    "\n",
    "After you’ve completed this course, we recommend checking out <b>DeepLearning.AI’s [Natural Language Processing Specialization](https://www.deeplearning.ai/courses/natural-language-processing-specialization/)</b>, which covers a wide range of traditional NLP models like naive Bayes and LSTMs that are well worth knowing about!"
   ]
  },
  {
   "cell_type": "markdown",
   "id": "8e18a86f",
   "metadata": {},
   "source": [
    "## Let's go"
   ]
  },
  {
   "cell_type": "markdown",
   "id": "0bd71584",
   "metadata": {},
   "source": [
    "In this chapter, you will learn:\n",
    "- How to use the `pipeline()` function to solve NLP tasks such as text generation and classification\n",
    "- About the Transformer architecture\n",
    "- How to distinguish between encoder, decoder, and encoder-decoder architectures and use cases"
   ]
  },
  {
   "cell_type": "markdown",
   "id": "8a753156",
   "metadata": {},
   "source": [
    "# Natural Language Processing"
   ]
  },
  {
   "cell_type": "markdown",
   "id": "2ad293ea",
   "metadata": {},
   "source": [
    "## What is NLP?"
   ]
  },
  {
   "cell_type": "markdown",
   "id": "d0bf4edf",
   "metadata": {},
   "source": [
    "LP is a field of linguistics and machine learning focused on understanding everything related to human language. The aim of NLP tasks is <b>not only to understand single words individually, but to be able to understand the context of those words</b>.\n",
    "\n"
   ]
  },
  {
   "cell_type": "markdown",
   "id": "11196ae0",
   "metadata": {},
   "source": [
    "NLP isn’t limited to written text though. It also tackles complex challenges in speech recognition and computer vision, such as generating a transcript of an audio sample or a description of an image.\n",
    "\n"
   ]
  }
 ],
 "metadata": {
  "kernelspec": {
   "display_name": "fastai_related",
   "language": "python",
   "name": "fastai_related"
  },
  "language_info": {
   "codemirror_mode": {
    "name": "ipython",
    "version": 3
   },
   "file_extension": ".py",
   "mimetype": "text/x-python",
   "name": "python",
   "nbconvert_exporter": "python",
   "pygments_lexer": "ipython3",
   "version": "3.10.5"
  },
  "toc": {
   "base_numbering": 1,
   "nav_menu": {},
   "number_sections": true,
   "sideBar": true,
   "skip_h1_title": false,
   "title_cell": "Table of Contents",
   "title_sidebar": "Contents",
   "toc_cell": false,
   "toc_position": {
    "height": "796px",
    "left": "25px",
    "top": "111.125px",
    "width": "384px"
   },
   "toc_section_display": true,
   "toc_window_display": true
  }
 },
 "nbformat": 4,
 "nbformat_minor": 5
}
