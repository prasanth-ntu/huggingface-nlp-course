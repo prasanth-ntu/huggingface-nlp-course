{
 "cells": [
  {
   "cell_type": "markdown",
   "id": "cb089661",
   "metadata": {},
   "source": [
    "Source: https://huggingface.co/learn/nlp-course/chapter1/4?fw=pt"
   ]
  },
  {
   "cell_type": "markdown",
   "id": "59bfbc1f",
   "metadata": {},
   "source": [
    "In this section, we will take a <span style=\"color:blue\"><b>high-level look at the architecture of Transformer models.</b></span>"
   ]
  },
  {
   "cell_type": "markdown",
   "id": "ca5d4e24",
   "metadata": {},
   "source": [
    "# How do Transformers work?"
   ]
  },
  {
   "cell_type": "markdown",
   "id": "29188707",
   "metadata": {},
   "source": [
    "## A bit of Transformer history"
   ]
  },
  {
   "cell_type": "markdown",
   "id": "25577754",
   "metadata": {},
   "source": [
    "Here are some reference points in the (short) history of Transformer models:\n",
    "\n",
    "<img src=\"https://huggingface.co/datasets/huggingface-course/documentation-images/resolve/main/en/chapter1/transformers_chrono.svg\" style=\"width:800px;\" title=\"transformer chronology\">"
   ]
  },
  {
   "cell_type": "markdown",
   "id": "a4a155ad",
   "metadata": {
    "ExecuteTime": {
     "end_time": "2023-07-03T12:37:48.382726Z",
     "start_time": "2023-07-03T12:37:48.236751Z"
    }
   },
   "source": [
    "The Transformer architecture was introduced in June 2017. The focus of the original research was on translation tasks. This was followed by the introduction of several influential models, including:\n",
    "\n",
    "- <b>June 2018</b>: GPT, the first pretrained Transformer model, used for fine-tuning on various NLP tasks and obtained state-of-the-art results\n",
    "\n",
    "- <b>October 2018</b>: BERT, another large pretrained model, this one designed to produce better summaries of sentences (more on this in the next chapter!)\n",
    "\n",
    "- <b>February 2019</b>: GPT-2, an improved (and bigger) version of GPT that was not immediately publicly released due to ethical concerns\n",
    "\n",
    "- <b>October 2019</b>: DistilBERT, a distilled version of BERT that is 60% faster, 40% lighter in memory, and still retains 97% of BERT’s performance\n",
    "\n",
    "- <b>October 2019</b>: BART and T5, two large pretrained models using the same architecture as the original Transformer model (the first to do so)\n",
    "\n",
    "- <b>May 2020</b>, GPT-3, an even bigger version of GPT-2 that is able to perform well on a variety of tasks without the need for fine-tuning (called zero-shot learning)"
   ]
  },
  {
   "cell_type": "markdown",
   "id": "88d2d22a",
   "metadata": {},
   "source": [
    "This list is far from comprehensive, and is just meant to highlight a few of the different kinds of Transformer models. Broadly, <span style=\"color:blue\"><b>transformer models can be grouped into three categories</b></span>:\n",
    "\n",
    "- GPT-like (also called <span style=\"color:blue\"><i>auto-regressive</i></span> Transformer models)\n",
    "- BERT-like (also called <span style=\"color:blue\"><i>auto-encoding</i></span> Transformer models)\n",
    "- BART/T5-like (also called <span style=\"color:blue\"><i>sequence-to-sequence</i></span> Transformer models)\n",
    "\n",
    "We will dive into these families in more depth later on."
   ]
  },
  {
   "cell_type": "markdown",
   "id": "f803ea76",
   "metadata": {},
   "source": [
    "## Transformers are language models"
   ]
  },
  {
   "cell_type": "markdown",
   "id": "185f35f3",
   "metadata": {
    "ExecuteTime": {
     "end_time": "2023-07-03T12:43:01.601242Z",
     "start_time": "2023-07-03T12:43:01.588128Z"
    }
   },
   "source": [
    "<span style=\"color:blue\">All the Transformer models mentioned above (GPT, BERT, BART, T5, etc.) have been trained as language models. This means they have been trained on large amounts of raw text in a <b>self-supervised fashion</b>. Self-supervised learning is a type of training in which the objective is automatically computed from the inputs of the model. That means that humans are not needed to label the data!</span>\n",
    "\n",
    "<span style=\"color:blue\">This type of model develops a statistical understanding of the language it has been trained on</span>,<span style=\"color:red\"> but it’s not very useful for specific practical tasks</span>. <span style=\"color:blue\"><b>Because of this, the general pretrained model then goes through a process called <i>transfer learning</i></b>. During this process, the model is fine-tuned in a supervised way — that is, using human-annotated labels — on a given task.</span>"
   ]
  },
  {
   "attachments": {},
   "cell_type": "markdown",
   "id": "62ae7bec",
   "metadata": {},
   "source": [
    "<span style=\"color:blue\">An example of a task is predicting the next word in a sentence having read the <i>n</i> previous words. This is called <b><i>causal language modeling</i></b> because the output depends on the past and present inputs, but not the future ones.</span>\n",
    "\n",
    "<img src=\"https://huggingface.co/datasets/huggingface-course/documentation-images/resolve/main/en/chapter1/causal_modeling.svg\" style=\"width:800px;\" title=\"casual language modeling\">"
   ]
  },
  {
   "cell_type": "markdown",
   "id": "0c9cac2f",
   "metadata": {},
   "source": [
    "<span style=\"color:blue\">Another example is <b><i>masked language modeling</i></b>, in which the model predicts a masked word in the sentence.</span>\n",
    "\n",
    "<img src=\"https://huggingface.co/datasets/huggingface-course/documentation-images/resolve/main/en/chapter1/masked_modeling.svg\" style=\"width:800px;\" title=\"masked language modeling\">"
   ]
  },
  {
   "cell_type": "markdown",
   "id": "a444c22c",
   "metadata": {},
   "source": [
    "## Transformers are big models"
   ]
  },
  {
   "cell_type": "markdown",
   "id": "7ed8a906",
   "metadata": {},
   "source": [
    "Apart from a few outliers (like DistilBERT), <span style=\"color:blue\">the general strategy to achieve better performance is by increasing the models’ sizes as well as the amount of data they are pretrained on.</span>"
   ]
  },
  {
   "cell_type": "markdown",
   "id": "35b35651",
   "metadata": {},
   "source": [
    "<img src=\"https://huggingface.co/datasets/huggingface-course/documentation-images/resolve/main/en/chapter1/model_parameters.png\" style=\"width:1000px;\" title=\"model parameters\">"
   ]
  },
  {
   "cell_type": "markdown",
   "id": "8b91c42e",
   "metadata": {},
   "source": [
    "<span style=\"color:red\">Unfortunately, training a model, especially a large one, requires a large amount of data. This becomes very costly in terms of time and compute resources. It even translates to environmental impact</span>, as can be seen in the following graph.\n",
    "\n",
    "<img src=\"https://huggingface.co/datasets/huggingface-course/documentation-images/resolve/main/en/chapter1/carbon_footprint.svg\" style=\"width:1000px;\" title=\"carbon footprint\">"
   ]
  },
  {
   "cell_type": "markdown",
   "id": "4cb704fa",
   "metadata": {},
   "source": [
    "Imagine if each time a research team, a student organization, or a company wanted to train a model, it did so from scratch. This would lead to huge, unnecessary global costs!\n",
    "\n",
    "This is why sharing language models is paramount: sharing the trained weights and building on top of already trained weights reduces the overall compute cost and carbon footprint of the community.\n",
    "\n",
    "By the way, you can evaluate the carbon footprint of your models’ training through several tools. For example ML CO2 Impact or Code Carbon which is integrated in 🤗 Transformers. To learn more about this, you can read this [blog post](https://huggingface.co/blog/carbon-emissions-on-the-hub) which will show you how to generate an emissions.csv file with an estimate of the footprint of your training, as well as the [documentation](https://huggingface.co/docs/hub/model-cards-co2) of 🤗 Transformers addressing this topic."
   ]
  },
  {
   "cell_type": "markdown",
   "id": "00aaa1e3",
   "metadata": {},
   "source": [
    "## Transfer Learning"
   ]
  },
  {
   "cell_type": "markdown",
   "id": "7126976e",
   "metadata": {},
   "source": [
    "<i>Pretraining</i> is the act of training a model from scratch: the weights are randomly initialized, and the training starts without any prior knowledge."
   ]
  },
  {
   "cell_type": "markdown",
   "id": "14ce28ac",
   "metadata": {},
   "source": [
    "<img src=\"https://huggingface.co/datasets/huggingface-course/documentation-images/resolve/main/en/chapter1/pretraining.svg\" style=\"max-width:800px;\" title=\"pretraining\">\n",
    "\n",
    "---\n",
    "\n",
    "<img src=\"https://huggingface.co/datasets/huggingface-course/documentation-images/resolve/main/en/chapter1/finetuning.svg\" style=\"max-width:800px;\" title=\"finetuning-from-pretraining\">"
   ]
  },
  {
   "cell_type": "markdown",
   "id": "ff3847df",
   "metadata": {},
   "source": [
    "<span style=\"color:red\">This pretraining is usually done on very large amounts of data. Therefore, it requires a very large corpus of data, and training can take up to several weeks.</span>\n",
    "\n",
    "<span style=\"color:green\"><i>Fine-tuning</i>, on the other hand, is the training done <b>after</b> a model has been pretrained. To perform fine-tuning, you first acquire a pretrained language model, then perform additional training with a dataset specific to your task</span>. Wait — why not simply train directly for the final task? There are a couple of reasons:\n",
    "\n",
    "- The pretrained model was already trained on a dataset that has some similarities with the fine-tuning dataset. The fine-tuning process is thus able to take advantage of knowledge acquired by the initial model during pretraining (for instance, with NLP problems, the pretrained model will have some kind of statistical understanding of the language you are using for your task).\n",
    "- Since the pretrained model was already trained on lots of data, the fine-tuning requires way less data to get decent results.\n",
    "- For the same reason, the amount of time and resources needed to get good results are much lower.\n",
    "\n",
    "For example, one could leverage a pretrained model trained on the English language and then fine-tune it on an arXiv corpus, resulting in a science/research-based model. The fine-tuning will only require a limited amount of data: the knowledge the pretrained model has acquired is “transferred,” hence the term <i>transfer learning</i>."
   ]
  },
  {
   "cell_type": "markdown",
   "id": "92c7ee79",
   "metadata": {},
   "source": [
    "## General architecture"
   ]
  },
  {
   "cell_type": "markdown",
   "id": "88aa206d",
   "metadata": {},
   "source": [
    "In this section, we’ll go over the general architecture of the Transformer model. Don’t worry if you don’t understand some of the concepts; there are detailed sections later covering each of the components."
   ]
  },
  {
   "cell_type": "markdown",
   "id": "b83d46f1",
   "metadata": {},
   "source": [
    "## Introduction"
   ]
  },
  {
   "cell_type": "markdown",
   "id": "8085191f",
   "metadata": {},
   "source": [
    "The model is primarily composed of two blocks:\n",
    "\n",
    "- <b>Encoder (left)</b>: <span style=\"color:blue\">The encoder receives an input and builds a representation of it (its features). This means that the model is optimized to acquire understanding from the input.</span>\n",
    "- <b>Decoder (right)</b>: <span style=\"color:blue\">The decoder uses the encoder’s representation (features) along with other inputs to generate a target sequence. This means that the model is optimized for generating outputs.</span>"
   ]
  },
  {
   "cell_type": "markdown",
   "id": "bdea3125",
   "metadata": {},
   "source": [
    "<img src=\"https://huggingface.co/datasets/huggingface-course/documentation-images/resolve/main/en/chapter1/transformers_blocks.svg\" style=\"max-width:800px;\" title=\"transformer-blocks\">"
   ]
  },
  {
   "cell_type": "markdown",
   "id": "9c9032a6",
   "metadata": {},
   "source": [
    "Each of these parts can be used independently, depending on the task:\n",
    "\n",
    "- <b>Encoder-only models</b>: <span style=\"color:blue\">Good for tasks that require understanding of the input, such as <b><i>sentence classification</i></b> and <b><i>named entity recognition</i></b>.\n",
    "- <b>Decoder-only models</b>: <span style=\"color:blue\">Good for generative tasks such as <b><i>text generation</i></b>.\n",
    "- <b>Encoder-decoder models</b> or <b>sequence-to-sequence models</b>: <span style=\"color:blue\">Good for generative tasks that require an input, such as <b><i>translation</i></b> or <b><i>summarization</i></b></span>.\n",
    "    \n",
    "We will dive into those architectures independently in later sections."
   ]
  },
  {
   "cell_type": "markdown",
   "id": "08fb4316",
   "metadata": {},
   "source": [
    "## Attention layers"
   ]
  },
  {
   "cell_type": "markdown",
   "id": "cce77747",
   "metadata": {},
   "source": [
    "A key feature of <span style=\"color:blue\">Transformer models is that they are built with special layers called <i>attention layers</i></span>. In fact, the title of the paper introducing the Transformer architecture was [“Attention Is All You Need”!](https://arxiv.org/abs/1706.03762) We will explore the details of attention layers later in the course; for now, all you need to know is that <span style=\"color:blue\">this layer will tell the model to pay specific attention to certain words in the sentence you passed it (and more or less ignore the others) when dealing with the representation of each word</span>.\n",
    "\n",
    "To put this into context, consider the task of translating text from English to French. Given the input “You like this course”, a translation model will need to also attend to the adjacent word “You” to get the proper translation for the word “like”, because in French the verb “like” is conjugated differently depending on the subject. The rest of the sentence, however, is not useful for the translation of that word. In the same vein, when translating “this” the model will also need to pay attention to the word “course”, because “this” translates differently depending on whether the associated noun is masculine or feminine. Again, the other words in the sentence will not matter for the translation of “this”. <span style=\"color:blue\">With more complex sentences (and more complex grammar rules), the model would need to pay special attention to words that might appear farther away in the sentence to properly translate each word.</span>\n",
    "\n",
    "<span style=\"color:blue\">The same concept applies to any task associated with natural language: a word by itself has a meaning, but that meaning is deeply affected by the context, which can be any other word (or words) before or after the word being studied.</span>\n",
    "\n",
    "Now that you have an idea of what attention layers are all about, let’s take a closer look at the Transformer architecture."
   ]
  },
  {
   "cell_type": "markdown",
   "id": "7d42ce73",
   "metadata": {},
   "source": [
    "## The original architecture - <span style=\"color:red\">Still unclear</span>"
   ]
  },
  {
   "cell_type": "markdown",
   "id": "85f75043",
   "metadata": {},
   "source": [
    "The Transformer architecture was originally designed for translation. During training, the encoder receives inputs (sentences) in a certain language, while the decoder receives the same sentences in the desired target language. In the encoder, the attention layers can use all the words in a sentence (since, as we just saw, the translation of a given word can be dependent on what is after as well as before it in the sentence). The decoder, however, works sequentially and can only pay attention to the words in the sentence that it has already translated (so, only the words before the word currently being generated). For example, when we have predicted the first three words of the translated target, we give them to the decoder which then uses all the inputs of the encoder to try to predict the fourth word.\n",
    "\n",
    "To speed things up during training (when the model has access to target sentences), the decoder is fed the whole target, but it is not allowed to use future words (if it had access to the word at position 2 when trying to predict the word at position 2, the problem would not be very hard!). For instance, when trying to predict the fourth word, the attention layer will only have access to the words in positions 1 to 3.\n",
    "\n",
    "The original Transformer architecture looked like this, with the encoder on the left and the decoder on the right:"
   ]
  },
  {
   "cell_type": "markdown",
   "id": "d07c43cc",
   "metadata": {},
   "source": [
    "<img src=\"https://huggingface.co/datasets/huggingface-course/documentation-images/resolve/main/en/chapter1/transformers.svg\" style=\"max-width:1100px;\" title=\"transformer-architecture\">\n"
   ]
  },
  {
   "cell_type": "markdown",
   "id": "4724358e",
   "metadata": {},
   "source": [
    "Note that the first attention layer in a decoder block pays attention to all (past) inputs to the decoder, but the second attention layer uses the output of the encoder. It can thus access the whole input sentence to best predict the current word. This is very useful as different languages can have grammatical rules that put the words in different orders, or some context provided later in the sentence may be helpful to determine the best translation of a given word.\n",
    "\n",
    "The <i>attention mask</i> can also be used in the encoder/decoder to prevent the model from paying attention to some special words — for instance, the special padding word used to make all the inputs the same length when batching together sentences."
   ]
  },
  {
   "cell_type": "markdown",
   "id": "c95c6f16",
   "metadata": {},
   "source": [
    "## Architectures vs. checkpoints"
   ]
  },
  {
   "cell_type": "markdown",
   "id": "9dd2665e",
   "metadata": {},
   "source": [
    "As we dive into Transformer models in this course, you’ll see mentions of <i>architectures</i> and <i>checkpoints</i> as well as <i>models</i>. These terms all have slightly different meanings:\n",
    "\n",
    "- <b>Architecture</b>: This is the skeleton of the model — the definition of each layer and each operation that happens within the model.\n",
    "- <b>Checkpoints</b>: These are the weights that will be loaded in a given architecture.\n",
    "- <b>Model</b>: This is an umbrella term that isn’t as precise as <i>“architecture”</i> or <i>“checkpoint”</i>: it can mean both. This course will specify architecture or checkpoint when it matters to reduce ambiguity.\n",
    "\n",
    "For example, BERT is an architecture while `bert-base-cased`, a set of weights trained by the Google team for the first release of BERT, is a checkpoint. However, one can say “the BERT model” and “the `bert-base-cased` model.”"
   ]
  },
  {
   "cell_type": "code",
   "execution_count": null,
   "id": "e9ed139b",
   "metadata": {},
   "outputs": [],
   "source": []
  }
 ],
 "metadata": {
  "kernelspec": {
   "display_name": "fastai_related",
   "language": "python",
   "name": "fastai_related"
  },
  "language_info": {
   "codemirror_mode": {
    "name": "ipython",
    "version": 3
   },
   "file_extension": ".py",
   "mimetype": "text/x-python",
   "name": "python",
   "nbconvert_exporter": "python",
   "pygments_lexer": "ipython3",
   "version": "3.10.5"
  },
  "toc": {
   "base_numbering": 1,
   "nav_menu": {},
   "number_sections": true,
   "sideBar": true,
   "skip_h1_title": false,
   "title_cell": "Table of Contents",
   "title_sidebar": "Contents",
   "toc_cell": false,
   "toc_position": {
    "height": "calc(100% - 180px)",
    "left": "10px",
    "top": "150px",
    "width": "384px"
   },
   "toc_section_display": true,
   "toc_window_display": true
  }
 },
 "nbformat": 4,
 "nbformat_minor": 5
}
