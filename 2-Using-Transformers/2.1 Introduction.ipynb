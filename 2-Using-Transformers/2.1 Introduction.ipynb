{
 "cells": [
  {
   "cell_type": "markdown",
   "id": "d560531e",
   "metadata": {
    "ExecuteTime": {
     "end_time": "2023-07-04T02:50:31.162712Z",
     "start_time": "2023-07-04T02:50:31.144195Z"
    }
   },
   "source": [
    "source: https://huggingface.co/learn/nlp-course/chapter2/1?fw=pt"
   ]
  },
  {
   "cell_type": "markdown",
   "id": "5be7886c",
   "metadata": {},
   "source": [
    "# Introduction"
   ]
  },
  {
   "cell_type": "markdown",
   "id": "916ac3c7",
   "metadata": {},
   "source": [
    "As you saw in Chapter 1, <span style=\"color:blue\">Transformer models are usually very large. With millions to tens of billions of parameters, training and deploying these models is a complicated undertaking</span>. Furthermore, with new models being released on a near-daily basis and each having its own implementation, trying them all out is no easy task.\n",
    "\n",
    "The 🤗 Transformers library was created to solve this problem. Its <span style=\"color:blue\"><b>goal is to provide a single API through which any Transformer model can be loaded, trained, and saved</b></span>. The library’s main features are:\n",
    "\n",
    "- <b>Ease of use</b>: Downloading, loading, and using a state-of-the-art NLP model for inference can be done in just two lines of code.\n",
    "- <b>Flexibility</b>: At their core, all models are simple PyTorch `nn.Module` or TensorFlow `tf.keras.Model` classes and can be handled like any other models in their respective machine learning (ML) frameworks.\n",
    "- <b>Simplicity</b>: Hardly any abstractions are made across the library. The “All in one file” is a core concept: a model’s forward pass is entirely defined in a single file, so that the code itself is understandable and hackable.\n",
    "\n",
    "This last feature makes 🤗 Transformers quite different from other ML libraries. The models are not built on modules that are shared across files; instead, each model has its own layers. In addition to making the models more approachable and understandable, this allows you to easily experiment on one model without affecting others.\n",
    "\n",
    "<span style=\"color:green\">This chapter will begin with an end-to-end example where we use a model and a tokenizer together to replicate the `pipeline()` function introduced in Chapter 1. Next, we’ll discuss the <b>model API</b>: we’ll dive into the model and configuration classes, and show you how to load a model and how it processes numerical inputs to output predictions.</span>\n",
    "\n",
    "<span style=\"color:green\">Then we’ll look at the <b>tokenizer API</b>, which is the other main component of the `pipeline()` function. Tokenizers take care of the first and last processing steps, handling the conversion from text to numerical inputs for the neural network, and the conversion back to text when it is needed. Finally, we’ll show you how to handle sending multiple sentences through a model in a prepared batch, then wrap it all up with a closer look at the high-level `tokenizer()` function.</span>"
   ]
  },
  {
   "cell_type": "code",
   "execution_count": null,
   "id": "5e167227",
   "metadata": {},
   "outputs": [],
   "source": []
  }
 ],
 "metadata": {
  "kernelspec": {
   "display_name": "fastai_related",
   "language": "python",
   "name": "fastai_related"
  },
  "language_info": {
   "codemirror_mode": {
    "name": "ipython",
    "version": 3
   },
   "file_extension": ".py",
   "mimetype": "text/x-python",
   "name": "python",
   "nbconvert_exporter": "python",
   "pygments_lexer": "ipython3",
   "version": "3.10.5"
  },
  "toc": {
   "base_numbering": 1,
   "nav_menu": {},
   "number_sections": true,
   "sideBar": true,
   "skip_h1_title": false,
   "title_cell": "Table of Contents",
   "title_sidebar": "Contents",
   "toc_cell": false,
   "toc_position": {},
   "toc_section_display": true,
   "toc_window_display": false
  }
 },
 "nbformat": 4,
 "nbformat_minor": 5
}
